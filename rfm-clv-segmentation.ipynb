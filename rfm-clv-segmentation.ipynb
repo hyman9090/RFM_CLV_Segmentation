{
 "cells": [
  {
   "cell_type": "markdown",
   "id": "ba779725",
   "metadata": {
    "papermill": {
     "duration": 0.030923,
     "end_time": "2024-06-15T16:11:45.382124",
     "exception": false,
     "start_time": "2024-06-15T16:11:45.351201",
     "status": "completed"
    },
    "tags": []
   },
   "source": [
    "## RFM Analysis"
   ]
  },
  {
   "cell_type": "markdown",
   "id": "be8db357",
   "metadata": {
    "papermill": {
     "duration": 0.032373,
     "end_time": "2024-06-15T16:11:45.445816",
     "exception": false,
     "start_time": "2024-06-15T16:11:45.413443",
     "status": "completed"
    },
    "tags": []
   },
   "source": [
    "**RFM Analysis Overview:**\n",
    "\n",
    "- RFM stands for Recency, Frequency, and Monetary.\n",
    "- RFM Analysis is a technique used for customer segmentation.\n",
    "- It involves grouping customers based on their purchasing habits and allows for the development of tailored strategies for each group.\n",
    "- RFM provides various data-driven actions for CRM efforts.\n",
    "\n",
    "**RFM Metrics:**\n",
    "\n",
    "1. **Recency (R):** Indicates how recently a customer made a purchase. For example, if we have two customers with Recency values of 1 and 10, the one with a Recency value of 1 is more valuable as they made a purchase just one day ago (on a daily basis).\n",
    "\n",
    "2. **Frequency (F):** Represents the total number of purchases/transactions a customer has made.\n",
    "\n",
    "3. **Monetary (M):** Reflects the monetary value that customers have contributed to the business.\n",
    "\n",
    "---\n",
    "**RFM Scoring:**\n",
    "\n",
    "- To standardize the RFM metrics, they are transformed into scores ranging from 1 to 5, from the smallest (least recent, least frequent, or least monetary) to the largest. However, for Recency, the score is assigned inversely; the smallest Recency gets the highest score.\n",
    "\n",
    "- An RFM score is represented by writing the R, F, and M scores together. For example, if a customer has an R score of 5, F score of 4, and M score of 2, their RFM score would be written as - 542.\n",
    "\n",
    "- When segmenting customers, it is often more important for the customer to interact with the site and make a purchase rather than their monetary value. The frequency and recency of their interactions are often of greater significance. Hence, segmenting based on two dimensions (R-F) can be a valuable approach.\n",
    "\n",
    "- Once customer segmentation is complete, departments can begin their campaign operations tailored to these segments."
   ]
  },
  {
   "cell_type": "markdown",
   "id": "d17ab850",
   "metadata": {
    "papermill": {
     "duration": 0.030364,
     "end_time": "2024-06-15T16:11:45.506966",
     "exception": false,
     "start_time": "2024-06-15T16:11:45.476602",
     "status": "completed"
    },
    "tags": []
   },
   "source": [
    "## Business Problem"
   ]
  },
  {
   "cell_type": "markdown",
   "id": "62f01790",
   "metadata": {
    "papermill": {
     "duration": 0.030738,
     "end_time": "2024-06-15T16:11:45.568771",
     "exception": false,
     "start_time": "2024-06-15T16:11:45.538033",
     "status": "completed"
    },
    "tags": []
   },
   "source": [
    "This Online Retail II data set contains all the transactions occurring for a UK-based and registered, non-store online retail between 01/12/2009 and 09/12/2011.The company mainly sells unique all-occasion gift-ware. Many customers of the company are wholesalers.\n",
    "\n",
    "Source: [https://archive.ics.uci.edu/dataset/502/online+retail+ii](https://archive.ics.uci.edu/dataset/502/online+retail+ii)"
   ]
  },
  {
   "cell_type": "code",
   "execution_count": 1,
   "id": "22a3741f",
   "metadata": {
    "execution": {
     "iopub.execute_input": "2024-06-15T16:11:45.632290Z",
     "iopub.status.busy": "2024-06-15T16:11:45.631875Z",
     "iopub.status.idle": "2024-06-15T16:11:48.386184Z",
     "shell.execute_reply": "2024-06-15T16:11:48.385014Z"
    },
    "papermill": {
     "duration": 2.789661,
     "end_time": "2024-06-15T16:11:48.389114",
     "exception": false,
     "start_time": "2024-06-15T16:11:45.599453",
     "status": "completed"
    },
    "tags": []
   },
   "outputs": [],
   "source": [
    "import requests\n",
    "from io import BytesIO\n",
    "from zipfile import ZipFile\n",
    "import pandas as pd\n",
    "import numpy as np\n",
    "import matplotlib.pyplot as plt\n",
    "import seaborn as sns\n",
    "import squarify"
   ]
  },
  {
   "cell_type": "code",
   "execution_count": 2,
   "id": "e3e5fefe",
   "metadata": {
    "execution": {
     "iopub.execute_input": "2024-06-15T16:11:48.454960Z",
     "iopub.status.busy": "2024-06-15T16:11:48.454355Z",
     "iopub.status.idle": "2024-06-15T16:13:35.854179Z",
     "shell.execute_reply": "2024-06-15T16:13:35.852909Z"
    },
    "papermill": {
     "duration": 107.43658,
     "end_time": "2024-06-15T16:13:35.857106",
     "exception": false,
     "start_time": "2024-06-15T16:11:48.420526",
     "status": "completed"
    },
    "tags": []
   },
   "outputs": [],
   "source": [
    "data_zip = requests.get(\n",
    "    \"https://archive.ics.uci.edu/static/public/502/online+retail+ii.zip\"\n",
    ")\n",
    "data_unzipped = ZipFile(BytesIO(data_zip.content))\n",
    "zip_namelist = data_unzipped.namelist()[0]\n",
    "df = pd.read_excel(BytesIO(data_unzipped.read(zip_namelist)))"
   ]
  },
  {
   "cell_type": "markdown",
   "id": "2467457c",
   "metadata": {
    "papermill": {
     "duration": 0.032094,
     "end_time": "2024-06-15T16:13:35.921476",
     "exception": false,
     "start_time": "2024-06-15T16:13:35.889382",
     "status": "completed"
    },
    "tags": []
   },
   "source": [
    "### Eploratory Data Analysis (EDA)"
   ]
  },
  {
   "cell_type": "code",
   "execution_count": 3,
   "id": "5420bd78",
   "metadata": {
    "execution": {
     "iopub.execute_input": "2024-06-15T16:13:35.987148Z",
     "iopub.status.busy": "2024-06-15T16:13:35.986444Z",
     "iopub.status.idle": "2024-06-15T16:13:36.185299Z",
     "shell.execute_reply": "2024-06-15T16:13:36.184104Z"
    },
    "papermill": {
     "duration": 0.234489,
     "end_time": "2024-06-15T16:13:36.188197",
     "exception": false,
     "start_time": "2024-06-15T16:13:35.953708",
     "status": "completed"
    },
    "tags": []
   },
   "outputs": [
    {
     "data": {
      "text/html": [
       "<div>\n",
       "<style scoped>\n",
       "    .dataframe tbody tr th:only-of-type {\n",
       "        vertical-align: middle;\n",
       "    }\n",
       "\n",
       "    .dataframe tbody tr th {\n",
       "        vertical-align: top;\n",
       "    }\n",
       "\n",
       "    .dataframe thead th {\n",
       "        text-align: right;\n",
       "    }\n",
       "</style>\n",
       "<table border=\"1\" class=\"dataframe\">\n",
       "  <thead>\n",
       "    <tr style=\"text-align: right;\">\n",
       "      <th></th>\n",
       "      <th>Invoice</th>\n",
       "      <th>StockCode</th>\n",
       "      <th>Description</th>\n",
       "      <th>Quantity</th>\n",
       "      <th>InvoiceDate</th>\n",
       "      <th>Price</th>\n",
       "      <th>Customer ID</th>\n",
       "      <th>Country</th>\n",
       "    </tr>\n",
       "  </thead>\n",
       "  <tbody>\n",
       "    <tr>\n",
       "      <th>0</th>\n",
       "      <td>489434</td>\n",
       "      <td>85048</td>\n",
       "      <td>15CM CHRISTMAS GLASS BALL 20 LIGHTS</td>\n",
       "      <td>12</td>\n",
       "      <td>2009-12-01 07:45:00</td>\n",
       "      <td>6.95</td>\n",
       "      <td>13085.0</td>\n",
       "      <td>United Kingdom</td>\n",
       "    </tr>\n",
       "    <tr>\n",
       "      <th>1</th>\n",
       "      <td>489434</td>\n",
       "      <td>79323P</td>\n",
       "      <td>PINK CHERRY LIGHTS</td>\n",
       "      <td>12</td>\n",
       "      <td>2009-12-01 07:45:00</td>\n",
       "      <td>6.75</td>\n",
       "      <td>13085.0</td>\n",
       "      <td>United Kingdom</td>\n",
       "    </tr>\n",
       "    <tr>\n",
       "      <th>2</th>\n",
       "      <td>489434</td>\n",
       "      <td>79323W</td>\n",
       "      <td>WHITE CHERRY LIGHTS</td>\n",
       "      <td>12</td>\n",
       "      <td>2009-12-01 07:45:00</td>\n",
       "      <td>6.75</td>\n",
       "      <td>13085.0</td>\n",
       "      <td>United Kingdom</td>\n",
       "    </tr>\n",
       "    <tr>\n",
       "      <th>3</th>\n",
       "      <td>489434</td>\n",
       "      <td>22041</td>\n",
       "      <td>RECORD FRAME 7\" SINGLE SIZE</td>\n",
       "      <td>48</td>\n",
       "      <td>2009-12-01 07:45:00</td>\n",
       "      <td>2.10</td>\n",
       "      <td>13085.0</td>\n",
       "      <td>United Kingdom</td>\n",
       "    </tr>\n",
       "    <tr>\n",
       "      <th>4</th>\n",
       "      <td>489434</td>\n",
       "      <td>21232</td>\n",
       "      <td>STRAWBERRY CERAMIC TRINKET BOX</td>\n",
       "      <td>24</td>\n",
       "      <td>2009-12-01 07:45:00</td>\n",
       "      <td>1.25</td>\n",
       "      <td>13085.0</td>\n",
       "      <td>United Kingdom</td>\n",
       "    </tr>\n",
       "  </tbody>\n",
       "</table>\n",
       "</div>"
      ],
      "text/plain": [
       "  Invoice StockCode                          Description  Quantity  \\\n",
       "0  489434     85048  15CM CHRISTMAS GLASS BALL 20 LIGHTS        12   \n",
       "1  489434    79323P                   PINK CHERRY LIGHTS        12   \n",
       "2  489434    79323W                  WHITE CHERRY LIGHTS        12   \n",
       "3  489434     22041         RECORD FRAME 7\" SINGLE SIZE         48   \n",
       "4  489434     21232       STRAWBERRY CERAMIC TRINKET BOX        24   \n",
       "\n",
       "          InvoiceDate  Price  Customer ID         Country  \n",
       "0 2009-12-01 07:45:00   6.95      13085.0  United Kingdom  \n",
       "1 2009-12-01 07:45:00   6.75      13085.0  United Kingdom  \n",
       "2 2009-12-01 07:45:00   6.75      13085.0  United Kingdom  \n",
       "3 2009-12-01 07:45:00   2.10      13085.0  United Kingdom  \n",
       "4 2009-12-01 07:45:00   1.25      13085.0  United Kingdom  "
      ]
     },
     "execution_count": 3,
     "metadata": {},
     "output_type": "execute_result"
    }
   ],
   "source": [
    "df.head()"
   ]
  },
  {
   "cell_type": "code",
   "execution_count": 4,
   "id": "cdb35494",
   "metadata": {
    "execution": {
     "iopub.execute_input": "2024-06-15T16:13:36.257439Z",
     "iopub.status.busy": "2024-06-15T16:13:36.257028Z",
     "iopub.status.idle": "2024-06-15T16:13:36.266228Z",
     "shell.execute_reply": "2024-06-15T16:13:36.264543Z"
    },
    "papermill": {
     "duration": 0.047043,
     "end_time": "2024-06-15T16:13:36.269228",
     "exception": false,
     "start_time": "2024-06-15T16:13:36.222185",
     "status": "completed"
    },
    "tags": []
   },
   "outputs": [
    {
     "data": {
      "text/plain": [
       "Index(['Invoice', 'StockCode', 'Description', 'Quantity', 'InvoiceDate',\n",
       "       'Price', 'Customer ID', 'Country'],\n",
       "      dtype='object')"
      ]
     },
     "execution_count": 4,
     "metadata": {},
     "output_type": "execute_result"
    }
   ],
   "source": [
    "df.columns"
   ]
  },
  {
   "cell_type": "code",
   "execution_count": 5,
   "id": "a20a87a8",
   "metadata": {
    "execution": {
     "iopub.execute_input": "2024-06-15T16:13:36.335037Z",
     "iopub.status.busy": "2024-06-15T16:13:36.334656Z",
     "iopub.status.idle": "2024-06-15T16:13:36.341924Z",
     "shell.execute_reply": "2024-06-15T16:13:36.340714Z"
    },
    "papermill": {
     "duration": 0.043714,
     "end_time": "2024-06-15T16:13:36.344587",
     "exception": false,
     "start_time": "2024-06-15T16:13:36.300873",
     "status": "completed"
    },
    "tags": []
   },
   "outputs": [
    {
     "data": {
      "text/plain": [
       "(525461, 8)"
      ]
     },
     "execution_count": 5,
     "metadata": {},
     "output_type": "execute_result"
    }
   ],
   "source": [
    "df.shape"
   ]
  },
  {
   "cell_type": "code",
   "execution_count": 6,
   "id": "218b41ad",
   "metadata": {
    "execution": {
     "iopub.execute_input": "2024-06-15T16:13:36.474459Z",
     "iopub.status.busy": "2024-06-15T16:13:36.474073Z",
     "iopub.status.idle": "2024-06-15T16:13:37.139941Z",
     "shell.execute_reply": "2024-06-15T16:13:37.138338Z"
    },
    "papermill": {
     "duration": 0.76652,
     "end_time": "2024-06-15T16:13:37.142809",
     "exception": false,
     "start_time": "2024-06-15T16:13:36.376289",
     "status": "completed"
    },
    "tags": []
   },
   "outputs": [
    {
     "data": {
      "text/html": [
       "<div>\n",
       "<style scoped>\n",
       "    .dataframe tbody tr th:only-of-type {\n",
       "        vertical-align: middle;\n",
       "    }\n",
       "\n",
       "    .dataframe tbody tr th {\n",
       "        vertical-align: top;\n",
       "    }\n",
       "\n",
       "    .dataframe thead th {\n",
       "        text-align: right;\n",
       "    }\n",
       "</style>\n",
       "<table border=\"1\" class=\"dataframe\">\n",
       "  <thead>\n",
       "    <tr style=\"text-align: right;\">\n",
       "      <th></th>\n",
       "      <th>Invoice</th>\n",
       "      <th>StockCode</th>\n",
       "      <th>Description</th>\n",
       "      <th>Quantity</th>\n",
       "      <th>Price</th>\n",
       "      <th>Customer ID</th>\n",
       "      <th>Country</th>\n",
       "    </tr>\n",
       "  </thead>\n",
       "  <tbody>\n",
       "    <tr>\n",
       "      <th>count</th>\n",
       "      <td>525461.0</td>\n",
       "      <td>525461</td>\n",
       "      <td>522533</td>\n",
       "      <td>525461.000000</td>\n",
       "      <td>525461.000000</td>\n",
       "      <td>417534.000000</td>\n",
       "      <td>525461</td>\n",
       "    </tr>\n",
       "    <tr>\n",
       "      <th>unique</th>\n",
       "      <td>28816.0</td>\n",
       "      <td>4632</td>\n",
       "      <td>4681</td>\n",
       "      <td>NaN</td>\n",
       "      <td>NaN</td>\n",
       "      <td>NaN</td>\n",
       "      <td>40</td>\n",
       "    </tr>\n",
       "    <tr>\n",
       "      <th>top</th>\n",
       "      <td>537434.0</td>\n",
       "      <td>85123A</td>\n",
       "      <td>WHITE HANGING HEART T-LIGHT HOLDER</td>\n",
       "      <td>NaN</td>\n",
       "      <td>NaN</td>\n",
       "      <td>NaN</td>\n",
       "      <td>United Kingdom</td>\n",
       "    </tr>\n",
       "    <tr>\n",
       "      <th>freq</th>\n",
       "      <td>675.0</td>\n",
       "      <td>3516</td>\n",
       "      <td>3549</td>\n",
       "      <td>NaN</td>\n",
       "      <td>NaN</td>\n",
       "      <td>NaN</td>\n",
       "      <td>485852</td>\n",
       "    </tr>\n",
       "    <tr>\n",
       "      <th>mean</th>\n",
       "      <td>NaN</td>\n",
       "      <td>NaN</td>\n",
       "      <td>NaN</td>\n",
       "      <td>10.337667</td>\n",
       "      <td>4.688834</td>\n",
       "      <td>15360.645478</td>\n",
       "      <td>NaN</td>\n",
       "    </tr>\n",
       "    <tr>\n",
       "      <th>std</th>\n",
       "      <td>NaN</td>\n",
       "      <td>NaN</td>\n",
       "      <td>NaN</td>\n",
       "      <td>107.424110</td>\n",
       "      <td>146.126914</td>\n",
       "      <td>1680.811316</td>\n",
       "      <td>NaN</td>\n",
       "    </tr>\n",
       "    <tr>\n",
       "      <th>min</th>\n",
       "      <td>NaN</td>\n",
       "      <td>NaN</td>\n",
       "      <td>NaN</td>\n",
       "      <td>-9600.000000</td>\n",
       "      <td>-53594.360000</td>\n",
       "      <td>12346.000000</td>\n",
       "      <td>NaN</td>\n",
       "    </tr>\n",
       "    <tr>\n",
       "      <th>25%</th>\n",
       "      <td>NaN</td>\n",
       "      <td>NaN</td>\n",
       "      <td>NaN</td>\n",
       "      <td>1.000000</td>\n",
       "      <td>1.250000</td>\n",
       "      <td>13983.000000</td>\n",
       "      <td>NaN</td>\n",
       "    </tr>\n",
       "    <tr>\n",
       "      <th>50%</th>\n",
       "      <td>NaN</td>\n",
       "      <td>NaN</td>\n",
       "      <td>NaN</td>\n",
       "      <td>3.000000</td>\n",
       "      <td>2.100000</td>\n",
       "      <td>15311.000000</td>\n",
       "      <td>NaN</td>\n",
       "    </tr>\n",
       "    <tr>\n",
       "      <th>75%</th>\n",
       "      <td>NaN</td>\n",
       "      <td>NaN</td>\n",
       "      <td>NaN</td>\n",
       "      <td>10.000000</td>\n",
       "      <td>4.210000</td>\n",
       "      <td>16799.000000</td>\n",
       "      <td>NaN</td>\n",
       "    </tr>\n",
       "    <tr>\n",
       "      <th>max</th>\n",
       "      <td>NaN</td>\n",
       "      <td>NaN</td>\n",
       "      <td>NaN</td>\n",
       "      <td>19152.000000</td>\n",
       "      <td>25111.090000</td>\n",
       "      <td>18287.000000</td>\n",
       "      <td>NaN</td>\n",
       "    </tr>\n",
       "  </tbody>\n",
       "</table>\n",
       "</div>"
      ],
      "text/plain": [
       "         Invoice StockCode                         Description       Quantity  \\\n",
       "count   525461.0    525461                              522533  525461.000000   \n",
       "unique   28816.0      4632                                4681            NaN   \n",
       "top     537434.0    85123A  WHITE HANGING HEART T-LIGHT HOLDER            NaN   \n",
       "freq       675.0      3516                                3549            NaN   \n",
       "mean         NaN       NaN                                 NaN      10.337667   \n",
       "std          NaN       NaN                                 NaN     107.424110   \n",
       "min          NaN       NaN                                 NaN   -9600.000000   \n",
       "25%          NaN       NaN                                 NaN       1.000000   \n",
       "50%          NaN       NaN                                 NaN       3.000000   \n",
       "75%          NaN       NaN                                 NaN      10.000000   \n",
       "max          NaN       NaN                                 NaN   19152.000000   \n",
       "\n",
       "                Price    Customer ID         Country  \n",
       "count   525461.000000  417534.000000          525461  \n",
       "unique            NaN            NaN              40  \n",
       "top               NaN            NaN  United Kingdom  \n",
       "freq              NaN            NaN          485852  \n",
       "mean         4.688834   15360.645478             NaN  \n",
       "std        146.126914    1680.811316             NaN  \n",
       "min     -53594.360000   12346.000000             NaN  \n",
       "25%          1.250000   13983.000000             NaN  \n",
       "50%          2.100000   15311.000000             NaN  \n",
       "75%          4.210000   16799.000000             NaN  \n",
       "max      25111.090000   18287.000000             NaN  "
      ]
     },
     "execution_count": 6,
     "metadata": {},
     "output_type": "execute_result"
    }
   ],
   "source": [
    "df.describe(include=[\"int\", \"float\", \"object\"])"
   ]
  },
  {
   "cell_type": "markdown",
   "id": "81426d11",
   "metadata": {
    "papermill": {
     "duration": 0.032899,
     "end_time": "2024-06-15T16:13:37.209764",
     "exception": false,
     "start_time": "2024-06-15T16:13:37.176865",
     "status": "completed"
    },
    "tags": []
   },
   "source": [
    "#### Features\n",
    "\n",
    "1. **InvoiceNo:** Invoice number, a unique number assigned to each transaction or invoice. If it starts with 'C,' it indicates a canceled transaction.\n",
    "2. **StockCode:** Product code, a unique number for each product.\n",
    "3. **Description:** Product name.\n",
    "4. **Quantity:** Quantity of products, indicating how many of the products on the invoices were sold.\n",
    "5. **InvoiceDate:** Invoice date and time.\n",
    "6. **UnitPrice:** Product price (in pounds).\n",
    "7. **CustomerID:** Unique customer number.\n",
    "8. **Country:** Name of the country where the customer resides."
   ]
  },
  {
   "cell_type": "markdown",
   "id": "15f5b24c",
   "metadata": {
    "papermill": {
     "duration": 0.032005,
     "end_time": "2024-06-15T16:13:37.274322",
     "exception": false,
     "start_time": "2024-06-15T16:13:37.242317",
     "status": "completed"
    },
    "tags": []
   },
   "source": [
    "#### Comment:\n",
    "- Invoice: There can be multiple identical values for invoices because it represents the invoice number. Multiple similar lines are normal because a single order can contain multiple products.\n",
    "- Quantity: It indicates the quantity of items sold.\n",
    "- Price: It provides the selling price of a product.\n",
    "- Therefore, when calculating the total revenue from an invoice, you need to perform the **`\"Quantity * Price\"`** operation for all the lines associated with that invoice and sum them up."
   ]
  },
  {
   "cell_type": "code",
   "execution_count": 7,
   "id": "268892bd",
   "metadata": {
    "execution": {
     "iopub.execute_input": "2024-06-15T16:13:37.341020Z",
     "iopub.status.busy": "2024-06-15T16:13:37.340032Z",
     "iopub.status.idle": "2024-06-15T16:13:37.580087Z",
     "shell.execute_reply": "2024-06-15T16:13:37.578895Z"
    },
    "papermill": {
     "duration": 0.27683,
     "end_time": "2024-06-15T16:13:37.582789",
     "exception": false,
     "start_time": "2024-06-15T16:13:37.305959",
     "status": "completed"
    },
    "tags": []
   },
   "outputs": [
    {
     "data": {
      "text/plain": [
       "Invoice             0\n",
       "StockCode           0\n",
       "Description      2928\n",
       "Quantity            0\n",
       "InvoiceDate         0\n",
       "Price               0\n",
       "Customer ID    107927\n",
       "Country             0\n",
       "dtype: int64"
      ]
     },
     "execution_count": 7,
     "metadata": {},
     "output_type": "execute_result"
    }
   ],
   "source": [
    "# check how many missing in the dataset and in each variable\n",
    "\n",
    "df.isnull().sum()"
   ]
  },
  {
   "cell_type": "code",
   "execution_count": 8,
   "id": "10fc1d86",
   "metadata": {
    "execution": {
     "iopub.execute_input": "2024-06-15T16:13:37.652272Z",
     "iopub.status.busy": "2024-06-15T16:13:37.651867Z",
     "iopub.status.idle": "2024-06-15T16:13:37.685873Z",
     "shell.execute_reply": "2024-06-15T16:13:37.684571Z"
    },
    "papermill": {
     "duration": 0.071488,
     "end_time": "2024-06-15T16:13:37.688655",
     "exception": false,
     "start_time": "2024-06-15T16:13:37.617167",
     "status": "completed"
    },
    "tags": []
   },
   "outputs": [
    {
     "name": "stdout",
     "output_type": "stream",
     "text": [
      "Number of unique product:  4681\n"
     ]
    }
   ],
   "source": [
    "# How many unique product does the dataset contain?\n",
    "\n",
    "print(\"Number of unique product: \", df.Description.nunique())"
   ]
  },
  {
   "cell_type": "code",
   "execution_count": 9,
   "id": "f11593fd",
   "metadata": {
    "execution": {
     "iopub.execute_input": "2024-06-15T16:13:37.757231Z",
     "iopub.status.busy": "2024-06-15T16:13:37.756171Z",
     "iopub.status.idle": "2024-06-15T16:13:37.845019Z",
     "shell.execute_reply": "2024-06-15T16:13:37.843861Z"
    },
    "papermill": {
     "duration": 0.127092,
     "end_time": "2024-06-15T16:13:37.848094",
     "exception": false,
     "start_time": "2024-06-15T16:13:37.721002",
     "status": "completed"
    },
    "tags": []
   },
   "outputs": [
    {
     "data": {
      "text/plain": [
       "Description\n",
       "WHITE HANGING HEART T-LIGHT HOLDER    3549\n",
       "REGENCY CAKESTAND 3 TIER              2212\n",
       "STRAWBERRY CERAMIC TRINKET BOX        1843\n",
       "PACK OF 72 RETRO SPOT CAKE CASES      1466\n",
       "ASSORTED COLOUR BIRD ORNAMENT         1457\n",
       "60 TEATIME FAIRY CAKE CASES           1400\n",
       "HOME BUILDING BLOCK WORD              1386\n",
       "JUMBO BAG RED RETROSPOT               1310\n",
       "LUNCH BAG RED SPOTTY                  1274\n",
       "REX CASH+CARRY JUMBO SHOPPER          1232\n",
       "Name: count, dtype: int64"
      ]
     },
     "execution_count": 9,
     "metadata": {},
     "output_type": "execute_result"
    }
   ],
   "source": [
    "df.Description.value_counts().head(10)"
   ]
  },
  {
   "cell_type": "code",
   "execution_count": 10,
   "id": "a9d750a4",
   "metadata": {
    "execution": {
     "iopub.execute_input": "2024-06-15T16:13:37.917687Z",
     "iopub.status.busy": "2024-06-15T16:13:37.917295Z",
     "iopub.status.idle": "2024-06-15T16:13:38.052507Z",
     "shell.execute_reply": "2024-06-15T16:13:38.051301Z"
    },
    "papermill": {
     "duration": 0.172771,
     "end_time": "2024-06-15T16:13:38.055261",
     "exception": false,
     "start_time": "2024-06-15T16:13:37.882490",
     "status": "completed"
    },
    "tags": []
   },
   "outputs": [
    {
     "data": {
      "text/html": [
       "<div>\n",
       "<style scoped>\n",
       "    .dataframe tbody tr th:only-of-type {\n",
       "        vertical-align: middle;\n",
       "    }\n",
       "\n",
       "    .dataframe tbody tr th {\n",
       "        vertical-align: top;\n",
       "    }\n",
       "\n",
       "    .dataframe thead th {\n",
       "        text-align: right;\n",
       "    }\n",
       "</style>\n",
       "<table border=\"1\" class=\"dataframe\">\n",
       "  <thead>\n",
       "    <tr style=\"text-align: right;\">\n",
       "      <th></th>\n",
       "      <th>Quantity</th>\n",
       "    </tr>\n",
       "    <tr>\n",
       "      <th>Description</th>\n",
       "      <th></th>\n",
       "    </tr>\n",
       "  </thead>\n",
       "  <tbody>\n",
       "    <tr>\n",
       "      <th>WHITE HANGING HEART T-LIGHT HOLDER</th>\n",
       "      <td>57733</td>\n",
       "    </tr>\n",
       "    <tr>\n",
       "      <th>WORLD WAR 2 GLIDERS ASSTD DESIGNS</th>\n",
       "      <td>54698</td>\n",
       "    </tr>\n",
       "    <tr>\n",
       "      <th>BROCADE RING PURSE</th>\n",
       "      <td>47647</td>\n",
       "    </tr>\n",
       "    <tr>\n",
       "      <th>PACK OF 72 RETRO SPOT CAKE CASES</th>\n",
       "      <td>46106</td>\n",
       "    </tr>\n",
       "    <tr>\n",
       "      <th>ASSORTED COLOUR BIRD ORNAMENT</th>\n",
       "      <td>44925</td>\n",
       "    </tr>\n",
       "    <tr>\n",
       "      <th>...</th>\n",
       "      <td>...</td>\n",
       "    </tr>\n",
       "    <tr>\n",
       "      <th>Zebra invcing error</th>\n",
       "      <td>-9000</td>\n",
       "    </tr>\n",
       "    <tr>\n",
       "      <th>ebay sales</th>\n",
       "      <td>-13630</td>\n",
       "    </tr>\n",
       "    <tr>\n",
       "      <th>missing</th>\n",
       "      <td>-15149</td>\n",
       "    </tr>\n",
       "    <tr>\n",
       "      <th>given away</th>\n",
       "      <td>-20000</td>\n",
       "    </tr>\n",
       "    <tr>\n",
       "      <th>?</th>\n",
       "      <td>-25373</td>\n",
       "    </tr>\n",
       "  </tbody>\n",
       "</table>\n",
       "<p>4681 rows × 1 columns</p>\n",
       "</div>"
      ],
      "text/plain": [
       "                                    Quantity\n",
       "Description                                 \n",
       "WHITE HANGING HEART T-LIGHT HOLDER     57733\n",
       "WORLD WAR 2 GLIDERS ASSTD DESIGNS      54698\n",
       "BROCADE RING PURSE                     47647\n",
       "PACK OF 72 RETRO SPOT CAKE CASES       46106\n",
       "ASSORTED COLOUR BIRD ORNAMENT          44925\n",
       "...                                      ...\n",
       "Zebra invcing error                    -9000\n",
       "ebay sales                            -13630\n",
       "missing                               -15149\n",
       "given away                            -20000\n",
       "?                                     -25373\n",
       "\n",
       "[4681 rows x 1 columns]"
      ]
     },
     "execution_count": 10,
     "metadata": {},
     "output_type": "execute_result"
    }
   ],
   "source": [
    "# The number of unique product sold\n",
    "\n",
    "(\n",
    "    df.groupby(\"Description\")\n",
    "    .agg(Quantity=pd.NamedAgg(column=\"Quantity\", aggfunc=\"sum\"))\n",
    "    .sort_values(\"Quantity\", ascending=False)\n",
    ")"
   ]
  },
  {
   "cell_type": "code",
   "execution_count": 11,
   "id": "ed850b48",
   "metadata": {
    "execution": {
     "iopub.execute_input": "2024-06-15T16:13:38.124683Z",
     "iopub.status.busy": "2024-06-15T16:13:38.124261Z",
     "iopub.status.idle": "2024-06-15T16:13:38.168197Z",
     "shell.execute_reply": "2024-06-15T16:13:38.166796Z"
    },
    "papermill": {
     "duration": 0.082079,
     "end_time": "2024-06-15T16:13:38.170983",
     "exception": false,
     "start_time": "2024-06-15T16:13:38.088904",
     "status": "completed"
    },
    "tags": []
   },
   "outputs": [
    {
     "name": "stdout",
     "output_type": "stream",
     "text": [
      "Number of unique transactions:  28816\n"
     ]
    }
   ],
   "source": [
    "# Number of unique transaction\n",
    "\n",
    "print(\"Number of unique transactions: \", df.Invoice.nunique())"
   ]
  },
  {
   "cell_type": "code",
   "execution_count": 12,
   "id": "9e9bdb58",
   "metadata": {
    "execution": {
     "iopub.execute_input": "2024-06-15T16:13:38.244910Z",
     "iopub.status.busy": "2024-06-15T16:13:38.244469Z",
     "iopub.status.idle": "2024-06-15T16:13:38.253702Z",
     "shell.execute_reply": "2024-06-15T16:13:38.252555Z"
    },
    "papermill": {
     "duration": 0.050831,
     "end_time": "2024-06-15T16:13:38.256320",
     "exception": false,
     "start_time": "2024-06-15T16:13:38.205489",
     "status": "completed"
    },
    "tags": []
   },
   "outputs": [],
   "source": [
    "df[\"TotalPrice\"] = df.Quantity * df.Price"
   ]
  },
  {
   "cell_type": "code",
   "execution_count": 13,
   "id": "79c3c2b8",
   "metadata": {
    "execution": {
     "iopub.execute_input": "2024-06-15T16:13:38.328884Z",
     "iopub.status.busy": "2024-06-15T16:13:38.328492Z",
     "iopub.status.idle": "2024-06-15T16:13:38.535641Z",
     "shell.execute_reply": "2024-06-15T16:13:38.534406Z"
    },
    "papermill": {
     "duration": 0.247969,
     "end_time": "2024-06-15T16:13:38.538632",
     "exception": false,
     "start_time": "2024-06-15T16:13:38.290663",
     "status": "completed"
    },
    "tags": []
   },
   "outputs": [
    {
     "data": {
      "text/html": [
       "<div>\n",
       "<style scoped>\n",
       "    .dataframe tbody tr th:only-of-type {\n",
       "        vertical-align: middle;\n",
       "    }\n",
       "\n",
       "    .dataframe tbody tr th {\n",
       "        vertical-align: top;\n",
       "    }\n",
       "\n",
       "    .dataframe thead th {\n",
       "        text-align: right;\n",
       "    }\n",
       "</style>\n",
       "<table border=\"1\" class=\"dataframe\">\n",
       "  <thead>\n",
       "    <tr style=\"text-align: right;\">\n",
       "      <th></th>\n",
       "      <th>TotalPrice</th>\n",
       "    </tr>\n",
       "    <tr>\n",
       "      <th>Invoice</th>\n",
       "      <th></th>\n",
       "    </tr>\n",
       "  </thead>\n",
       "  <tbody>\n",
       "    <tr>\n",
       "      <th>489434</th>\n",
       "      <td>505.30</td>\n",
       "    </tr>\n",
       "    <tr>\n",
       "      <th>489435</th>\n",
       "      <td>145.80</td>\n",
       "    </tr>\n",
       "    <tr>\n",
       "      <th>489436</th>\n",
       "      <td>630.33</td>\n",
       "    </tr>\n",
       "    <tr>\n",
       "      <th>489437</th>\n",
       "      <td>310.75</td>\n",
       "    </tr>\n",
       "    <tr>\n",
       "      <th>489438</th>\n",
       "      <td>2286.24</td>\n",
       "    </tr>\n",
       "    <tr>\n",
       "      <th>...</th>\n",
       "      <td>...</td>\n",
       "    </tr>\n",
       "    <tr>\n",
       "      <th>C538121</th>\n",
       "      <td>-12.75</td>\n",
       "    </tr>\n",
       "    <tr>\n",
       "      <th>C538122</th>\n",
       "      <td>-1.25</td>\n",
       "    </tr>\n",
       "    <tr>\n",
       "      <th>C538123</th>\n",
       "      <td>-7.50</td>\n",
       "    </tr>\n",
       "    <tr>\n",
       "      <th>C538124</th>\n",
       "      <td>-17.70</td>\n",
       "    </tr>\n",
       "    <tr>\n",
       "      <th>C538164</th>\n",
       "      <td>-1.95</td>\n",
       "    </tr>\n",
       "  </tbody>\n",
       "</table>\n",
       "<p>28816 rows × 1 columns</p>\n",
       "</div>"
      ],
      "text/plain": [
       "         TotalPrice\n",
       "Invoice            \n",
       "489434       505.30\n",
       "489435       145.80\n",
       "489436       630.33\n",
       "489437       310.75\n",
       "489438      2286.24\n",
       "...             ...\n",
       "C538121      -12.75\n",
       "C538122       -1.25\n",
       "C538123       -7.50\n",
       "C538124      -17.70\n",
       "C538164       -1.95\n",
       "\n",
       "[28816 rows x 1 columns]"
      ]
     },
     "execution_count": 13,
     "metadata": {},
     "output_type": "execute_result"
    }
   ],
   "source": [
    "df.groupby(\"Invoice\").agg(TotalPrice=pd.NamedAgg(column=\"TotalPrice\", aggfunc=\"sum\"))"
   ]
  },
  {
   "cell_type": "markdown",
   "id": "c06c8aae",
   "metadata": {
    "papermill": {
     "duration": 0.033935,
     "end_time": "2024-06-15T16:13:38.606245",
     "exception": false,
     "start_time": "2024-06-15T16:13:38.572310",
     "status": "completed"
    },
    "tags": []
   },
   "source": [
    "#### Observations:\n",
    "\n",
    "1. The data shape is (525461,8), meaning that if the variable count is less than 525,461, there are missing values in the variables.\n",
    "\n",
    "    - `Description` & `Customer ID` have missing values\n",
    "    \n",
    "    \n",
    "2. `Quantity` & `Price` contain negative values, where it should not happen. We need to drill deeper to see why.\n",
    "    "
   ]
  },
  {
   "cell_type": "code",
   "execution_count": 14,
   "id": "129d43ce",
   "metadata": {
    "execution": {
     "iopub.execute_input": "2024-06-15T16:13:38.676673Z",
     "iopub.status.busy": "2024-06-15T16:13:38.676268Z",
     "iopub.status.idle": "2024-06-15T16:13:38.741592Z",
     "shell.execute_reply": "2024-06-15T16:13:38.740402Z"
    },
    "papermill": {
     "duration": 0.10361,
     "end_time": "2024-06-15T16:13:38.744335",
     "exception": false,
     "start_time": "2024-06-15T16:13:38.640725",
     "status": "completed"
    },
    "tags": []
   },
   "outputs": [
    {
     "data": {
      "text/plain": [
       "(2928, 9)"
      ]
     },
     "execution_count": 14,
     "metadata": {},
     "output_type": "execute_result"
    }
   ],
   "source": [
    "# Observation 1: See what can we observe by seeing Description is null\n",
    "\n",
    "(df.loc[df.Description.isna()]).shape"
   ]
  },
  {
   "cell_type": "code",
   "execution_count": 15,
   "id": "e443e516",
   "metadata": {
    "execution": {
     "iopub.execute_input": "2024-06-15T16:13:38.815481Z",
     "iopub.status.busy": "2024-06-15T16:13:38.815041Z",
     "iopub.status.idle": "2024-06-15T16:13:38.837641Z",
     "shell.execute_reply": "2024-06-15T16:13:38.836165Z"
    },
    "papermill": {
     "duration": 0.061922,
     "end_time": "2024-06-15T16:13:38.840600",
     "exception": false,
     "start_time": "2024-06-15T16:13:38.778678",
     "status": "completed"
    },
    "tags": []
   },
   "outputs": [
    {
     "data": {
      "text/plain": [
       "(107927, 9)"
      ]
     },
     "execution_count": 15,
     "metadata": {},
     "output_type": "execute_result"
    }
   ],
   "source": [
    "# Observation 1: See what can we observe by seeing Customer ID is null\n",
    "\n",
    "(df.loc[df['Customer ID'].isna()]).shape"
   ]
  },
  {
   "cell_type": "code",
   "execution_count": 16,
   "id": "0a6eab44",
   "metadata": {
    "execution": {
     "iopub.execute_input": "2024-06-15T16:13:38.909270Z",
     "iopub.status.busy": "2024-06-15T16:13:38.908857Z",
     "iopub.status.idle": "2024-06-15T16:13:38.956529Z",
     "shell.execute_reply": "2024-06-15T16:13:38.955147Z"
    },
    "papermill": {
     "duration": 0.085412,
     "end_time": "2024-06-15T16:13:38.959451",
     "exception": false,
     "start_time": "2024-06-15T16:13:38.874039",
     "status": "completed"
    },
    "tags": []
   },
   "outputs": [
    {
     "data": {
      "text/plain": [
       "(417534, 9)"
      ]
     },
     "execution_count": 16,
     "metadata": {},
     "output_type": "execute_result"
    }
   ],
   "source": [
    "df_new = (df.loc[~((df.Quantity.isna()) | (df['Customer ID'].isna())) ])\n",
    "df_new.shape"
   ]
  },
  {
   "cell_type": "markdown",
   "id": "421cd7f5",
   "metadata": {
    "papermill": {
     "duration": 0.034712,
     "end_time": "2024-06-15T16:13:39.028587",
     "exception": false,
     "start_time": "2024-06-15T16:13:38.993875",
     "status": "completed"
    },
    "tags": []
   },
   "source": [
    "**Action to Observation 1:**\n",
    "\n",
    "As `Customer ID` & `Description` are the necessary variables to let us identify every individual customer and product, plus there are no supplementary information to impute these two variables. We are going to discard them.\n",
    "\n",
    "All the missing values in `Description` & `Customer ID` added up is 107,927 out of 525,461, it is about 20.54%.\n",
    "After taking them out, there will be remaining 417,534 data."
   ]
  },
  {
   "cell_type": "code",
   "execution_count": 17,
   "id": "39108d1e",
   "metadata": {
    "execution": {
     "iopub.execute_input": "2024-06-15T16:13:39.099744Z",
     "iopub.status.busy": "2024-06-15T16:13:39.099330Z",
     "iopub.status.idle": "2024-06-15T16:13:39.130278Z",
     "shell.execute_reply": "2024-06-15T16:13:39.129100Z"
    },
    "papermill": {
     "duration": 0.070298,
     "end_time": "2024-06-15T16:13:39.133027",
     "exception": false,
     "start_time": "2024-06-15T16:13:39.062729",
     "status": "completed"
    },
    "tags": []
   },
   "outputs": [
    {
     "name": "stdout",
     "output_type": "stream",
     "text": [
      "Before action 1:  (3, 9)\n",
      "After action 1:  (0, 9)\n"
     ]
    },
    {
     "data": {
      "text/plain": [
       "(3, 9)"
      ]
     },
     "execution_count": 17,
     "metadata": {},
     "output_type": "execute_result"
    }
   ],
   "source": [
    "# Observation 2: See what can we observe by seeing PRICE is less than 0\n",
    "\n",
    "print(\"Before action 1: \", (df.loc[df.Price<0]).shape)\n",
    "print(\"After action 1: \", (df_new.loc[df.Price<0]).shape)\n",
    "\n",
    "(df.loc[df.Price<0]).shape"
   ]
  },
  {
   "cell_type": "code",
   "execution_count": 18,
   "id": "097c540a",
   "metadata": {
    "execution": {
     "iopub.execute_input": "2024-06-15T16:13:39.204032Z",
     "iopub.status.busy": "2024-06-15T16:13:39.203604Z",
     "iopub.status.idle": "2024-06-15T16:13:39.243445Z",
     "shell.execute_reply": "2024-06-15T16:13:39.242234Z"
    },
    "papermill": {
     "duration": 0.078017,
     "end_time": "2024-06-15T16:13:39.245958",
     "exception": false,
     "start_time": "2024-06-15T16:13:39.167941",
     "status": "completed"
    },
    "tags": []
   },
   "outputs": [
    {
     "name": "stdout",
     "output_type": "stream",
     "text": [
      "Before action 1:  (12326, 9)\n",
      "After action 1:  (9839, 9)\n"
     ]
    },
    {
     "data": {
      "text/plain": [
       "(12326, 9)"
      ]
     },
     "execution_count": 18,
     "metadata": {},
     "output_type": "execute_result"
    }
   ],
   "source": [
    "# Observation 2: See what can we observe by seeing Quantity is less than 0\n",
    "\n",
    "print(\"Before action 1: \", (df.loc[df.Quantity<0]).shape)\n",
    "print(\"After action 1: \", (df_new.loc[df.Quantity<0]).shape)\n",
    "\n",
    "(df.loc[df.Quantity<0]).shape"
   ]
  },
  {
   "cell_type": "code",
   "execution_count": 19,
   "id": "0d49367b",
   "metadata": {
    "execution": {
     "iopub.execute_input": "2024-06-15T16:13:39.317135Z",
     "iopub.status.busy": "2024-06-15T16:13:39.316711Z",
     "iopub.status.idle": "2024-06-15T16:13:39.351917Z",
     "shell.execute_reply": "2024-06-15T16:13:39.350149Z"
    },
    "papermill": {
     "duration": 0.074097,
     "end_time": "2024-06-15T16:13:39.354737",
     "exception": false,
     "start_time": "2024-06-15T16:13:39.280640",
     "status": "completed"
    },
    "tags": []
   },
   "outputs": [
    {
     "name": "stdout",
     "output_type": "stream",
     "text": [
      "Before action 1:  (12329, 9)\n",
      "Before action 1:  (9839, 9)\n"
     ]
    }
   ],
   "source": [
    "print(\"Before action 1: \", (df.loc[(df.Quantity<0) | (df.Price<0) ]).shape)\n",
    "print(\"Before action 1: \", (df_new.loc[(df.Quantity<0) | (df.Price<0) ]).shape)"
   ]
  },
  {
   "cell_type": "code",
   "execution_count": 20,
   "id": "8dd240a3",
   "metadata": {
    "execution": {
     "iopub.execute_input": "2024-06-15T16:13:39.429208Z",
     "iopub.status.busy": "2024-06-15T16:13:39.428116Z",
     "iopub.status.idle": "2024-06-15T16:13:39.495862Z",
     "shell.execute_reply": "2024-06-15T16:13:39.494514Z"
    },
    "papermill": {
     "duration": 0.109532,
     "end_time": "2024-06-15T16:13:39.498698",
     "exception": false,
     "start_time": "2024-06-15T16:13:39.389166",
     "status": "completed"
    },
    "tags": []
   },
   "outputs": [
    {
     "data": {
      "text/plain": [
       "(407695, 9)"
      ]
     },
     "execution_count": 20,
     "metadata": {},
     "output_type": "execute_result"
    }
   ],
   "source": [
    "df = df_new.loc[~((df.Quantity<0) | (df.Price<0))]\n",
    "df.shape"
   ]
  },
  {
   "cell_type": "code",
   "execution_count": 21,
   "id": "28682f04",
   "metadata": {
    "execution": {
     "iopub.execute_input": "2024-06-15T16:13:39.573288Z",
     "iopub.status.busy": "2024-06-15T16:13:39.572889Z",
     "iopub.status.idle": "2024-06-15T16:13:39.950416Z",
     "shell.execute_reply": "2024-06-15T16:13:39.949151Z"
    },
    "papermill": {
     "duration": 0.416734,
     "end_time": "2024-06-15T16:13:39.953285",
     "exception": false,
     "start_time": "2024-06-15T16:13:39.536551",
     "status": "completed"
    },
    "tags": []
   },
   "outputs": [
    {
     "data": {
      "text/plain": [
       "0"
      ]
     },
     "execution_count": 21,
     "metadata": {},
     "output_type": "execute_result"
    }
   ],
   "source": [
    "df.Invoice.astype(str).str.contains(\"C\", regex=True).sum()"
   ]
  },
  {
   "cell_type": "markdown",
   "id": "81776c95",
   "metadata": {
    "papermill": {
     "duration": 0.03726,
     "end_time": "2024-06-15T16:13:40.026843",
     "exception": false,
     "start_time": "2024-06-15T16:13:39.989583",
     "status": "completed"
    },
    "tags": []
   },
   "source": [
    "**Action to Observation 2:**\n",
    "\n",
    "Observed a pattern among the data from negative values `Quantity` & `Price`, the `Invoice` is always associated with a \"C\" at the first letter. Removing negative values from `Quantity` & `Price` is equivalent to removing all \"C\" contained (invalid) from `Invoice`.\n",
    "\n",
    "Before taking action 1, among 525,461 data, 12,329 data only take 2.35%. It should not make big impact to the final result.\n",
    "After taking action 1, among 417,534 data, 9,839 data are affectet. It takes about 2.36% to the whole dataset.\n",
    "\n",
    "After taking them out, there will be remaining 407,695 data."
   ]
  },
  {
   "cell_type": "markdown",
   "id": "9df87b3d",
   "metadata": {
    "papermill": {
     "duration": 0.035076,
     "end_time": "2024-06-15T16:13:40.100049",
     "exception": false,
     "start_time": "2024-06-15T16:13:40.064973",
     "status": "completed"
    },
    "tags": []
   },
   "source": [
    "### Data Preparation"
   ]
  },
  {
   "cell_type": "code",
   "execution_count": 22,
   "id": "2e6ea40a",
   "metadata": {
    "execution": {
     "iopub.execute_input": "2024-06-15T16:13:40.174238Z",
     "iopub.status.busy": "2024-06-15T16:13:40.173758Z",
     "iopub.status.idle": "2024-06-15T16:13:40.290207Z",
     "shell.execute_reply": "2024-06-15T16:13:40.288670Z"
    },
    "papermill": {
     "duration": 0.157901,
     "end_time": "2024-06-15T16:13:40.293376",
     "exception": false,
     "start_time": "2024-06-15T16:13:40.135475",
     "status": "completed"
    },
    "tags": []
   },
   "outputs": [
    {
     "data": {
      "text/html": [
       "<div>\n",
       "<style scoped>\n",
       "    .dataframe tbody tr th:only-of-type {\n",
       "        vertical-align: middle;\n",
       "    }\n",
       "\n",
       "    .dataframe tbody tr th {\n",
       "        vertical-align: top;\n",
       "    }\n",
       "\n",
       "    .dataframe thead th {\n",
       "        text-align: right;\n",
       "    }\n",
       "</style>\n",
       "<table border=\"1\" class=\"dataframe\">\n",
       "  <thead>\n",
       "    <tr style=\"text-align: right;\">\n",
       "      <th></th>\n",
       "      <th>Quantity</th>\n",
       "      <th>InvoiceDate</th>\n",
       "      <th>Price</th>\n",
       "      <th>Customer ID</th>\n",
       "      <th>TotalPrice</th>\n",
       "    </tr>\n",
       "  </thead>\n",
       "  <tbody>\n",
       "    <tr>\n",
       "      <th>count</th>\n",
       "      <td>407695.000000</td>\n",
       "      <td>407695</td>\n",
       "      <td>407695.000000</td>\n",
       "      <td>407695.000000</td>\n",
       "      <td>407695.000000</td>\n",
       "    </tr>\n",
       "    <tr>\n",
       "      <th>mean</th>\n",
       "      <td>13.586686</td>\n",
       "      <td>2010-07-01 10:10:10.782177792</td>\n",
       "      <td>3.294188</td>\n",
       "      <td>15368.504107</td>\n",
       "      <td>21.663261</td>\n",
       "    </tr>\n",
       "    <tr>\n",
       "      <th>min</th>\n",
       "      <td>1.000000</td>\n",
       "      <td>2009-12-01 07:45:00</td>\n",
       "      <td>0.000000</td>\n",
       "      <td>12346.000000</td>\n",
       "      <td>0.000000</td>\n",
       "    </tr>\n",
       "    <tr>\n",
       "      <th>25%</th>\n",
       "      <td>2.000000</td>\n",
       "      <td>2010-03-26 14:01:00</td>\n",
       "      <td>1.250000</td>\n",
       "      <td>13997.000000</td>\n",
       "      <td>4.950000</td>\n",
       "    </tr>\n",
       "    <tr>\n",
       "      <th>50%</th>\n",
       "      <td>5.000000</td>\n",
       "      <td>2010-07-09 15:46:00</td>\n",
       "      <td>1.950000</td>\n",
       "      <td>15321.000000</td>\n",
       "      <td>11.900000</td>\n",
       "    </tr>\n",
       "    <tr>\n",
       "      <th>75%</th>\n",
       "      <td>12.000000</td>\n",
       "      <td>2010-10-14 17:09:00</td>\n",
       "      <td>3.750000</td>\n",
       "      <td>16812.000000</td>\n",
       "      <td>19.500000</td>\n",
       "    </tr>\n",
       "    <tr>\n",
       "      <th>max</th>\n",
       "      <td>19152.000000</td>\n",
       "      <td>2010-12-09 20:01:00</td>\n",
       "      <td>10953.500000</td>\n",
       "      <td>18287.000000</td>\n",
       "      <td>15818.400000</td>\n",
       "    </tr>\n",
       "    <tr>\n",
       "      <th>std</th>\n",
       "      <td>96.842229</td>\n",
       "      <td>NaN</td>\n",
       "      <td>34.756655</td>\n",
       "      <td>1679.795700</td>\n",
       "      <td>77.147356</td>\n",
       "    </tr>\n",
       "  </tbody>\n",
       "</table>\n",
       "</div>"
      ],
      "text/plain": [
       "            Quantity                    InvoiceDate          Price  \\\n",
       "count  407695.000000                         407695  407695.000000   \n",
       "mean       13.586686  2010-07-01 10:10:10.782177792       3.294188   \n",
       "min         1.000000            2009-12-01 07:45:00       0.000000   \n",
       "25%         2.000000            2010-03-26 14:01:00       1.250000   \n",
       "50%         5.000000            2010-07-09 15:46:00       1.950000   \n",
       "75%        12.000000            2010-10-14 17:09:00       3.750000   \n",
       "max     19152.000000            2010-12-09 20:01:00   10953.500000   \n",
       "std        96.842229                            NaN      34.756655   \n",
       "\n",
       "         Customer ID     TotalPrice  \n",
       "count  407695.000000  407695.000000  \n",
       "mean    15368.504107      21.663261  \n",
       "min     12346.000000       0.000000  \n",
       "25%     13997.000000       4.950000  \n",
       "50%     15321.000000      11.900000  \n",
       "75%     16812.000000      19.500000  \n",
       "max     18287.000000   15818.400000  \n",
       "std      1679.795700      77.147356  "
      ]
     },
     "execution_count": 22,
     "metadata": {},
     "output_type": "execute_result"
    }
   ],
   "source": [
    "df.describe()"
   ]
  },
  {
   "cell_type": "code",
   "execution_count": 23,
   "id": "c01b861c",
   "metadata": {
    "execution": {
     "iopub.execute_input": "2024-06-15T16:13:40.368724Z",
     "iopub.status.busy": "2024-06-15T16:13:40.368330Z",
     "iopub.status.idle": "2024-06-15T16:13:40.926237Z",
     "shell.execute_reply": "2024-06-15T16:13:40.924967Z"
    },
    "papermill": {
     "duration": 0.597198,
     "end_time": "2024-06-15T16:13:40.928944",
     "exception": false,
     "start_time": "2024-06-15T16:13:40.331746",
     "status": "completed"
    },
    "tags": []
   },
   "outputs": [
    {
     "data": {
      "text/html": [
       "<div>\n",
       "<style scoped>\n",
       "    .dataframe tbody tr th:only-of-type {\n",
       "        vertical-align: middle;\n",
       "    }\n",
       "\n",
       "    .dataframe tbody tr th {\n",
       "        vertical-align: top;\n",
       "    }\n",
       "\n",
       "    .dataframe thead th {\n",
       "        text-align: right;\n",
       "    }\n",
       "</style>\n",
       "<table border=\"1\" class=\"dataframe\">\n",
       "  <thead>\n",
       "    <tr style=\"text-align: right;\">\n",
       "      <th></th>\n",
       "      <th>Invoice</th>\n",
       "      <th>StockCode</th>\n",
       "      <th>Description</th>\n",
       "      <th>Quantity</th>\n",
       "      <th>Price</th>\n",
       "      <th>Customer ID</th>\n",
       "      <th>Country</th>\n",
       "      <th>TotalPrice</th>\n",
       "    </tr>\n",
       "  </thead>\n",
       "  <tbody>\n",
       "    <tr>\n",
       "      <th>count</th>\n",
       "      <td>407695.0</td>\n",
       "      <td>407695</td>\n",
       "      <td>407695</td>\n",
       "      <td>407695.000000</td>\n",
       "      <td>407695.000000</td>\n",
       "      <td>407695.000000</td>\n",
       "      <td>407695</td>\n",
       "      <td>407695.000000</td>\n",
       "    </tr>\n",
       "    <tr>\n",
       "      <th>unique</th>\n",
       "      <td>19215.0</td>\n",
       "      <td>4017</td>\n",
       "      <td>4444</td>\n",
       "      <td>NaN</td>\n",
       "      <td>NaN</td>\n",
       "      <td>NaN</td>\n",
       "      <td>37</td>\n",
       "      <td>NaN</td>\n",
       "    </tr>\n",
       "    <tr>\n",
       "      <th>top</th>\n",
       "      <td>500356.0</td>\n",
       "      <td>85123A</td>\n",
       "      <td>WHITE HANGING HEART T-LIGHT HOLDER</td>\n",
       "      <td>NaN</td>\n",
       "      <td>NaN</td>\n",
       "      <td>NaN</td>\n",
       "      <td>United Kingdom</td>\n",
       "      <td>NaN</td>\n",
       "    </tr>\n",
       "    <tr>\n",
       "      <th>freq</th>\n",
       "      <td>270.0</td>\n",
       "      <td>3153</td>\n",
       "      <td>3153</td>\n",
       "      <td>NaN</td>\n",
       "      <td>NaN</td>\n",
       "      <td>NaN</td>\n",
       "      <td>370951</td>\n",
       "      <td>NaN</td>\n",
       "    </tr>\n",
       "    <tr>\n",
       "      <th>mean</th>\n",
       "      <td>NaN</td>\n",
       "      <td>NaN</td>\n",
       "      <td>NaN</td>\n",
       "      <td>13.586686</td>\n",
       "      <td>3.294188</td>\n",
       "      <td>15368.504107</td>\n",
       "      <td>NaN</td>\n",
       "      <td>21.663261</td>\n",
       "    </tr>\n",
       "    <tr>\n",
       "      <th>std</th>\n",
       "      <td>NaN</td>\n",
       "      <td>NaN</td>\n",
       "      <td>NaN</td>\n",
       "      <td>96.842229</td>\n",
       "      <td>34.756655</td>\n",
       "      <td>1679.795700</td>\n",
       "      <td>NaN</td>\n",
       "      <td>77.147356</td>\n",
       "    </tr>\n",
       "    <tr>\n",
       "      <th>min</th>\n",
       "      <td>NaN</td>\n",
       "      <td>NaN</td>\n",
       "      <td>NaN</td>\n",
       "      <td>1.000000</td>\n",
       "      <td>0.000000</td>\n",
       "      <td>12346.000000</td>\n",
       "      <td>NaN</td>\n",
       "      <td>0.000000</td>\n",
       "    </tr>\n",
       "    <tr>\n",
       "      <th>25%</th>\n",
       "      <td>NaN</td>\n",
       "      <td>NaN</td>\n",
       "      <td>NaN</td>\n",
       "      <td>2.000000</td>\n",
       "      <td>1.250000</td>\n",
       "      <td>13997.000000</td>\n",
       "      <td>NaN</td>\n",
       "      <td>4.950000</td>\n",
       "    </tr>\n",
       "    <tr>\n",
       "      <th>50%</th>\n",
       "      <td>NaN</td>\n",
       "      <td>NaN</td>\n",
       "      <td>NaN</td>\n",
       "      <td>5.000000</td>\n",
       "      <td>1.950000</td>\n",
       "      <td>15321.000000</td>\n",
       "      <td>NaN</td>\n",
       "      <td>11.900000</td>\n",
       "    </tr>\n",
       "    <tr>\n",
       "      <th>75%</th>\n",
       "      <td>NaN</td>\n",
       "      <td>NaN</td>\n",
       "      <td>NaN</td>\n",
       "      <td>12.000000</td>\n",
       "      <td>3.750000</td>\n",
       "      <td>16812.000000</td>\n",
       "      <td>NaN</td>\n",
       "      <td>19.500000</td>\n",
       "    </tr>\n",
       "    <tr>\n",
       "      <th>max</th>\n",
       "      <td>NaN</td>\n",
       "      <td>NaN</td>\n",
       "      <td>NaN</td>\n",
       "      <td>19152.000000</td>\n",
       "      <td>10953.500000</td>\n",
       "      <td>18287.000000</td>\n",
       "      <td>NaN</td>\n",
       "      <td>15818.400000</td>\n",
       "    </tr>\n",
       "  </tbody>\n",
       "</table>\n",
       "</div>"
      ],
      "text/plain": [
       "         Invoice StockCode                         Description       Quantity  \\\n",
       "count   407695.0    407695                              407695  407695.000000   \n",
       "unique   19215.0      4017                                4444            NaN   \n",
       "top     500356.0    85123A  WHITE HANGING HEART T-LIGHT HOLDER            NaN   \n",
       "freq       270.0      3153                                3153            NaN   \n",
       "mean         NaN       NaN                                 NaN      13.586686   \n",
       "std          NaN       NaN                                 NaN      96.842229   \n",
       "min          NaN       NaN                                 NaN       1.000000   \n",
       "25%          NaN       NaN                                 NaN       2.000000   \n",
       "50%          NaN       NaN                                 NaN       5.000000   \n",
       "75%          NaN       NaN                                 NaN      12.000000   \n",
       "max          NaN       NaN                                 NaN   19152.000000   \n",
       "\n",
       "                Price    Customer ID         Country     TotalPrice  \n",
       "count   407695.000000  407695.000000          407695  407695.000000  \n",
       "unique            NaN            NaN              37            NaN  \n",
       "top               NaN            NaN  United Kingdom            NaN  \n",
       "freq              NaN            NaN          370951            NaN  \n",
       "mean         3.294188   15368.504107             NaN      21.663261  \n",
       "std         34.756655    1679.795700             NaN      77.147356  \n",
       "min          0.000000   12346.000000             NaN       0.000000  \n",
       "25%          1.250000   13997.000000             NaN       4.950000  \n",
       "50%          1.950000   15321.000000             NaN      11.900000  \n",
       "75%          3.750000   16812.000000             NaN      19.500000  \n",
       "max      10953.500000   18287.000000             NaN   15818.400000  "
      ]
     },
     "execution_count": 23,
     "metadata": {},
     "output_type": "execute_result"
    }
   ],
   "source": [
    "df.describe(include=[\"int\", \"float\", \"object\"])"
   ]
  },
  {
   "cell_type": "markdown",
   "id": "d3dbe48a",
   "metadata": {
    "papermill": {
     "duration": 0.039392,
     "end_time": "2024-06-15T16:13:41.005924",
     "exception": false,
     "start_time": "2024-06-15T16:13:40.966532",
     "status": "completed"
    },
    "tags": []
   },
   "source": [
    "### Calculate RFM Metrics"
   ]
  },
  {
   "cell_type": "markdown",
   "id": "705e4628",
   "metadata": {
    "papermill": {
     "duration": 0.038179,
     "end_time": "2024-06-15T16:13:41.088501",
     "exception": false,
     "start_time": "2024-06-15T16:13:41.050322",
     "status": "completed"
    },
    "tags": []
   },
   "source": [
    "**Recency:** Represents the recency of the customer. (Analysis Date - Date of the customer's last purchase)\n",
    "\n",
    "**Frequency:** Total purchase value made by the customer.\n",
    "\n",
    "**Monetary:** The total amount left by the customer as a result of total purchases."
   ]
  },
  {
   "cell_type": "code",
   "execution_count": 24,
   "id": "a9c0c8bd",
   "metadata": {
    "execution": {
     "iopub.execute_input": "2024-06-15T16:13:41.171346Z",
     "iopub.status.busy": "2024-06-15T16:13:41.170913Z",
     "iopub.status.idle": "2024-06-15T16:13:41.379572Z",
     "shell.execute_reply": "2024-06-15T16:13:41.378294Z"
    },
    "papermill": {
     "duration": 0.258881,
     "end_time": "2024-06-15T16:13:41.382703",
     "exception": false,
     "start_time": "2024-06-15T16:13:41.123822",
     "status": "completed"
    },
    "tags": []
   },
   "outputs": [
    {
     "name": "stdout",
     "output_type": "stream",
     "text": [
      "<class 'pandas.core.frame.DataFrame'>\n",
      "Index: 407695 entries, 0 to 525460\n",
      "Data columns (total 9 columns):\n",
      " #   Column       Non-Null Count   Dtype         \n",
      "---  ------       --------------   -----         \n",
      " 0   Invoice      407695 non-null  object        \n",
      " 1   StockCode    407695 non-null  object        \n",
      " 2   Description  407695 non-null  object        \n",
      " 3   Quantity     407695 non-null  int64         \n",
      " 4   InvoiceDate  407695 non-null  datetime64[ns]\n",
      " 5   Price        407695 non-null  float64       \n",
      " 6   Customer ID  407695 non-null  float64       \n",
      " 7   Country      407695 non-null  object        \n",
      " 8   TotalPrice   407695 non-null  float64       \n",
      "dtypes: datetime64[ns](1), float64(3), int64(1), object(4)\n",
      "memory usage: 31.1+ MB\n"
     ]
    }
   ],
   "source": [
    "df.info()"
   ]
  },
  {
   "cell_type": "code",
   "execution_count": 25,
   "id": "796e0725",
   "metadata": {
    "execution": {
     "iopub.execute_input": "2024-06-15T16:13:41.460811Z",
     "iopub.status.busy": "2024-06-15T16:13:41.460380Z",
     "iopub.status.idle": "2024-06-15T16:13:41.469263Z",
     "shell.execute_reply": "2024-06-15T16:13:41.467970Z"
    },
    "papermill": {
     "duration": 0.050704,
     "end_time": "2024-06-15T16:13:41.471914",
     "exception": false,
     "start_time": "2024-06-15T16:13:41.421210",
     "status": "completed"
    },
    "tags": []
   },
   "outputs": [
    {
     "data": {
      "text/plain": [
       "Timestamp('2010-12-09 20:01:00')"
      ]
     },
     "execution_count": 25,
     "metadata": {},
     "output_type": "execute_result"
    }
   ],
   "source": [
    "df.InvoiceDate.max()"
   ]
  },
  {
   "cell_type": "code",
   "execution_count": 26,
   "id": "635cd57b",
   "metadata": {
    "execution": {
     "iopub.execute_input": "2024-06-15T16:13:41.550534Z",
     "iopub.status.busy": "2024-06-15T16:13:41.550112Z",
     "iopub.status.idle": "2024-06-15T16:13:41.557113Z",
     "shell.execute_reply": "2024-06-15T16:13:41.555961Z"
    },
    "papermill": {
     "duration": 0.050952,
     "end_time": "2024-06-15T16:13:41.559827",
     "exception": false,
     "start_time": "2024-06-15T16:13:41.508875",
     "status": "completed"
    },
    "tags": []
   },
   "outputs": [],
   "source": [
    "today_date = df.InvoiceDate.max() + pd.Timedelta(days=2)"
   ]
  },
  {
   "cell_type": "code",
   "execution_count": 27,
   "id": "5b78b8a9",
   "metadata": {
    "execution": {
     "iopub.execute_input": "2024-06-15T16:13:41.634297Z",
     "iopub.status.busy": "2024-06-15T16:13:41.633854Z",
     "iopub.status.idle": "2024-06-15T16:13:41.695486Z",
     "shell.execute_reply": "2024-06-15T16:13:41.693688Z"
    },
    "papermill": {
     "duration": 0.102926,
     "end_time": "2024-06-15T16:13:41.698671",
     "exception": false,
     "start_time": "2024-06-15T16:13:41.595745",
     "status": "completed"
    },
    "tags": []
   },
   "outputs": [],
   "source": [
    "# The minimum value of Monetary is 0, which is not a desire value because spending $0 is meaningless\n",
    "# and later will take log. To avoid infinity, we need to take out $0.\n",
    "\n",
    "df = df.loc[df.TotalPrice > 0]"
   ]
  },
  {
   "cell_type": "code",
   "execution_count": 28,
   "id": "4c53acbc",
   "metadata": {
    "execution": {
     "iopub.execute_input": "2024-06-15T16:13:41.781094Z",
     "iopub.status.busy": "2024-06-15T16:13:41.780633Z",
     "iopub.status.idle": "2024-06-15T16:13:43.180934Z",
     "shell.execute_reply": "2024-06-15T16:13:43.179093Z"
    },
    "papermill": {
     "duration": 1.444058,
     "end_time": "2024-06-15T16:13:43.184900",
     "exception": false,
     "start_time": "2024-06-15T16:13:41.740842",
     "status": "completed"
    },
    "tags": []
   },
   "outputs": [],
   "source": [
    "df_RFM = df.groupby(\"Customer ID\", as_index=False).agg(Recency = pd.NamedAgg(column=\"InvoiceDate\", aggfunc=lambda x: (today_date - x.max()).days), \n",
    "                                                       Frequency = pd.NamedAgg(column=\"Invoice\", aggfunc=\"nunique\"),\n",
    "                                                       Monetary = pd.NamedAgg(column=\"TotalPrice\", aggfunc=\"sum\"),\n",
    "                                                       log_Monetary = pd.NamedAgg(column=\"TotalPrice\", aggfunc= lambda x: np.sum(np.log(x))))\n"
   ]
  },
  {
   "cell_type": "code",
   "execution_count": 29,
   "id": "85814096",
   "metadata": {
    "execution": {
     "iopub.execute_input": "2024-06-15T16:13:43.270875Z",
     "iopub.status.busy": "2024-06-15T16:13:43.270461Z",
     "iopub.status.idle": "2024-06-15T16:13:43.297477Z",
     "shell.execute_reply": "2024-06-15T16:13:43.296124Z"
    },
    "papermill": {
     "duration": 0.071643,
     "end_time": "2024-06-15T16:13:43.300501",
     "exception": false,
     "start_time": "2024-06-15T16:13:43.228858",
     "status": "completed"
    },
    "tags": []
   },
   "outputs": [
    {
     "data": {
      "text/html": [
       "<div>\n",
       "<style scoped>\n",
       "    .dataframe tbody tr th:only-of-type {\n",
       "        vertical-align: middle;\n",
       "    }\n",
       "\n",
       "    .dataframe tbody tr th {\n",
       "        vertical-align: top;\n",
       "    }\n",
       "\n",
       "    .dataframe thead th {\n",
       "        text-align: right;\n",
       "    }\n",
       "</style>\n",
       "<table border=\"1\" class=\"dataframe\">\n",
       "  <thead>\n",
       "    <tr style=\"text-align: right;\">\n",
       "      <th></th>\n",
       "      <th>Customer ID</th>\n",
       "      <th>Recency</th>\n",
       "      <th>Frequency</th>\n",
       "      <th>Monetary</th>\n",
       "      <th>log_Monetary</th>\n",
       "    </tr>\n",
       "  </thead>\n",
       "  <tbody>\n",
       "    <tr>\n",
       "      <th>0</th>\n",
       "      <td>12346.0</td>\n",
       "      <td>166</td>\n",
       "      <td>11</td>\n",
       "      <td>372.86</td>\n",
       "      <td>72.171297</td>\n",
       "    </tr>\n",
       "    <tr>\n",
       "      <th>1</th>\n",
       "      <td>12347.0</td>\n",
       "      <td>4</td>\n",
       "      <td>2</td>\n",
       "      <td>1323.32</td>\n",
       "      <td>200.448605</td>\n",
       "    </tr>\n",
       "    <tr>\n",
       "      <th>2</th>\n",
       "      <td>12348.0</td>\n",
       "      <td>75</td>\n",
       "      <td>1</td>\n",
       "      <td>222.16</td>\n",
       "      <td>45.515422</td>\n",
       "    </tr>\n",
       "    <tr>\n",
       "      <th>3</th>\n",
       "      <td>12349.0</td>\n",
       "      <td>44</td>\n",
       "      <td>3</td>\n",
       "      <td>2671.14</td>\n",
       "      <td>305.479026</td>\n",
       "    </tr>\n",
       "    <tr>\n",
       "      <th>4</th>\n",
       "      <td>12351.0</td>\n",
       "      <td>12</td>\n",
       "      <td>1</td>\n",
       "      <td>300.93</td>\n",
       "      <td>55.153031</td>\n",
       "    </tr>\n",
       "  </tbody>\n",
       "</table>\n",
       "</div>"
      ],
      "text/plain": [
       "   Customer ID  Recency  Frequency  Monetary  log_Monetary\n",
       "0      12346.0      166         11    372.86     72.171297\n",
       "1      12347.0        4          2   1323.32    200.448605\n",
       "2      12348.0       75          1    222.16     45.515422\n",
       "3      12349.0       44          3   2671.14    305.479026\n",
       "4      12351.0       12          1    300.93     55.153031"
      ]
     },
     "execution_count": 29,
     "metadata": {},
     "output_type": "execute_result"
    }
   ],
   "source": [
    "df_RFM.head()"
   ]
  },
  {
   "cell_type": "code",
   "execution_count": 30,
   "id": "c4e38187",
   "metadata": {
    "execution": {
     "iopub.execute_input": "2024-06-15T16:13:43.383048Z",
     "iopub.status.busy": "2024-06-15T16:13:43.382644Z",
     "iopub.status.idle": "2024-06-15T16:13:43.417773Z",
     "shell.execute_reply": "2024-06-15T16:13:43.416116Z"
    },
    "papermill": {
     "duration": 0.079294,
     "end_time": "2024-06-15T16:13:43.421468",
     "exception": false,
     "start_time": "2024-06-15T16:13:43.342174",
     "status": "completed"
    },
    "tags": []
   },
   "outputs": [
    {
     "data": {
      "text/html": [
       "<div>\n",
       "<style scoped>\n",
       "    .dataframe tbody tr th:only-of-type {\n",
       "        vertical-align: middle;\n",
       "    }\n",
       "\n",
       "    .dataframe tbody tr th {\n",
       "        vertical-align: top;\n",
       "    }\n",
       "\n",
       "    .dataframe thead th {\n",
       "        text-align: right;\n",
       "    }\n",
       "</style>\n",
       "<table border=\"1\" class=\"dataframe\">\n",
       "  <thead>\n",
       "    <tr style=\"text-align: right;\">\n",
       "      <th></th>\n",
       "      <th>Customer ID</th>\n",
       "      <th>Recency</th>\n",
       "      <th>Frequency</th>\n",
       "      <th>Monetary</th>\n",
       "      <th>log_Monetary</th>\n",
       "    </tr>\n",
       "  </thead>\n",
       "  <tbody>\n",
       "    <tr>\n",
       "      <th>count</th>\n",
       "      <td>4312.000000</td>\n",
       "      <td>4312.000000</td>\n",
       "      <td>4312.000000</td>\n",
       "      <td>4312.000000</td>\n",
       "      <td>4312.000000</td>\n",
       "    </tr>\n",
       "    <tr>\n",
       "      <th>mean</th>\n",
       "      <td>15349.290353</td>\n",
       "      <td>92.171846</td>\n",
       "      <td>4.455705</td>\n",
       "      <td>2048.238236</td>\n",
       "      <td>218.477940</td>\n",
       "    </tr>\n",
       "    <tr>\n",
       "      <th>std</th>\n",
       "      <td>1701.200176</td>\n",
       "      <td>96.860633</td>\n",
       "      <td>8.170213</td>\n",
       "      <td>8914.481280</td>\n",
       "      <td>474.810383</td>\n",
       "    </tr>\n",
       "    <tr>\n",
       "      <th>min</th>\n",
       "      <td>12346.000000</td>\n",
       "      <td>2.000000</td>\n",
       "      <td>1.000000</td>\n",
       "      <td>2.950000</td>\n",
       "      <td>1.081805</td>\n",
       "    </tr>\n",
       "    <tr>\n",
       "      <th>25%</th>\n",
       "      <td>13882.500000</td>\n",
       "      <td>19.000000</td>\n",
       "      <td>1.000000</td>\n",
       "      <td>307.987500</td>\n",
       "      <td>45.974447</td>\n",
       "    </tr>\n",
       "    <tr>\n",
       "      <th>50%</th>\n",
       "      <td>15350.500000</td>\n",
       "      <td>54.000000</td>\n",
       "      <td>2.000000</td>\n",
       "      <td>706.020000</td>\n",
       "      <td>103.107424</td>\n",
       "    </tr>\n",
       "    <tr>\n",
       "      <th>75%</th>\n",
       "      <td>16834.250000</td>\n",
       "      <td>137.000000</td>\n",
       "      <td>5.000000</td>\n",
       "      <td>1723.142500</td>\n",
       "      <td>239.694884</td>\n",
       "    </tr>\n",
       "    <tr>\n",
       "      <th>max</th>\n",
       "      <td>18287.000000</td>\n",
       "      <td>375.000000</td>\n",
       "      <td>205.000000</td>\n",
       "      <td>349164.350000</td>\n",
       "      <td>16779.534127</td>\n",
       "    </tr>\n",
       "  </tbody>\n",
       "</table>\n",
       "</div>"
      ],
      "text/plain": [
       "        Customer ID      Recency    Frequency       Monetary  log_Monetary\n",
       "count   4312.000000  4312.000000  4312.000000    4312.000000   4312.000000\n",
       "mean   15349.290353    92.171846     4.455705    2048.238236    218.477940\n",
       "std     1701.200176    96.860633     8.170213    8914.481280    474.810383\n",
       "min    12346.000000     2.000000     1.000000       2.950000      1.081805\n",
       "25%    13882.500000    19.000000     1.000000     307.987500     45.974447\n",
       "50%    15350.500000    54.000000     2.000000     706.020000    103.107424\n",
       "75%    16834.250000   137.000000     5.000000    1723.142500    239.694884\n",
       "max    18287.000000   375.000000   205.000000  349164.350000  16779.534127"
      ]
     },
     "execution_count": 30,
     "metadata": {},
     "output_type": "execute_result"
    }
   ],
   "source": [
    "df_RFM.describe()"
   ]
  },
  {
   "cell_type": "code",
   "execution_count": 31,
   "id": "7d47cf72",
   "metadata": {
    "execution": {
     "iopub.execute_input": "2024-06-15T16:13:43.514967Z",
     "iopub.status.busy": "2024-06-15T16:13:43.514295Z",
     "iopub.status.idle": "2024-06-15T16:13:43.521985Z",
     "shell.execute_reply": "2024-06-15T16:13:43.520669Z"
    },
    "papermill": {
     "duration": 0.048285,
     "end_time": "2024-06-15T16:13:43.524578",
     "exception": false,
     "start_time": "2024-06-15T16:13:43.476293",
     "status": "completed"
    },
    "tags": []
   },
   "outputs": [
    {
     "data": {
      "text/plain": [
       "(4312, 5)"
      ]
     },
     "execution_count": 31,
     "metadata": {},
     "output_type": "execute_result"
    }
   ],
   "source": [
    "df_RFM.shape"
   ]
  },
  {
   "cell_type": "markdown",
   "id": "463869d6",
   "metadata": {
    "papermill": {
     "duration": 0.036442,
     "end_time": "2024-06-15T16:13:43.600003",
     "exception": false,
     "start_time": "2024-06-15T16:13:43.563561",
     "status": "completed"
    },
    "tags": []
   },
   "source": [
    "### Calculating RFM Scores"
   ]
  },
  {
   "cell_type": "code",
   "execution_count": 32,
   "id": "0e0040d9",
   "metadata": {
    "execution": {
     "iopub.execute_input": "2024-06-15T16:13:43.680873Z",
     "iopub.status.busy": "2024-06-15T16:13:43.679711Z",
     "iopub.status.idle": "2024-06-15T16:13:44.138356Z",
     "shell.execute_reply": "2024-06-15T16:13:44.137142Z"
    },
    "papermill": {
     "duration": 0.502357,
     "end_time": "2024-06-15T16:13:44.141151",
     "exception": false,
     "start_time": "2024-06-15T16:13:43.638794",
     "status": "completed"
    },
    "tags": []
   },
   "outputs": [
    {
     "name": "stderr",
     "output_type": "stream",
     "text": [
      "/opt/conda/lib/python3.10/site-packages/seaborn/_oldcore.py:1119: FutureWarning: use_inf_as_na option is deprecated and will be removed in a future version. Convert inf values to NaN before operating instead.\n",
      "  with pd.option_context('mode.use_inf_as_na', True):\n"
     ]
    },
    {
     "data": {
      "image/png": "[encoded data removed]",
      "text/plain": [
       "<Figure size 800x600 with 1 Axes>"
      ]
     },
     "metadata": {},
     "output_type": "display_data"
    }
   ],
   "source": [
    "fig, ax = plt.subplots(figsize=(8,6))\n",
    "sns.histplot(data=df_RFM, x=df_RFM.Recency, kde=True)\n",
    "plt.show()"
   ]
  },
  {
   "cell_type": "code",
   "execution_count": 33,
   "id": "38e67eb1",
   "metadata": {
    "execution": {
     "iopub.execute_input": "2024-06-15T16:13:44.218416Z",
     "iopub.status.busy": "2024-06-15T16:13:44.217992Z",
     "iopub.status.idle": "2024-06-15T16:13:45.211654Z",
     "shell.execute_reply": "2024-06-15T16:13:45.210624Z"
    },
    "papermill": {
     "duration": 1.035404,
     "end_time": "2024-06-15T16:13:45.214188",
     "exception": false,
     "start_time": "2024-06-15T16:13:44.178784",
     "status": "completed"
    },
    "tags": []
   },
   "outputs": [
    {
     "name": "stderr",
     "output_type": "stream",
     "text": [
      "/opt/conda/lib/python3.10/site-packages/seaborn/_oldcore.py:1119: FutureWarning: use_inf_as_na option is deprecated and will be removed in a future version. Convert inf values to NaN before operating instead.\n",
      "  with pd.option_context('mode.use_inf_as_na', True):\n"
     ]
    },
    {
     "data": {
      "image/png": "[encoded data removed]",
      "text/plain": [
       "<Figure size 800x600 with 1 Axes>"
      ]
     },
     "metadata": {},
     "output_type": "display_data"
    }
   ],
   "source": [
    "fig, ax = plt.subplots(figsize=(8,6))\n",
    "sns.histplot(data=df_RFM, x=df_RFM.Frequency, kde=True)\n",
    "plt.show()"
   ]
  },
  {
   "cell_type": "code",
   "execution_count": 34,
   "id": "7aea545a",
   "metadata": {
    "execution": {
     "iopub.execute_input": "2024-06-15T16:13:45.291687Z",
     "iopub.status.busy": "2024-06-15T16:13:45.291313Z",
     "iopub.status.idle": "2024-06-15T16:13:46.135538Z",
     "shell.execute_reply": "2024-06-15T16:13:46.134294Z"
    },
    "papermill": {
     "duration": 0.886476,
     "end_time": "2024-06-15T16:13:46.138444",
     "exception": false,
     "start_time": "2024-06-15T16:13:45.251968",
     "status": "completed"
    },
    "tags": []
   },
   "outputs": [
    {
     "name": "stderr",
     "output_type": "stream",
     "text": [
      "/opt/conda/lib/python3.10/site-packages/seaborn/_oldcore.py:1119: FutureWarning: use_inf_as_na option is deprecated and will be removed in a future version. Convert inf values to NaN before operating instead.\n",
      "  with pd.option_context('mode.use_inf_as_na', True):\n"
     ]
    },
    {
     "data": {
      "image/png": "[encoded data removed]",
      "text/plain": [
       "<Figure size 800x600 with 1 Axes>"
      ]
     },
     "metadata": {},
     "output_type": "display_data"
    }
   ],
   "source": [
    "fig, ax = plt.subplots(figsize=(8,6))\n",
    "sns.histplot(data=df_RFM, x=df_RFM.Monetary, kde=True, log_scale=True)\n",
    "plt.show()"
   ]
  },
  {
   "cell_type": "code",
   "execution_count": 35,
   "id": "ea653516",
   "metadata": {
    "execution": {
     "iopub.execute_input": "2024-06-15T16:13:46.218934Z",
     "iopub.status.busy": "2024-06-15T16:13:46.218556Z",
     "iopub.status.idle": "2024-06-15T16:13:47.019791Z",
     "shell.execute_reply": "2024-06-15T16:13:47.018409Z"
    },
    "papermill": {
     "duration": 0.845028,
     "end_time": "2024-06-15T16:13:47.022618",
     "exception": false,
     "start_time": "2024-06-15T16:13:46.177590",
     "status": "completed"
    },
    "tags": []
   },
   "outputs": [
    {
     "name": "stderr",
     "output_type": "stream",
     "text": [
      "/opt/conda/lib/python3.10/site-packages/seaborn/_oldcore.py:1119: FutureWarning: use_inf_as_na option is deprecated and will be removed in a future version. Convert inf values to NaN before operating instead.\n",
      "  with pd.option_context('mode.use_inf_as_na', True):\n"
     ]
    },
    {
     "data": {
      "image/png": "[encoded data removed]",
      "text/plain": [
       "<Figure size 800x600 with 1 Axes>"
      ]
     },
     "metadata": {},
     "output_type": "display_data"
    }
   ],
   "source": [
    "fig, ax = plt.subplots(figsize=(8,6))\n",
    "sns.histplot(data=df_RFM, x=df_RFM.log_Monetary, kde=True, log_scale=True)\n",
    "plt.show()"
   ]
  },
  {
   "cell_type": "markdown",
   "id": "82de6a40",
   "metadata": {
    "papermill": {
     "duration": 0.040028,
     "end_time": "2024-06-15T16:13:47.102426",
     "exception": false,
     "start_time": "2024-06-15T16:13:47.062398",
     "status": "completed"
    },
    "tags": []
   },
   "source": [
    "#### Notes:\n",
    "\n",
    "- There is standard or correct method to define how many bins/buckets in `Recency`, `Frequency`, and `Monetary`. More important is to consider the business use and the business meaning.\n",
    "\n",
    "- Most of the cases you would see is to divide each of them into 5 bins, meaning that putting `Recency`, `Frequency`, and `Monetary` together, there would be `5 x 5 x 5 = 125` different groups.\n",
    "\n",
    "- It doesn't mean that all customers would be distributed to all `125` groups. Based on different method being adopted, size of groups can differ greatly.\n",
    "\n",
    "    For example:\n",
    "    \n",
    "> Cut the `Recency`, `Frequency`, and `Monetary` in 5 quantiles (aka. quintiles). Every quantile will be having equal size of data. This method can guarantee data are even distributed in every group. However, the drawback is obvious as well -- same value data might be allocated in different group. Though 1 quantile apart might not bring substantial difference, long-tail or very skewed distribution would have separate same value data more than 1 quantile. It does not make sense.\n",
    "\n",
    "\n",
    "#### Strategy\n",
    "\n",
    "The following is the design of how to define the split and the thinking behind. It would set a cut-off for every dimension, to avoid the caveat abovementioned.\n",
    "\n",
    "***`Recency`***\n",
    "\n",
    "The more recent the transaction, the higher the `Recency` is. Because from the histogram, we can observe `Recency` is a positive skewed distribution, it spans from 0 day to more than 1 year. Dividing it by week / month would be a reasonable method.\n",
    "\n",
    "> `5`: 0 - 14 days (within 2 weeks)\n",
    "\n",
    "> `4`: 15 - 30 days (within 1 month)\n",
    "\n",
    "> `3`: 31 - 90 days (within 3 months)\n",
    "\n",
    "> `2`: 91 - 180 days (within 6 months)\n",
    "\n",
    "> `1`: > 180 days (have not been doing transaction more than 6 months)\n",
    "\n",
    "***`Frequency`***\n",
    "\n",
    "The more the transaction, the higher the `Frequency` is. Because from the histogram, we know that `Frequency` is a positive skewed distribution; and from the `df_RFM.describe()`, the 75% percentile is still at 5. Also, consider the dataset products are mainly all-occasion gift-ware (dataset description), they are consumables but unlike food or many other consumables, which need to refill within a short period of time. It means most of the customers would not connect the company very frequently. With this pattern and the model of the retail business, we have to set the splitting carefully and practically.\n",
    "\n",
    "> `5`: > 21 times \n",
    "\n",
    "> `4`: 11 - 20 times\n",
    "\n",
    "> `3`: 5 - 10 times\n",
    "\n",
    "> `2`: 3 - 4 times\n",
    "\n",
    "> `1`: 1 - 2 times \n",
    "\n",
    "***`log-scaled Monetary`***\n",
    "The more they spend, the higher the `Monetary` is. Because from the log-scaled histogram, it shows a nearly normally distribution. We can use standard deviation to define the splitting. From the `df_RFM.describe()`, the mean is $2,047, so the log-scaled mean is $218; the standard deviation is $8,912, the log-scaled standard deviation is $474.\n",
    "\n",
    "> `5`: $(\\mu + 3\\sigma)$ to $+\\infty$ : $(1640, +\\infty)$\n",
    "\n",
    "> `4`: $(\\mu + 2\\sigma)$ to $\\mu + 3\\sigma$ : $(1166, 1640]$\n",
    "\n",
    "> `3`: $(\\mu + \\sigma)$ to $\\mu + 2\\sigma$ : $(692, 1166]$\n",
    "\n",
    "> `2`: $\\mu$ to $(\\mu + \\sigma)$ : $(218, 692]$\n",
    "\n",
    "> `1`: $-\\infty$ to $\\mu$ : $(-\\infty , 218]$"
   ]
  },
  {
   "cell_type": "code",
   "execution_count": 36,
   "id": "6a27e49e",
   "metadata": {
    "execution": {
     "iopub.execute_input": "2024-06-15T16:13:47.184141Z",
     "iopub.status.busy": "2024-06-15T16:13:47.183739Z",
     "iopub.status.idle": "2024-06-15T16:13:47.197018Z",
     "shell.execute_reply": "2024-06-15T16:13:47.195873Z"
    },
    "papermill": {
     "duration": 0.056995,
     "end_time": "2024-06-15T16:13:47.199552",
     "exception": false,
     "start_time": "2024-06-15T16:13:47.142557",
     "status": "completed"
    },
    "tags": []
   },
   "outputs": [],
   "source": [
    "recency_bins = [0, 14, 30, 90, 180, df_RFM.Recency.max()+1]\n",
    "\n",
    "recency_labels = [i for i in range(5,0,-1)]\n",
    "\n",
    "df_RFM[\"Recency_score\"] = pd.cut(df_RFM[\"Recency\"], \n",
    "                                 labels=recency_labels,\n",
    "                                 bins=recency_bins)"
   ]
  },
  {
   "cell_type": "code",
   "execution_count": 37,
   "id": "f5d7415c",
   "metadata": {
    "execution": {
     "iopub.execute_input": "2024-06-15T16:13:47.280928Z",
     "iopub.status.busy": "2024-06-15T16:13:47.280130Z",
     "iopub.status.idle": "2024-06-15T16:13:47.288430Z",
     "shell.execute_reply": "2024-06-15T16:13:47.287541Z"
    },
    "papermill": {
     "duration": 0.051094,
     "end_time": "2024-06-15T16:13:47.290706",
     "exception": false,
     "start_time": "2024-06-15T16:13:47.239612",
     "status": "completed"
    },
    "tags": []
   },
   "outputs": [],
   "source": [
    "frequency_bins = [0, 2, 4, 10, 20, df_RFM.Frequency.max()+1]\n",
    "\n",
    "frequency_labels = [i for i in range(1,6,1)]\n",
    "\n",
    "df_RFM[\"Frequency_score\"] = pd.cut(df_RFM[\"Frequency\"], \n",
    "                                   labels=frequency_labels,\n",
    "                                   bins=frequency_bins)"
   ]
  },
  {
   "cell_type": "code",
   "execution_count": 38,
   "id": "fd5bbc55",
   "metadata": {
    "execution": {
     "iopub.execute_input": "2024-06-15T16:13:47.371111Z",
     "iopub.status.busy": "2024-06-15T16:13:47.370713Z",
     "iopub.status.idle": "2024-06-15T16:13:47.382079Z",
     "shell.execute_reply": "2024-06-15T16:13:47.381011Z"
    },
    "papermill": {
     "duration": 0.054064,
     "end_time": "2024-06-15T16:13:47.384698",
     "exception": false,
     "start_time": "2024-06-15T16:13:47.330634",
     "status": "completed"
    },
    "tags": []
   },
   "outputs": [],
   "source": [
    "m_mean, m_sd = df_RFM.log_Monetary.mean(), df_RFM.log_Monetary.std()\n",
    "\n",
    "log_monetary_bins = [df_RFM.log_Monetary.min()-1, \n",
    "                     m_mean, \n",
    "                     m_mean+m_sd, \n",
    "                     m_mean+2*m_sd, \n",
    "                     m_mean+3*m_sd, \n",
    "                     df_RFM.log_Monetary.max()+1]\n",
    "\n",
    "log_monetary_labels = [i for i in range(1,6,1)]\n",
    "\n",
    "df_RFM[\"log_Monetary_score\"] = pd.cut(df_RFM[\"log_Monetary\"], \n",
    "                                      labels=log_monetary_labels,\n",
    "                                      bins=log_monetary_bins)"
   ]
  },
  {
   "cell_type": "markdown",
   "id": "bfe3b186",
   "metadata": {
    "papermill": {
     "duration": 0.039701,
     "end_time": "2024-06-15T16:13:47.464140",
     "exception": false,
     "start_time": "2024-06-15T16:13:47.424439",
     "status": "completed"
    },
    "tags": []
   },
   "source": [
    "#### Comment:\n",
    "\n",
    "`Monetary` values can vary widely among customers and may carry less meaning compared to other metrics. Thus, many RFM metrics would only consider `Recency` and `Frequency`. "
   ]
  },
  {
   "cell_type": "code",
   "execution_count": 39,
   "id": "e40d4839",
   "metadata": {
    "execution": {
     "iopub.execute_input": "2024-06-15T16:13:47.542703Z",
     "iopub.status.busy": "2024-06-15T16:13:47.542313Z",
     "iopub.status.idle": "2024-06-15T16:13:47.551517Z",
     "shell.execute_reply": "2024-06-15T16:13:47.550388Z"
    },
    "papermill": {
     "duration": 0.051676,
     "end_time": "2024-06-15T16:13:47.554300",
     "exception": false,
     "start_time": "2024-06-15T16:13:47.502624",
     "status": "completed"
    },
    "tags": []
   },
   "outputs": [],
   "source": [
    "df_RFM[\"RFM_Score\"] = df_RFM[\"Recency_score\"].astype(str) + df_RFM[\"Frequency_score\"].astype(str)"
   ]
  },
  {
   "cell_type": "code",
   "execution_count": 40,
   "id": "934eec43",
   "metadata": {
    "execution": {
     "iopub.execute_input": "2024-06-15T16:13:47.636547Z",
     "iopub.status.busy": "2024-06-15T16:13:47.636107Z",
     "iopub.status.idle": "2024-06-15T16:13:47.642858Z",
     "shell.execute_reply": "2024-06-15T16:13:47.641573Z"
    },
    "papermill": {
     "duration": 0.050619,
     "end_time": "2024-06-15T16:13:47.645514",
     "exception": false,
     "start_time": "2024-06-15T16:13:47.594895",
     "status": "completed"
    },
    "tags": []
   },
   "outputs": [],
   "source": [
    "seg_map = {\n",
    "    r'[1-2][1-2]': 'hibernating',\n",
    "    r'[1-2][3-4]': 'at_Risk',\n",
    "    r'[1-2]5': 'cant_loose',\n",
    "    r'3[1-2]': 'about_to_sleep',\n",
    "    r'33': 'need_attention',\n",
    "    r'[3-4][4-5]': 'loyal_customers',\n",
    "    r'41': 'promising',\n",
    "    r'51': 'new_customers',\n",
    "    r'[4-5][2-3]': 'potential_loyalists',\n",
    "    r'5[4-5]': 'champions'\n",
    "}\n"
   ]
  },
  {
   "cell_type": "code",
   "execution_count": 41,
   "id": "dfac22ef",
   "metadata": {
    "execution": {
     "iopub.execute_input": "2024-06-15T16:13:47.725764Z",
     "iopub.status.busy": "2024-06-15T16:13:47.725311Z",
     "iopub.status.idle": "2024-06-15T16:13:47.827202Z",
     "shell.execute_reply": "2024-06-15T16:13:47.825938Z"
    },
    "papermill": {
     "duration": 0.145647,
     "end_time": "2024-06-15T16:13:47.830346",
     "exception": false,
     "start_time": "2024-06-15T16:13:47.684699",
     "status": "completed"
    },
    "tags": []
   },
   "outputs": [],
   "source": [
    "df_RFM[\"Segment\"] = df_RFM[\"RFM_Score\"].replace(seg_map, regex=True)"
   ]
  },
  {
   "cell_type": "code",
   "execution_count": 42,
   "id": "2f492232",
   "metadata": {
    "execution": {
     "iopub.execute_input": "2024-06-15T16:13:47.912796Z",
     "iopub.status.busy": "2024-06-15T16:13:47.912355Z",
     "iopub.status.idle": "2024-06-15T16:13:47.922873Z",
     "shell.execute_reply": "2024-06-15T16:13:47.921641Z"
    },
    "papermill": {
     "duration": 0.054524,
     "end_time": "2024-06-15T16:13:47.925599",
     "exception": false,
     "start_time": "2024-06-15T16:13:47.871075",
     "status": "completed"
    },
    "tags": []
   },
   "outputs": [
    {
     "data": {
      "text/plain": [
       "0                   at_Risk\n",
       "1             new_customers\n",
       "2            about_to_sleep\n",
       "3            about_to_sleep\n",
       "4             new_customers\n",
       "               ...         \n",
       "4307    potential_loyalists\n",
       "4308         about_to_sleep\n",
       "4309            hibernating\n",
       "4310            hibernating\n",
       "4311    potential_loyalists\n",
       "Name: Segment, Length: 4312, dtype: object"
      ]
     },
     "execution_count": 42,
     "metadata": {},
     "output_type": "execute_result"
    }
   ],
   "source": [
    "df_RFM[\"Segment\"]"
   ]
  },
  {
   "attachments": {
    "c4c5365b-5ff4-4fee-bb66-8560a9605fb8.png": {
     "image/png": "[encoded data removed]"
    }
   },
   "cell_type": "markdown",
   "id": "74b978a5",
   "metadata": {
    "papermill": {
     "duration": 0.03962,
     "end_time": "2024-06-15T16:13:48.006461",
     "exception": false,
     "start_time": "2024-06-15T16:13:47.966841",
     "status": "completed"
    },
    "tags": []
   },
   "source": [
    "![0_fZYhZ9srVEhmkMbZ.png](attachment:c4c5365b-5ff4-4fee-bb66-8560a9605fb8.png)\n",
    "#### Explanations of Segments:\n",
    "\n",
    "1. **Champions:** This segment represents loyal and high-value customers. Champions have made recent purchases (low Recency), shop frequently (high Frequency), and typically make high-value transactions (high Monetary). For marketers, this segment can be a focal point for increasing sales and retaining loyal customers.\n",
    "\n",
    "2. **At Risk:** The At Risk segment includes customers who were previously active but have taken some time to make their most recent purchase. Their Recency is high, Frequency is moderate, and Monetary value is average. Re-engagement strategies can be applied to potentially retain these customers as they are at risk of being lost.\n",
    "\n",
    "3. **Hibernating:** Hibernating represents customers who have remained inactive for an extended period, and their most recent purchases were made a long time ago. They have a very high Recency, low Frequency, and low Monetary value. Re-engagement strategies should be implemented for these customers as they have the potential to become active again.\n",
    "\n",
    "4. **Loyal Customers:** This segment includes customers who shop frequently and tend to make high-value purchases. Recency is low, Frequency is high, and Monetary value is also high. These customers are loyal and valuable, making it important to maintain their satisfaction and loyalty.\n",
    "\n",
    "5. **Cant Lose:** This segment consists of rare but high-value customers. Their Recency is low, Frequency is low, but their Monetary value is very high. While they may make fewer purchases, these contribute significantly. Efforts should be made to prevent losing these customers.\n",
    "\n",
    "6. **Need Attention:** The Need Attention segment covers customers who were previously active but took some time to make their most recent purchases. Their Recency is moderate, Frequency is low, and Monetary value is at a moderate level. It's important to pay attention to and reactivate these customers.\n",
    "\n",
    "7. **New Customers:** New Customers represent newly acquired customers. Their Recency is low, Frequency is low, and Monetary value is also low. Efforts should focus on acquiring and converting them into repeat customers.\n",
    "\n",
    "8. **Potential Loyalists:** This segment includes customers who make infrequent purchases but have recently made a transaction. Recency is low, Frequency is moderate, and Monetary value is at a moderate level. These customers have the potential to become loyal.\n",
    "\n",
    "9. **Promising:** Promising segment represents customers who made recent purchases but shop infrequently. Recency is low, Frequency is low, and Monetary value is low. Encouragement and strategies to increase their shopping activity are important.\n",
    "\n",
    "10. **About to Sleep:** The About to Sleep segment comprises customers who made recent purchases but shop infrequently. Their Recency is low, Frequency is low, and Monetary value is low. Re-activating and encouraging them to shop more is essential as they are potentially at risk of being lost."
   ]
  },
  {
   "cell_type": "code",
   "execution_count": 43,
   "id": "db01206c",
   "metadata": {
    "execution": {
     "iopub.execute_input": "2024-06-15T16:13:48.088903Z",
     "iopub.status.busy": "2024-06-15T16:13:48.088504Z",
     "iopub.status.idle": "2024-06-15T16:13:48.122184Z",
     "shell.execute_reply": "2024-06-15T16:13:48.120759Z"
    },
    "papermill": {
     "duration": 0.078494,
     "end_time": "2024-06-15T16:13:48.124925",
     "exception": false,
     "start_time": "2024-06-15T16:13:48.046431",
     "status": "completed"
    },
    "tags": []
   },
   "outputs": [
    {
     "data": {
      "text/html": [
       "<div>\n",
       "<style scoped>\n",
       "    .dataframe tbody tr th:only-of-type {\n",
       "        vertical-align: middle;\n",
       "    }\n",
       "\n",
       "    .dataframe tbody tr th {\n",
       "        vertical-align: top;\n",
       "    }\n",
       "\n",
       "    .dataframe thead tr th {\n",
       "        text-align: left;\n",
       "    }\n",
       "\n",
       "    .dataframe thead tr:last-of-type th {\n",
       "        text-align: right;\n",
       "    }\n",
       "</style>\n",
       "<table border=\"1\" class=\"dataframe\">\n",
       "  <thead>\n",
       "    <tr>\n",
       "      <th></th>\n",
       "      <th colspan=\"2\" halign=\"left\">Recency</th>\n",
       "      <th colspan=\"2\" halign=\"left\">Frequency</th>\n",
       "      <th colspan=\"2\" halign=\"left\">Monetary</th>\n",
       "    </tr>\n",
       "    <tr>\n",
       "      <th></th>\n",
       "      <th>mean</th>\n",
       "      <th>count</th>\n",
       "      <th>mean</th>\n",
       "      <th>count</th>\n",
       "      <th>mean</th>\n",
       "      <th>count</th>\n",
       "    </tr>\n",
       "    <tr>\n",
       "      <th>Segment</th>\n",
       "      <th></th>\n",
       "      <th></th>\n",
       "      <th></th>\n",
       "      <th></th>\n",
       "      <th></th>\n",
       "      <th></th>\n",
       "    </tr>\n",
       "  </thead>\n",
       "  <tbody>\n",
       "    <tr>\n",
       "      <th>about_to_sleep</th>\n",
       "      <td>56.854186</td>\n",
       "      <td>1063</td>\n",
       "      <td>2.109125</td>\n",
       "      <td>1063</td>\n",
       "      <td>852.237038</td>\n",
       "      <td>1063</td>\n",
       "    </tr>\n",
       "    <tr>\n",
       "      <th>at_Risk</th>\n",
       "      <td>148.727273</td>\n",
       "      <td>99</td>\n",
       "      <td>6.909091</td>\n",
       "      <td>99</td>\n",
       "      <td>2847.300909</td>\n",
       "      <td>99</td>\n",
       "    </tr>\n",
       "    <tr>\n",
       "      <th>cant_loose</th>\n",
       "      <td>153.333333</td>\n",
       "      <td>3</td>\n",
       "      <td>35.333333</td>\n",
       "      <td>3</td>\n",
       "      <td>17742.543333</td>\n",
       "      <td>3</td>\n",
       "    </tr>\n",
       "    <tr>\n",
       "      <th>champions</th>\n",
       "      <td>6.097087</td>\n",
       "      <td>206</td>\n",
       "      <td>25.898058</td>\n",
       "      <td>206</td>\n",
       "      <td>16230.713801</td>\n",
       "      <td>206</td>\n",
       "    </tr>\n",
       "    <tr>\n",
       "      <th>hibernating</th>\n",
       "      <td>213.482371</td>\n",
       "      <td>1333</td>\n",
       "      <td>1.634659</td>\n",
       "      <td>1333</td>\n",
       "      <td>562.553289</td>\n",
       "      <td>1333</td>\n",
       "    </tr>\n",
       "    <tr>\n",
       "      <th>loyal_customers</th>\n",
       "      <td>29.296610</td>\n",
       "      <td>118</td>\n",
       "      <td>15.389831</td>\n",
       "      <td>118</td>\n",
       "      <td>7486.162314</td>\n",
       "      <td>118</td>\n",
       "    </tr>\n",
       "    <tr>\n",
       "      <th>need_attention</th>\n",
       "      <td>53.565891</td>\n",
       "      <td>258</td>\n",
       "      <td>6.604651</td>\n",
       "      <td>258</td>\n",
       "      <td>2849.371050</td>\n",
       "      <td>258</td>\n",
       "    </tr>\n",
       "    <tr>\n",
       "      <th>new_customers</th>\n",
       "      <td>8.226667</td>\n",
       "      <td>150</td>\n",
       "      <td>1.526667</td>\n",
       "      <td>150</td>\n",
       "      <td>506.971267</td>\n",
       "      <td>150</td>\n",
       "    </tr>\n",
       "    <tr>\n",
       "      <th>potential_loyalists</th>\n",
       "      <td>14.066085</td>\n",
       "      <td>802</td>\n",
       "      <td>5.609726</td>\n",
       "      <td>802</td>\n",
       "      <td>2059.351461</td>\n",
       "      <td>802</td>\n",
       "    </tr>\n",
       "    <tr>\n",
       "      <th>promising</th>\n",
       "      <td>22.160714</td>\n",
       "      <td>280</td>\n",
       "      <td>1.496429</td>\n",
       "      <td>280</td>\n",
       "      <td>540.728071</td>\n",
       "      <td>280</td>\n",
       "    </tr>\n",
       "  </tbody>\n",
       "</table>\n",
       "</div>"
      ],
      "text/plain": [
       "                        Recency        Frequency            Monetary      \n",
       "                           mean count       mean count          mean count\n",
       "Segment                                                                   \n",
       "about_to_sleep        56.854186  1063   2.109125  1063    852.237038  1063\n",
       "at_Risk              148.727273    99   6.909091    99   2847.300909    99\n",
       "cant_loose           153.333333     3  35.333333     3  17742.543333     3\n",
       "champions              6.097087   206  25.898058   206  16230.713801   206\n",
       "hibernating          213.482371  1333   1.634659  1333    562.553289  1333\n",
       "loyal_customers       29.296610   118  15.389831   118   7486.162314   118\n",
       "need_attention        53.565891   258   6.604651   258   2849.371050   258\n",
       "new_customers          8.226667   150   1.526667   150    506.971267   150\n",
       "potential_loyalists   14.066085   802   5.609726   802   2059.351461   802\n",
       "promising             22.160714   280   1.496429   280    540.728071   280"
      ]
     },
     "execution_count": 43,
     "metadata": {},
     "output_type": "execute_result"
    }
   ],
   "source": [
    "df_RFM.groupby('Segment')[['Recency', 'Frequency', 'Monetary']].agg(['mean', 'count'])"
   ]
  },
  {
   "cell_type": "markdown",
   "id": "070c476d",
   "metadata": {
    "papermill": {
     "duration": 0.039347,
     "end_time": "2024-06-15T16:13:48.204310",
     "exception": false,
     "start_time": "2024-06-15T16:13:48.164963",
     "status": "completed"
    },
    "tags": []
   },
   "source": [
    "#### Comment:\n",
    "\n",
    "1. Champions: The Champions segment represents customers with a low average \"Recency\" value (6.10), a high \"Frequency\" value (25.90), and a significantly high \"Monetary\" value (16230.71) on average. Customers in this segment make frequent purchases and typically spend substantial amounts. This customer group consists of loyal and high-value customers. Marketing strategies can focus on retaining and increasing sales within this segment.\n",
    "\n",
    "2. At Risk: The At Risk segment includes customers with a relatively high average \"Recency\" value (148.73), a moderate \"Frequency\" value (6.91), and an average \"Monetary\" value (2847.30). Customers in this segment may have the potential for repeat purchases, but their last purchase might have occurred some time ago. Customer retention and reactivation strategies can be applied to this group.\n",
    "\n",
    "3. Hibernating: The Hibernating segment comprises customers with a very high average \"Recency\" value (213.48), low \"Frequency\" (1.63), and low \"Monetary\" value (562.55). These customers might not have shopped for an extended period, and their purchases may have lower values. Reactivation or re-engagement strategies can be considered for this segment."
   ]
  },
  {
   "cell_type": "markdown",
   "id": "ceb4f3fc",
   "metadata": {
    "papermill": {
     "duration": 0.04075,
     "end_time": "2024-06-15T16:13:48.286459",
     "exception": false,
     "start_time": "2024-06-15T16:13:48.245709",
     "status": "completed"
    },
    "tags": []
   },
   "source": [
    "## Customer Lift Time Value"
   ]
  },
  {
   "cell_type": "markdown",
   "id": "dc402ef6",
   "metadata": {
    "papermill": {
     "duration": 0.040652,
     "end_time": "2024-06-15T16:13:48.367556",
     "exception": false,
     "start_time": "2024-06-15T16:13:48.326904",
     "status": "completed"
    },
    "tags": []
   },
   "source": [
    "* Time-Projected Probabilistic Lifetime Value Estimation\n",
    "\n",
    "    * CLTV = (Customer Value / Churn Rate) * Profit Margin\n",
    "    \n",
    "    * Customer Value = Purchase Frequency * Average Order Value (The order is deliberately changed for a probabilistic interpretation.)\n",
    "\n",
    "- In probabilistic terms:\n",
    "\n",
    "    * CLTV = Conditional Expected Number of Transactions * Conditional Expected Average Profit\n",
    "\n",
    "        * The Customer Value formula is equivalent to the Probabilistic CLTV:\n",
    "            * Purchase Frequency = Conditional Expected Number of Transactions\n",
    "            * Average Order Value = Conditional Expected Average Profit\n",
    "\n",
    "\n",
    "- Conditional Expected Number of Transactions: We will model the purchasing behavior of the entire population with a probability distribution and then use this modeled behavior with conditional information, shaping the expected transaction numbers for each individual.\n",
    "\n",
    "- Conditional Expected Average Profit: We will model the average profit value for the entire population as a probability distribution. Subsequently, using this model, we can conditionally, based on individual characteristics, calculate the expected average profits for each person. These expected profits will be derived in a way that is conditioned on the distribution of the main population.\n",
    "\n",
    "- We will employ two models to perform these tasks:\n",
    "\n",
    "    - CLTV = BG/NBD Model * Gamma Gamma Submodel\n",
    "\n",
    "This approach allows us to make probabilistic forecasts for Customer Lifetime Value, incorporating statistical models to estimate expected transaction numbers and expected average profits on an individual basis."
   ]
  },
  {
   "cell_type": "markdown",
   "id": "05b69cc6",
   "metadata": {
    "papermill": {
     "duration": 0.041049,
     "end_time": "2024-06-15T16:13:48.450143",
     "exception": false,
     "start_time": "2024-06-15T16:13:48.409094",
     "status": "completed"
    },
    "tags": []
   },
   "source": [
    "### Expected Number of Transaction with BG/NBD\n",
    "\n",
    "- The term \"Expected\" is used to express the expected value of a random variable.\n",
    "- The expected value of a random variable is its average value.\n",
    "- A random variable is a variable that takes its values from the outcomes of an experiment.\n",
    "- In other words, when we assume that a variable follows a specific probability distribution, the expected value of that variable is, in fact, its average.\n",
    "- The term \"Conditional Expected\" here usually refers to the idea that we will learn a distribution structure from a population. This distribution structure will represent the probability distribution of individuals' purchase or transaction behaviors, and by conditioning this expected value of the probability distribution, in other words, its average, we will shape it individually for each person. So, by conditioning the expected value of the probability distribution, we will be estimating the expected number of transactions for each individual.\n",
    "- Instead of \"Expected Number of Transaction,\" the term \"Expected Sales for Casting\" could have been used.\n",
    "\n",
    "- BG/NBD stands for Beta Geometric/Negative Binomial Distribution.\n",
    "- The BG/NBD model is used as a standalone sales forecasting model. It's often referred to as \"Buy Till You Die\" in the literature.\n",
    "- The BG/NBD Model probabilistically models two processes for the Expected Number of Transactions:\n",
    "    1. Transaction Process (Buy)\n",
    "    2. Dropout Process (Till You Die) (Churn)\n",
    "        - Transaction Process (Buy):\n",
    "            - As long as a customer is \"alive,\" the number of transactions they will make in a specific time period follows a Poisson distribution with a transaction rate parameter.\n",
    "            - A customer will continue to make random purchases around their transaction rate as long as they are alive.\n",
    "            - Transaction rates vary for each customer and follow a gamma distribution across the entire population (r, a).\n",
    "            - This allows us to make inferences about a known population distribution using the variable.\n",
    "\n",
    "        - Dropout Process (Till You Die):\n",
    "            - Each customer has a dropout rate (dropout probability) with a probability of p.\n",
    "            - After making a purchase, a customer may drop out with a certain probability.\n",
    "            - Dropout rates vary for each customer and follow a beta distribution across the entire population (a, b).\n",
    "            \n",
    "Two important takeaways are that the Transaction Rate follows a gamma distribution, while the Dropout Rate follows a beta distribution."
   ]
  },
  {
   "cell_type": "markdown",
   "id": "06007a3d",
   "metadata": {
    "papermill": {
     "duration": 0.040711,
     "end_time": "2024-06-15T16:13:48.533166",
     "exception": false,
     "start_time": "2024-06-15T16:13:48.492455",
     "status": "completed"
    },
    "tags": []
   },
   "source": [
    "1. **E(Y(t) | X = x, tx, T, r, a, a, b):**\n",
    "\n",
    "    - **x:** The number of repeated purchases by a customer. It indicates that the customer has made at least a second purchase.\n",
    "    - **tx:** Recency value, which represents the time elapsed between a customer's first purchase and their last purchase. This is calculated on a weekly basis and is unique for each customer.\n",
    "    - **T:** Time, indicating the difference between the date of the first purchase by customers and the date when the analysis is conducted. It reflects the customer's \"age\" in weeks.\n",
    "    - These first three values are specific to individual customers.\n",
    "    - **X:** A random variable, meaning \"X takes on the values after the equal sign.\"\n",
    "    - **r, a:** Parameters of the gamma distribution.\n",
    "    - **a, b:** Parameters of the beta distribution.\n",
    "    - The Maximum Likelihood Estimation method is used to estimate the parameters of these two probability distributions, and it will be found using the functions we will use.\n",
    "    - **Y(t):** This represents the expected number of transactions in a specific time period \"t.\"\n",
    "    - **E:** Expected value.\n",
    "\n",
    "2. The resulting parameters, obtained through the prediction process, will shape the probabilistic nature of purchasing behavior in our dataset. In other words, these parameters will customize the gamma and beta distributions to best fit our audience.\n",
    "\n",
    "These concepts and parameters play a crucial role in the development of probabilistic models that predict customer behavior and future transactions accurately."
   ]
  },
  {
   "cell_type": "markdown",
   "id": "6e340a52",
   "metadata": {
    "execution": {
     "iopub.execute_input": "2024-06-15T08:15:11.745341Z",
     "iopub.status.busy": "2024-06-15T08:15:11.741061Z",
     "iopub.status.idle": "2024-06-15T08:15:11.759273Z",
     "shell.execute_reply": "2024-06-15T08:15:11.757376Z",
     "shell.execute_reply.started": "2024-06-15T08:15:11.745209Z"
    },
    "papermill": {
     "duration": 0.039444,
     "end_time": "2024-06-15T16:13:48.614237",
     "exception": false,
     "start_time": "2024-06-15T16:13:48.574793",
     "status": "completed"
    },
    "tags": []
   },
   "source": [
    "### Gamma Gamma Submodel\n",
    "\n",
    "1. **Transaction Profit Estimation:**\n",
    "\n",
    "    - Used to estimate how much profit a customer can generate per transaction. This can be thought of as a prediction of the expected profit from the customer for each transaction or purchase.\n",
    "\n",
    "2. **Probabilistic Version of Average Order Value:**\n",
    "\n",
    "    - Average Order Value typically represents how much a customer spends on average per transaction. This is equivalent to the average transaction value.\n",
    "\n",
    "3. **Probabilistic Nature of Customer Transaction Value:**\n",
    "\n",
    "    - This implies that the transaction value (i.e., the monetary value of any purchase) for a customer is randomly distributed around an average value. For example, if a customer had 3 transactions and spent a total of 1200 USD, this definition suggests that this customer will continue to spend an average of 400 USD per transaction in the future, randomly.\n",
    "\n",
    "4. **Average Transaction Value:**\n",
    "\n",
    "    - It refers to the average amount spent per transaction. This indicates the expected amount that a customer will spend, on average, per transaction. This value follows a probability distribution known as a gamma distribution, which characterizes the distribution of this value across all customers.\n",
    "\n",
    "- **E (M | p,q,y,mx,x):**\n",
    "    - This represents the conditional expected value of monetary spending (M) based on certain conditions.\n",
    "    - x: This represents the frequency value, indicating the number of repeated transactions, specifically customers who have made at least their second purchase.\n",
    "    - mx: This symbolizes the observed transaction values.\n",
    "    - When you input values for p, q, y, mx, and x on the right-hand side of the '|' symbol, it will provide the expected monetary value (E) under those specific conditions.\n",
    "\n",
    "This concept is used to predict the expected monetary spending by a customer under certain circumstances, which are characterized by the given variables and conditions."
   ]
  },
  {
   "cell_type": "markdown",
   "id": "867134b3",
   "metadata": {
    "papermill": {
     "duration": 0.040756,
     "end_time": "2024-06-15T16:13:48.696217",
     "exception": false,
     "start_time": "2024-06-15T16:13:48.655461",
     "status": "completed"
    },
    "tags": []
   },
   "source": [
    "## CLTV Prediction with BG-NBD & Gamma Gamma"
   ]
  },
  {
   "cell_type": "code",
   "execution_count": 44,
   "id": "504c97be",
   "metadata": {
    "execution": {
     "iopub.execute_input": "2024-06-15T16:13:48.780523Z",
     "iopub.status.busy": "2024-06-15T16:13:48.780125Z",
     "iopub.status.idle": "2024-06-15T16:14:06.652389Z",
     "shell.execute_reply": "2024-06-15T16:14:06.650947Z"
    },
    "papermill": {
     "duration": 17.916299,
     "end_time": "2024-06-15T16:14:06.655603",
     "exception": false,
     "start_time": "2024-06-15T16:13:48.739304",
     "status": "completed"
    },
    "tags": []
   },
   "outputs": [
    {
     "name": "stdout",
     "output_type": "stream",
     "text": [
      "Collecting lifetimes\r\n",
      "  Downloading Lifetimes-0.11.3-py3-none-any.whl.metadata (4.8 kB)\r\n",
      "Requirement already satisfied: numpy>=1.10.0 in /opt/conda/lib/python3.10/site-packages (from lifetimes) (1.26.4)\r\n",
      "Requirement already satisfied: scipy>=1.0.0 in /opt/conda/lib/python3.10/site-packages (from lifetimes) (1.11.4)\r\n",
      "Requirement already satisfied: pandas>=0.24.0 in /opt/conda/lib/python3.10/site-packages (from lifetimes) (2.2.2)\r\n",
      "Collecting autograd>=1.2.0 (from lifetimes)\r\n",
      "  Downloading autograd-1.6.2-py3-none-any.whl.metadata (706 bytes)\r\n",
      "Requirement already satisfied: dill>=0.2.6 in /opt/conda/lib/python3.10/site-packages (from lifetimes) (0.3.8)\r\n",
      "Requirement already satisfied: future>=0.15.2 in /opt/conda/lib/python3.10/site-packages (from autograd>=1.2.0->lifetimes) (1.0.0)\r\n",
      "Requirement already satisfied: python-dateutil>=2.8.2 in /opt/conda/lib/python3.10/site-packages (from pandas>=0.24.0->lifetimes) (2.9.0.post0)\r\n",
      "Requirement already satisfied: pytz>=2020.1 in /opt/conda/lib/python3.10/site-packages (from pandas>=0.24.0->lifetimes) (2023.3.post1)\r\n",
      "Requirement already satisfied: tzdata>=2022.7 in /opt/conda/lib/python3.10/site-packages (from pandas>=0.24.0->lifetimes) (2023.4)\r\n",
      "Requirement already satisfied: six>=1.5 in /opt/conda/lib/python3.10/site-packages (from python-dateutil>=2.8.2->pandas>=0.24.0->lifetimes) (1.16.0)\r\n",
      "Downloading Lifetimes-0.11.3-py3-none-any.whl (584 kB)\r\n",
      "\u001b[2K   \u001b[90m━━━━━━━━━━━━━━━━━━━━━━━━━━━━━━━━━━━━━━━━\u001b[0m \u001b[32m584.2/584.2 kB\u001b[0m \u001b[31m12.4 MB/s\u001b[0m eta \u001b[36m0:00:00\u001b[0m\r\n",
      "\u001b[?25hDownloading autograd-1.6.2-py3-none-any.whl (49 kB)\r\n",
      "\u001b[2K   \u001b[90m━━━━━━━━━━━━━━━━━━━━━━━━━━━━━━━━━━━━━━━━\u001b[0m \u001b[32m49.3/49.3 kB\u001b[0m \u001b[31m2.4 MB/s\u001b[0m eta \u001b[36m0:00:00\u001b[0m\r\n",
      "\u001b[?25hInstalling collected packages: autograd, lifetimes\r\n",
      "Successfully installed autograd-1.6.2 lifetimes-0.11.3\r\n"
     ]
    }
   ],
   "source": [
    "!pip install lifetimes"
   ]
  },
  {
   "cell_type": "code",
   "execution_count": 45,
   "id": "a99eb571",
   "metadata": {
    "execution": {
     "iopub.execute_input": "2024-06-15T16:14:06.743716Z",
     "iopub.status.busy": "2024-06-15T16:14:06.743281Z",
     "iopub.status.idle": "2024-06-15T16:14:07.022893Z",
     "shell.execute_reply": "2024-06-15T16:14:07.021728Z"
    },
    "papermill": {
     "duration": 0.327364,
     "end_time": "2024-06-15T16:14:07.025762",
     "exception": false,
     "start_time": "2024-06-15T16:14:06.698398",
     "status": "completed"
    },
    "tags": []
   },
   "outputs": [],
   "source": [
    "import datetime as dt\n",
    "import pandas as pd\n",
    "import matplotlib.pyplot as plt\n",
    "from lifetimes import BetaGeoFitter\n",
    "from lifetimes import GammaGammaFitter\n",
    "from lifetimes.plotting import plot_period_transactions\n",
    "\n",
    "from sklearn.preprocessing import MinMaxScaler"
   ]
  },
  {
   "cell_type": "code",
   "execution_count": 46,
   "id": "c37f7278",
   "metadata": {
    "execution": {
     "iopub.execute_input": "2024-06-15T16:14:07.109822Z",
     "iopub.status.busy": "2024-06-15T16:14:07.108790Z",
     "iopub.status.idle": "2024-06-15T16:14:07.115929Z",
     "shell.execute_reply": "2024-06-15T16:14:07.114901Z"
    },
    "papermill": {
     "duration": 0.052924,
     "end_time": "2024-06-15T16:14:07.118797",
     "exception": false,
     "start_time": "2024-06-15T16:14:07.065873",
     "status": "completed"
    },
    "tags": []
   },
   "outputs": [],
   "source": [
    "def outlier_thresholds(df, variable):\n",
    "    \n",
    "    quartile1 = df[variable].quantile(0.01)\n",
    "    quartile3 = df[variable].quantile(0.99)\n",
    "    interquantile_range = quartile3 - quartile1\n",
    "    up_limit = quartile3 + 1.5 * interquantile_range\n",
    "    low_limit = quartile1 - 1.5 * interquantile_range\n",
    "    \n",
    "    return low_limit, up_limit"
   ]
  },
  {
   "cell_type": "code",
   "execution_count": 47,
   "id": "664c8e5a",
   "metadata": {
    "execution": {
     "iopub.execute_input": "2024-06-15T16:14:07.203051Z",
     "iopub.status.busy": "2024-06-15T16:14:07.202654Z",
     "iopub.status.idle": "2024-06-15T16:14:07.208505Z",
     "shell.execute_reply": "2024-06-15T16:14:07.207325Z"
    },
    "papermill": {
     "duration": 0.051648,
     "end_time": "2024-06-15T16:14:07.210794",
     "exception": false,
     "start_time": "2024-06-15T16:14:07.159146",
     "status": "completed"
    },
    "tags": []
   },
   "outputs": [],
   "source": [
    "def replace_with_thresholds(df, variable):\n",
    "    low_limit, up_limit = outlier_thresholds(df, variable)\n",
    "    df.loc[(df[variable] > up_limit), variable] = up_limit\n",
    "    return df"
   ]
  },
  {
   "cell_type": "code",
   "execution_count": 48,
   "id": "b3a9c907",
   "metadata": {
    "execution": {
     "iopub.execute_input": "2024-06-15T16:14:07.296077Z",
     "iopub.status.busy": "2024-06-15T16:14:07.295256Z",
     "iopub.status.idle": "2024-06-15T16:14:07.337128Z",
     "shell.execute_reply": "2024-06-15T16:14:07.336100Z"
    },
    "papermill": {
     "duration": 0.088856,
     "end_time": "2024-06-15T16:14:07.339827",
     "exception": false,
     "start_time": "2024-06-15T16:14:07.250971",
     "status": "completed"
    },
    "tags": []
   },
   "outputs": [],
   "source": [
    "df = (df.pipe(replace_with_thresholds, \"Quantity\")\n",
    "        .pipe(replace_with_thresholds, 'Price')\n",
    "     )"
   ]
  },
  {
   "cell_type": "code",
   "execution_count": 49,
   "id": "c2458c9f",
   "metadata": {
    "execution": {
     "iopub.execute_input": "2024-06-15T16:14:07.425796Z",
     "iopub.status.busy": "2024-06-15T16:14:07.425313Z",
     "iopub.status.idle": "2024-06-15T16:14:07.542370Z",
     "shell.execute_reply": "2024-06-15T16:14:07.541127Z"
    },
    "papermill": {
     "duration": 0.163861,
     "end_time": "2024-06-15T16:14:07.545329",
     "exception": false,
     "start_time": "2024-06-15T16:14:07.381468",
     "status": "completed"
    },
    "tags": []
   },
   "outputs": [
    {
     "data": {
      "text/html": [
       "<div>\n",
       "<style scoped>\n",
       "    .dataframe tbody tr th:only-of-type {\n",
       "        vertical-align: middle;\n",
       "    }\n",
       "\n",
       "    .dataframe tbody tr th {\n",
       "        vertical-align: top;\n",
       "    }\n",
       "\n",
       "    .dataframe thead th {\n",
       "        text-align: right;\n",
       "    }\n",
       "</style>\n",
       "<table border=\"1\" class=\"dataframe\">\n",
       "  <thead>\n",
       "    <tr style=\"text-align: right;\">\n",
       "      <th></th>\n",
       "      <th>Quantity</th>\n",
       "      <th>InvoiceDate</th>\n",
       "      <th>Price</th>\n",
       "      <th>Customer ID</th>\n",
       "      <th>TotalPrice</th>\n",
       "    </tr>\n",
       "  </thead>\n",
       "  <tbody>\n",
       "    <tr>\n",
       "      <th>count</th>\n",
       "      <td>407664.000000</td>\n",
       "      <td>407664</td>\n",
       "      <td>407664.000000</td>\n",
       "      <td>407664.000000</td>\n",
       "      <td>407664.000000</td>\n",
       "    </tr>\n",
       "    <tr>\n",
       "      <th>mean</th>\n",
       "      <td>11.906525</td>\n",
       "      <td>2010-07-01 10:15:11.871688192</td>\n",
       "      <td>3.005620</td>\n",
       "      <td>15368.592598</td>\n",
       "      <td>21.664909</td>\n",
       "    </tr>\n",
       "    <tr>\n",
       "      <th>min</th>\n",
       "      <td>1.000000</td>\n",
       "      <td>2009-12-01 07:45:00</td>\n",
       "      <td>0.001000</td>\n",
       "      <td>12346.000000</td>\n",
       "      <td>0.001000</td>\n",
       "    </tr>\n",
       "    <tr>\n",
       "      <th>25%</th>\n",
       "      <td>2.000000</td>\n",
       "      <td>2010-03-26 14:01:00</td>\n",
       "      <td>1.250000</td>\n",
       "      <td>13997.000000</td>\n",
       "      <td>4.950000</td>\n",
       "    </tr>\n",
       "    <tr>\n",
       "      <th>50%</th>\n",
       "      <td>5.000000</td>\n",
       "      <td>2010-07-09 15:47:00</td>\n",
       "      <td>1.950000</td>\n",
       "      <td>15321.000000</td>\n",
       "      <td>11.900000</td>\n",
       "    </tr>\n",
       "    <tr>\n",
       "      <th>75%</th>\n",
       "      <td>12.000000</td>\n",
       "      <td>2010-10-14 17:09:00</td>\n",
       "      <td>3.750000</td>\n",
       "      <td>16812.000000</td>\n",
       "      <td>19.500000</td>\n",
       "    </tr>\n",
       "    <tr>\n",
       "      <th>max</th>\n",
       "      <td>358.500000</td>\n",
       "      <td>2010-12-09 20:01:00</td>\n",
       "      <td>36.940000</td>\n",
       "      <td>18287.000000</td>\n",
       "      <td>15818.400000</td>\n",
       "    </tr>\n",
       "    <tr>\n",
       "      <th>std</th>\n",
       "      <td>28.725110</td>\n",
       "      <td>NaN</td>\n",
       "      <td>3.250568</td>\n",
       "      <td>1679.762138</td>\n",
       "      <td>77.150058</td>\n",
       "    </tr>\n",
       "  </tbody>\n",
       "</table>\n",
       "</div>"
      ],
      "text/plain": [
       "            Quantity                    InvoiceDate          Price  \\\n",
       "count  407664.000000                         407664  407664.000000   \n",
       "mean       11.906525  2010-07-01 10:15:11.871688192       3.005620   \n",
       "min         1.000000            2009-12-01 07:45:00       0.001000   \n",
       "25%         2.000000            2010-03-26 14:01:00       1.250000   \n",
       "50%         5.000000            2010-07-09 15:47:00       1.950000   \n",
       "75%        12.000000            2010-10-14 17:09:00       3.750000   \n",
       "max       358.500000            2010-12-09 20:01:00      36.940000   \n",
       "std        28.725110                            NaN       3.250568   \n",
       "\n",
       "         Customer ID     TotalPrice  \n",
       "count  407664.000000  407664.000000  \n",
       "mean    15368.592598      21.664909  \n",
       "min     12346.000000       0.001000  \n",
       "25%     13997.000000       4.950000  \n",
       "50%     15321.000000      11.900000  \n",
       "75%     16812.000000      19.500000  \n",
       "max     18287.000000   15818.400000  \n",
       "std      1679.762138      77.150058  "
      ]
     },
     "execution_count": 49,
     "metadata": {},
     "output_type": "execute_result"
    }
   ],
   "source": [
    "df.describe()"
   ]
  },
  {
   "cell_type": "markdown",
   "id": "329eff7d",
   "metadata": {
    "papermill": {
     "duration": 0.04212,
     "end_time": "2024-06-15T16:14:07.629666",
     "exception": false,
     "start_time": "2024-06-15T16:14:07.587546",
     "status": "completed"
    },
    "tags": []
   },
   "source": [
    "## Preparation of Lifetime Data Structure"
   ]
  },
  {
   "cell_type": "markdown",
   "id": "3ecd4609",
   "metadata": {
    "papermill": {
     "duration": 0.042068,
     "end_time": "2024-06-15T16:14:07.714896",
     "exception": false,
     "start_time": "2024-06-15T16:14:07.672828",
     "status": "completed"
    },
    "tags": []
   },
   "source": [
    "### CLTV Prediction Metrics:\n",
    "\n",
    "1. **Recency (Recency):**\n",
    "\n",
    "    - This duration is measured in weeks and is personalized for each customer. It indicates the time between a customer's last purchase and their first purchase.\n",
    "\n",
    "2. **T (Tenure - Customer's Age):**\n",
    "\n",
    "    - T signifies the time between a customer's first purchase and the date of analysis.\n",
    "    - This duration is also measured in weeks and is referred to as the customer's \"age.\"\n",
    "\n",
    "3. **Frequency (Frequency):**\n",
    "\n",
    "    - Frequency indicates the total number of repeated purchases by a customer.\n",
    "    - An important feature of this metric is that it represents customers who have made at least a second purchase, meaning the frequency is greater than 1.\n",
    "\n",
    "4. **Monetary (Monetary):**\n",
    "\n",
    "    - Monetary represents the average amount earned per transaction for a customer.\n",
    "    - It is especially used by calculating the average value for each purchase transaction."
   ]
  },
  {
   "cell_type": "code",
   "execution_count": 50,
   "id": "b468ce7b",
   "metadata": {
    "execution": {
     "iopub.execute_input": "2024-06-15T16:14:07.802677Z",
     "iopub.status.busy": "2024-06-15T16:14:07.802236Z",
     "iopub.status.idle": "2024-06-15T16:14:07.809864Z",
     "shell.execute_reply": "2024-06-15T16:14:07.808556Z"
    },
    "papermill": {
     "duration": 0.055078,
     "end_time": "2024-06-15T16:14:07.812386",
     "exception": false,
     "start_time": "2024-06-15T16:14:07.757308",
     "status": "completed"
    },
    "tags": []
   },
   "outputs": [
    {
     "data": {
      "text/plain": [
       "Timestamp('2010-12-11 20:01:00')"
      ]
     },
     "execution_count": 50,
     "metadata": {},
     "output_type": "execute_result"
    }
   ],
   "source": [
    "today_date"
   ]
  },
  {
   "cell_type": "code",
   "execution_count": 51,
   "id": "e879db30",
   "metadata": {
    "execution": {
     "iopub.execute_input": "2024-06-15T16:14:07.898254Z",
     "iopub.status.busy": "2024-06-15T16:14:07.897819Z",
     "iopub.status.idle": "2024-06-15T16:14:09.807215Z",
     "shell.execute_reply": "2024-06-15T16:14:09.806098Z"
    },
    "papermill": {
     "duration": 1.95533,
     "end_time": "2024-06-15T16:14:09.809778",
     "exception": false,
     "start_time": "2024-06-15T16:14:07.854448",
     "status": "completed"
    },
    "tags": []
   },
   "outputs": [
    {
     "data": {
      "text/html": [
       "<div>\n",
       "<style scoped>\n",
       "    .dataframe tbody tr th:only-of-type {\n",
       "        vertical-align: middle;\n",
       "    }\n",
       "\n",
       "    .dataframe tbody tr th {\n",
       "        vertical-align: top;\n",
       "    }\n",
       "\n",
       "    .dataframe thead th {\n",
       "        text-align: right;\n",
       "    }\n",
       "</style>\n",
       "<table border=\"1\" class=\"dataframe\">\n",
       "  <thead>\n",
       "    <tr style=\"text-align: right;\">\n",
       "      <th></th>\n",
       "      <th>Recency</th>\n",
       "      <th>T</th>\n",
       "      <th>Frequency</th>\n",
       "      <th>Monetary</th>\n",
       "    </tr>\n",
       "    <tr>\n",
       "      <th>Customer ID</th>\n",
       "      <th></th>\n",
       "      <th></th>\n",
       "      <th></th>\n",
       "      <th></th>\n",
       "    </tr>\n",
       "  </thead>\n",
       "  <tbody>\n",
       "    <tr>\n",
       "      <th>12346.0</th>\n",
       "      <td>196</td>\n",
       "      <td>362</td>\n",
       "      <td>11</td>\n",
       "      <td>33.896364</td>\n",
       "    </tr>\n",
       "    <tr>\n",
       "      <th>12347.0</th>\n",
       "      <td>37</td>\n",
       "      <td>41</td>\n",
       "      <td>2</td>\n",
       "      <td>661.660000</td>\n",
       "    </tr>\n",
       "    <tr>\n",
       "      <th>12348.0</th>\n",
       "      <td>0</td>\n",
       "      <td>75</td>\n",
       "      <td>1</td>\n",
       "      <td>222.160000</td>\n",
       "    </tr>\n",
       "    <tr>\n",
       "      <th>12349.0</th>\n",
       "      <td>181</td>\n",
       "      <td>226</td>\n",
       "      <td>3</td>\n",
       "      <td>890.380000</td>\n",
       "    </tr>\n",
       "    <tr>\n",
       "      <th>12351.0</th>\n",
       "      <td>0</td>\n",
       "      <td>12</td>\n",
       "      <td>1</td>\n",
       "      <td>300.930000</td>\n",
       "    </tr>\n",
       "    <tr>\n",
       "      <th>...</th>\n",
       "      <td>...</td>\n",
       "      <td>...</td>\n",
       "      <td>...</td>\n",
       "      <td>...</td>\n",
       "    </tr>\n",
       "    <tr>\n",
       "      <th>18283.0</th>\n",
       "      <td>275</td>\n",
       "      <td>295</td>\n",
       "      <td>6</td>\n",
       "      <td>106.961667</td>\n",
       "    </tr>\n",
       "    <tr>\n",
       "      <th>18284.0</th>\n",
       "      <td>0</td>\n",
       "      <td>68</td>\n",
       "      <td>1</td>\n",
       "      <td>461.680000</td>\n",
       "    </tr>\n",
       "    <tr>\n",
       "      <th>18285.0</th>\n",
       "      <td>0</td>\n",
       "      <td>297</td>\n",
       "      <td>1</td>\n",
       "      <td>427.000000</td>\n",
       "    </tr>\n",
       "    <tr>\n",
       "      <th>18286.0</th>\n",
       "      <td>247</td>\n",
       "      <td>360</td>\n",
       "      <td>2</td>\n",
       "      <td>648.215000</td>\n",
       "    </tr>\n",
       "    <tr>\n",
       "      <th>18287.0</th>\n",
       "      <td>188</td>\n",
       "      <td>208</td>\n",
       "      <td>4</td>\n",
       "      <td>586.427500</td>\n",
       "    </tr>\n",
       "  </tbody>\n",
       "</table>\n",
       "<p>4312 rows × 4 columns</p>\n",
       "</div>"
      ],
      "text/plain": [
       "             Recency    T  Frequency    Monetary\n",
       "Customer ID                                     \n",
       "12346.0          196  362         11   33.896364\n",
       "12347.0           37   41          2  661.660000\n",
       "12348.0            0   75          1  222.160000\n",
       "12349.0          181  226          3  890.380000\n",
       "12351.0            0   12          1  300.930000\n",
       "...              ...  ...        ...         ...\n",
       "18283.0          275  295          6  106.961667\n",
       "18284.0            0   68          1  461.680000\n",
       "18285.0            0  297          1  427.000000\n",
       "18286.0          247  360          2  648.215000\n",
       "18287.0          188  208          4  586.427500\n",
       "\n",
       "[4312 rows x 4 columns]"
      ]
     },
     "execution_count": 51,
     "metadata": {},
     "output_type": "execute_result"
    }
   ],
   "source": [
    "df_cltv = (df.groupby('Customer ID')\n",
    "             .agg(Recency   = pd.NamedAgg(column=\"InvoiceDate\", aggfunc= lambda x: (x.max() - x.min()).days),\n",
    "                  T         = pd.NamedAgg(column=\"InvoiceDate\", aggfunc= lambda x: (today_date - x.min()).days),\n",
    "                  Frequency = pd.NamedAgg(column=\"Invoice\"    , aggfunc= lambda x: x.nunique()),\n",
    "                  Monetary  = pd.NamedAgg(column=\"TotalPrice\" , aggfunc= lambda x: x.sum()))\n",
    "             .assign(Monetary = lambda x: x.Monetary / x.Frequency)\n",
    "          )\n",
    "                \n",
    "df_cltv"
   ]
  },
  {
   "cell_type": "code",
   "execution_count": 52,
   "id": "a2a5eda8",
   "metadata": {
    "execution": {
     "iopub.execute_input": "2024-06-15T16:14:09.897275Z",
     "iopub.status.busy": "2024-06-15T16:14:09.896858Z",
     "iopub.status.idle": "2024-06-15T16:14:09.920906Z",
     "shell.execute_reply": "2024-06-15T16:14:09.919617Z"
    },
    "papermill": {
     "duration": 0.069669,
     "end_time": "2024-06-15T16:14:09.923399",
     "exception": false,
     "start_time": "2024-06-15T16:14:09.853730",
     "status": "completed"
    },
    "tags": []
   },
   "outputs": [
    {
     "data": {
      "text/html": [
       "<div>\n",
       "<style scoped>\n",
       "    .dataframe tbody tr th:only-of-type {\n",
       "        vertical-align: middle;\n",
       "    }\n",
       "\n",
       "    .dataframe tbody tr th {\n",
       "        vertical-align: top;\n",
       "    }\n",
       "\n",
       "    .dataframe thead th {\n",
       "        text-align: right;\n",
       "    }\n",
       "</style>\n",
       "<table border=\"1\" class=\"dataframe\">\n",
       "  <thead>\n",
       "    <tr style=\"text-align: right;\">\n",
       "      <th></th>\n",
       "      <th>Recency</th>\n",
       "      <th>T</th>\n",
       "      <th>Frequency</th>\n",
       "      <th>Monetary</th>\n",
       "    </tr>\n",
       "  </thead>\n",
       "  <tbody>\n",
       "    <tr>\n",
       "      <th>count</th>\n",
       "      <td>4312.000000</td>\n",
       "      <td>4312.000000</td>\n",
       "      <td>4312.000000</td>\n",
       "      <td>4312.000000</td>\n",
       "    </tr>\n",
       "    <tr>\n",
       "      <th>mean</th>\n",
       "      <td>133.998609</td>\n",
       "      <td>226.494434</td>\n",
       "      <td>4.455705</td>\n",
       "      <td>378.322627</td>\n",
       "    </tr>\n",
       "    <tr>\n",
       "      <th>std</th>\n",
       "      <td>132.827183</td>\n",
       "      <td>118.909291</td>\n",
       "      <td>8.170213</td>\n",
       "      <td>492.564076</td>\n",
       "    </tr>\n",
       "    <tr>\n",
       "      <th>min</th>\n",
       "      <td>0.000000</td>\n",
       "      <td>2.000000</td>\n",
       "      <td>1.000000</td>\n",
       "      <td>2.950000</td>\n",
       "    </tr>\n",
       "    <tr>\n",
       "      <th>25%</th>\n",
       "      <td>0.000000</td>\n",
       "      <td>118.000000</td>\n",
       "      <td>1.000000</td>\n",
       "      <td>182.087857</td>\n",
       "    </tr>\n",
       "    <tr>\n",
       "      <th>50%</th>\n",
       "      <td>105.000000</td>\n",
       "      <td>254.000000</td>\n",
       "      <td>2.000000</td>\n",
       "      <td>287.368056</td>\n",
       "    </tr>\n",
       "    <tr>\n",
       "      <th>75%</th>\n",
       "      <td>254.000000</td>\n",
       "      <td>330.000000</td>\n",
       "      <td>5.000000</td>\n",
       "      <td>423.576667</td>\n",
       "    </tr>\n",
       "    <tr>\n",
       "      <th>max</th>\n",
       "      <td>373.000000</td>\n",
       "      <td>375.000000</td>\n",
       "      <td>205.000000</td>\n",
       "      <td>11880.840000</td>\n",
       "    </tr>\n",
       "  </tbody>\n",
       "</table>\n",
       "</div>"
      ],
      "text/plain": [
       "           Recency            T    Frequency      Monetary\n",
       "count  4312.000000  4312.000000  4312.000000   4312.000000\n",
       "mean    133.998609   226.494434     4.455705    378.322627\n",
       "std     132.827183   118.909291     8.170213    492.564076\n",
       "min       0.000000     2.000000     1.000000      2.950000\n",
       "25%       0.000000   118.000000     1.000000    182.087857\n",
       "50%     105.000000   254.000000     2.000000    287.368056\n",
       "75%     254.000000   330.000000     5.000000    423.576667\n",
       "max     373.000000   375.000000   205.000000  11880.840000"
      ]
     },
     "execution_count": 52,
     "metadata": {},
     "output_type": "execute_result"
    }
   ],
   "source": [
    "df_cltv.describe()"
   ]
  },
  {
   "cell_type": "code",
   "execution_count": 53,
   "id": "9212d552",
   "metadata": {
    "execution": {
     "iopub.execute_input": "2024-06-15T16:14:10.011695Z",
     "iopub.status.busy": "2024-06-15T16:14:10.011278Z",
     "iopub.status.idle": "2024-06-15T16:14:10.018742Z",
     "shell.execute_reply": "2024-06-15T16:14:10.017580Z"
    },
    "papermill": {
     "duration": 0.053685,
     "end_time": "2024-06-15T16:14:10.021155",
     "exception": false,
     "start_time": "2024-06-15T16:14:09.967470",
     "status": "completed"
    },
    "tags": []
   },
   "outputs": [
    {
     "data": {
      "text/plain": [
       "(4312, 4)"
      ]
     },
     "execution_count": 53,
     "metadata": {},
     "output_type": "execute_result"
    }
   ],
   "source": [
    "df_cltv.shape"
   ]
  },
  {
   "cell_type": "code",
   "execution_count": 54,
   "id": "0fd0e201",
   "metadata": {
    "execution": {
     "iopub.execute_input": "2024-06-15T16:14:10.107757Z",
     "iopub.status.busy": "2024-06-15T16:14:10.106919Z",
     "iopub.status.idle": "2024-06-15T16:14:10.114076Z",
     "shell.execute_reply": "2024-06-15T16:14:10.112835Z"
    },
    "papermill": {
     "duration": 0.052238,
     "end_time": "2024-06-15T16:14:10.116477",
     "exception": false,
     "start_time": "2024-06-15T16:14:10.064239",
     "status": "completed"
    },
    "tags": []
   },
   "outputs": [],
   "source": [
    "# To convert Recency and T from unit of day to week\n",
    "\n",
    "df_cltv['Recency'] = df_cltv['Recency'] // 7\n",
    "df_cltv['T'] = df_cltv['T'] // 7"
   ]
  },
  {
   "cell_type": "markdown",
   "id": "7e2943a7",
   "metadata": {
    "papermill": {
     "duration": 0.043804,
     "end_time": "2024-06-15T16:14:10.202688",
     "exception": false,
     "start_time": "2024-06-15T16:14:10.158884",
     "status": "completed"
    },
    "tags": []
   },
   "source": [
    "#### Notes:\n",
    "\n",
    "Why are T and Recency values calculated on a weekly basis?\n",
    "\n",
    "T (tenure) and recency (the time since a customer's last purchase) values are often calculated on a weekly basis because it is a measure that allows for better analysis of transaction data and the prediction of customer behavior. Calculating them on a weekly basis helps capture seasonal fluctuations and other factors in transaction data more effectively.\n",
    "\n",
    "Additionally, measuring in weekly units helps in better understanding and decision-making when it comes to transaction data because many transactions, especially in the retail sector, occur on a weekly cycle. Therefore, using weekly-based T and recency values for examining customer shopping behaviors enables businesses to improve customer relationship management and enhance marketing strategies more effectively."
   ]
  },
  {
   "cell_type": "code",
   "execution_count": 55,
   "id": "38ec67d3",
   "metadata": {
    "execution": {
     "iopub.execute_input": "2024-06-15T16:14:10.292669Z",
     "iopub.status.busy": "2024-06-15T16:14:10.292219Z",
     "iopub.status.idle": "2024-06-15T16:14:10.300288Z",
     "shell.execute_reply": "2024-06-15T16:14:10.299050Z"
    },
    "papermill": {
     "duration": 0.055917,
     "end_time": "2024-06-15T16:14:10.302891",
     "exception": false,
     "start_time": "2024-06-15T16:14:10.246974",
     "status": "completed"
    },
    "tags": []
   },
   "outputs": [],
   "source": [
    "# To exclude the frequency value equal to 1\n",
    "\n",
    "df_cltv = df_cltv.loc[df_cltv.Frequency > 1]"
   ]
  },
  {
   "cell_type": "markdown",
   "id": "12f8de36",
   "metadata": {
    "papermill": {
     "duration": 0.041898,
     "end_time": "2024-06-15T16:14:10.387627",
     "exception": false,
     "start_time": "2024-06-15T16:14:10.345729",
     "status": "completed"
    },
    "tags": []
   },
   "source": [
    "#### Comment:\n",
    "\n",
    "We consider the frequency value to be greater than 1 in CLTV (Customer Lifetime Value) prediction because it is used to focus on repeat customers who have made purchases more than once. Repeat customers, those with a frequency greater than 1, are more likely to make future purchases and are generally more valuable to a business. Customers who make a one-time purchase (frequency equals 1) often have lower potential for long-term profitability. Therefore, considering only repeat customers helps businesses create more effective marketing strategies and increase customer loyalty."
   ]
  },
  {
   "cell_type": "markdown",
   "id": "72ab3610",
   "metadata": {
    "papermill": {
     "duration": 0.044783,
     "end_time": "2024-06-15T16:14:10.477051",
     "exception": false,
     "start_time": "2024-06-15T16:14:10.432268",
     "status": "completed"
    },
    "tags": []
   },
   "source": [
    "### Establishment of BG-NBD Model"
   ]
  },
  {
   "cell_type": "code",
   "execution_count": 56,
   "id": "0c8508c7",
   "metadata": {
    "execution": {
     "iopub.execute_input": "2024-06-15T16:14:10.567847Z",
     "iopub.status.busy": "2024-06-15T16:14:10.567405Z",
     "iopub.status.idle": "2024-06-15T16:14:10.735048Z",
     "shell.execute_reply": "2024-06-15T16:14:10.732402Z"
    },
    "papermill": {
     "duration": 0.218527,
     "end_time": "2024-06-15T16:14:10.739421",
     "exception": false,
     "start_time": "2024-06-15T16:14:10.520894",
     "status": "completed"
    },
    "tags": []
   },
   "outputs": [
    {
     "data": {
      "text/plain": [
       "<lifetimes.BetaGeoFitter: fitted with 2893 subjects, a: 0.08, alpha: 8.62, b: 1.25, r: 1.74>"
      ]
     },
     "execution_count": 56,
     "metadata": {},
     "output_type": "execute_result"
    }
   ],
   "source": [
    "BGF = BetaGeoFitter(penalizer_coef=0.01)\n",
    "BGF.fit(frequency= df_cltv['Frequency'],\n",
    "        recency= df_cltv['Recency'],\n",
    "        T = df_cltv['T'])"
   ]
  },
  {
   "cell_type": "code",
   "execution_count": 57,
   "id": "2fe59dce",
   "metadata": {
    "execution": {
     "iopub.execute_input": "2024-06-15T16:14:10.883933Z",
     "iopub.status.busy": "2024-06-15T16:14:10.883505Z",
     "iopub.status.idle": "2024-06-15T16:14:10.903163Z",
     "shell.execute_reply": "2024-06-15T16:14:10.901959Z"
    },
    "papermill": {
     "duration": 0.076527,
     "end_time": "2024-06-15T16:14:10.905716",
     "exception": false,
     "start_time": "2024-06-15T16:14:10.829189",
     "status": "completed"
    },
    "tags": []
   },
   "outputs": [
    {
     "data": {
      "text/plain": [
       "Customer ID\n",
       "14911.0    3.351679e+00\n",
       "12748.0    2.349847e+00\n",
       "17850.0    2.334973e+00\n",
       "15311.0    1.989369e+00\n",
       "13089.0    1.788206e+00\n",
       "               ...     \n",
       "17067.0    3.098058e-04\n",
       "17329.0    2.820997e-04\n",
       "15359.0    9.763764e-06\n",
       "17448.0    3.077800e-08\n",
       "12482.0    9.476906e-11\n",
       "Length: 2893, dtype: float64"
      ]
     },
     "execution_count": 57,
     "metadata": {},
     "output_type": "execute_result"
    }
   ],
   "source": [
    "# Estimate the number of purchases within next week\n",
    "\n",
    "BGF.conditional_expected_number_of_purchases_up_to_time(t = 1,\n",
    "                                                        frequency = df_cltv['Frequency'],\n",
    "                                                        recency = df_cltv['Recency'],\n",
    "                                                        T = df_cltv['T']).sort_values(ascending=False)"
   ]
  },
  {
   "cell_type": "code",
   "execution_count": 58,
   "id": "7694b39f",
   "metadata": {
    "execution": {
     "iopub.execute_input": "2024-06-15T16:14:10.993406Z",
     "iopub.status.busy": "2024-06-15T16:14:10.992973Z",
     "iopub.status.idle": "2024-06-15T16:14:11.009129Z",
     "shell.execute_reply": "2024-06-15T16:14:11.007927Z"
    },
    "papermill": {
     "duration": 0.062688,
     "end_time": "2024-06-15T16:14:11.011940",
     "exception": false,
     "start_time": "2024-06-15T16:14:10.949252",
     "status": "completed"
    },
    "tags": []
   },
   "outputs": [],
   "source": [
    "df_cltv[\"expected_purchases_1_week\"] = BGF.predict(t = 1,\n",
    "                                                   frequency = df_cltv['Frequency'],\n",
    "                                                   recency = df_cltv['Recency'],\n",
    "                                                   T = df_cltv['T'])"
   ]
  },
  {
   "cell_type": "code",
   "execution_count": 59,
   "id": "7c6f6825",
   "metadata": {
    "execution": {
     "iopub.execute_input": "2024-06-15T16:14:11.105929Z",
     "iopub.status.busy": "2024-06-15T16:14:11.105531Z",
     "iopub.status.idle": "2024-06-15T16:14:11.122388Z",
     "shell.execute_reply": "2024-06-15T16:14:11.120987Z"
    },
    "papermill": {
     "duration": 0.065132,
     "end_time": "2024-06-15T16:14:11.125291",
     "exception": false,
     "start_time": "2024-06-15T16:14:11.060159",
     "status": "completed"
    },
    "tags": []
   },
   "outputs": [],
   "source": [
    "df_cltv[\"expected_purchases_1_month\"] = BGF.predict(t = 4,\n",
    "                                                    frequency = df_cltv['Frequency'],\n",
    "                                                    recency = df_cltv['Recency'],\n",
    "                                                    T = df_cltv['T'])"
   ]
  },
  {
   "cell_type": "code",
   "execution_count": 60,
   "id": "7df906c0",
   "metadata": {
    "execution": {
     "iopub.execute_input": "2024-06-15T16:14:11.238563Z",
     "iopub.status.busy": "2024-06-15T16:14:11.238121Z",
     "iopub.status.idle": "2024-06-15T16:14:11.257927Z",
     "shell.execute_reply": "2024-06-15T16:14:11.256486Z"
    },
    "papermill": {
     "duration": 0.08511,
     "end_time": "2024-06-15T16:14:11.261074",
     "exception": false,
     "start_time": "2024-06-15T16:14:11.175964",
     "status": "completed"
    },
    "tags": []
   },
   "outputs": [],
   "source": [
    "df_cltv[\"expected_purchases_3_month\"] = BGF.predict(t = 4*3,\n",
    "                                                    frequency = df_cltv['Frequency'],\n",
    "                                                    recency = df_cltv['Recency'],\n",
    "                                                    T = df_cltv['T'])"
   ]
  },
  {
   "cell_type": "code",
   "execution_count": 61,
   "id": "2ff27892",
   "metadata": {
    "execution": {
     "iopub.execute_input": "2024-06-15T16:14:11.353712Z",
     "iopub.status.busy": "2024-06-15T16:14:11.353269Z",
     "iopub.status.idle": "2024-06-15T16:14:11.372143Z",
     "shell.execute_reply": "2024-06-15T16:14:11.370125Z"
    },
    "papermill": {
     "duration": 0.067899,
     "end_time": "2024-06-15T16:14:11.375342",
     "exception": false,
     "start_time": "2024-06-15T16:14:11.307443",
     "status": "completed"
    },
    "tags": []
   },
   "outputs": [],
   "source": [
    "df_cltv[\"expected_purchases_6_month\"] = BGF.predict(t = 4*6,\n",
    "                                                    frequency = df_cltv['Frequency'],\n",
    "                                                    recency = df_cltv['Recency'],\n",
    "                                                    T = df_cltv['T'])"
   ]
  },
  {
   "cell_type": "code",
   "execution_count": 62,
   "id": "b31003ae",
   "metadata": {
    "execution": {
     "iopub.execute_input": "2024-06-15T16:14:11.465005Z",
     "iopub.status.busy": "2024-06-15T16:14:11.464578Z",
     "iopub.status.idle": "2024-06-15T16:14:12.521255Z",
     "shell.execute_reply": "2024-06-15T16:14:12.520139Z"
    },
    "papermill": {
     "duration": 1.104777,
     "end_time": "2024-06-15T16:14:12.523877",
     "exception": false,
     "start_time": "2024-06-15T16:14:11.419100",
     "status": "completed"
    },
    "tags": []
   },
   "outputs": [
    {
     "data": {
      "image/png": "[encoded data removed]",
      "text/plain": [
       "<Figure size 640x480 with 1 Axes>"
      ]
     },
     "metadata": {},
     "output_type": "display_data"
    }
   ],
   "source": [
    "# Evaluation of prediction results\n",
    "# This is to compare your data versus artificial data simulated with your fitted model’s parameters.\n",
    "\n",
    "plot_period_transactions(BGF)\n",
    "plt.show()"
   ]
  },
  {
   "cell_type": "code",
   "execution_count": 63,
   "id": "945911c5",
   "metadata": {
    "execution": {
     "iopub.execute_input": "2024-06-15T16:14:12.617642Z",
     "iopub.status.busy": "2024-06-15T16:14:12.617207Z",
     "iopub.status.idle": "2024-06-15T16:14:12.690491Z",
     "shell.execute_reply": "2024-06-15T16:14:12.689134Z"
    },
    "papermill": {
     "duration": 0.12497,
     "end_time": "2024-06-15T16:14:12.693611",
     "exception": false,
     "start_time": "2024-06-15T16:14:12.568641",
     "status": "completed"
    },
    "tags": []
   },
   "outputs": [
    {
     "data": {
      "text/plain": [
       "<lifetimes.GammaGammaFitter: fitted with 2893 subjects, p: 3.79, q: 0.34, v: 3.72>"
      ]
     },
     "execution_count": 63,
     "metadata": {},
     "output_type": "execute_result"
    }
   ],
   "source": [
    "GGF = GammaGammaFitter(penalizer_coef=0.01)\n",
    "GGF.fit(frequency=df_cltv[\"Frequency\"], monetary_value=df_cltv['Monetary'])"
   ]
  },
  {
   "cell_type": "code",
   "execution_count": 64,
   "id": "a4340a95",
   "metadata": {
    "execution": {
     "iopub.execute_input": "2024-06-15T16:14:12.790407Z",
     "iopub.status.busy": "2024-06-15T16:14:12.788270Z",
     "iopub.status.idle": "2024-06-15T16:14:12.797665Z",
     "shell.execute_reply": "2024-06-15T16:14:12.796290Z"
    },
    "papermill": {
     "duration": 0.060276,
     "end_time": "2024-06-15T16:14:12.800609",
     "exception": false,
     "start_time": "2024-06-15T16:14:12.740333",
     "status": "completed"
    },
    "tags": []
   },
   "outputs": [],
   "source": [
    "df_cltv[\"expected_average_profit\"] = GGF.conditional_expected_average_profit(frequency=df_cltv[\"Frequency\"], \n",
    "                                                                             monetary_value=df_cltv['Monetary'])"
   ]
  },
  {
   "cell_type": "code",
   "execution_count": 65,
   "id": "8fc72f0a",
   "metadata": {
    "execution": {
     "iopub.execute_input": "2024-06-15T16:14:12.892016Z",
     "iopub.status.busy": "2024-06-15T16:14:12.891575Z",
     "iopub.status.idle": "2024-06-15T16:14:12.902916Z",
     "shell.execute_reply": "2024-06-15T16:14:12.901610Z"
    },
    "papermill": {
     "duration": 0.060675,
     "end_time": "2024-06-15T16:14:12.905576",
     "exception": false,
     "start_time": "2024-06-15T16:14:12.844901",
     "status": "completed"
    },
    "tags": []
   },
   "outputs": [
    {
     "data": {
      "text/plain": [
       "Customer ID\n",
       "17450.0    7681.447972\n",
       "15760.0    7627.355279\n",
       "13902.0    7067.119898\n",
       "12357.0    6621.146066\n",
       "14091.0    5223.948945\n",
       "              ...     \n",
       "15359.0      23.651222\n",
       "17246.0      23.364833\n",
       "14610.0      15.381350\n",
       "16454.0      15.216969\n",
       "18037.0      11.458474\n",
       "Name: expected_average_profit, Length: 2893, dtype: float64"
      ]
     },
     "execution_count": 65,
     "metadata": {},
     "output_type": "execute_result"
    }
   ],
   "source": [
    "df_cltv[\"expected_average_profit\"].sort_values(ascending=False)"
   ]
  },
  {
   "cell_type": "code",
   "execution_count": 66,
   "id": "55790404",
   "metadata": {
    "execution": {
     "iopub.execute_input": "2024-06-15T16:14:12.994268Z",
     "iopub.status.busy": "2024-06-15T16:14:12.993861Z",
     "iopub.status.idle": "2024-06-15T16:14:13.018341Z",
     "shell.execute_reply": "2024-06-15T16:14:13.017157Z"
    },
    "papermill": {
     "duration": 0.071783,
     "end_time": "2024-06-15T16:14:13.021249",
     "exception": false,
     "start_time": "2024-06-15T16:14:12.949466",
     "status": "completed"
    },
    "tags": []
   },
   "outputs": [
    {
     "data": {
      "text/html": [
       "<div>\n",
       "<style scoped>\n",
       "    .dataframe tbody tr th:only-of-type {\n",
       "        vertical-align: middle;\n",
       "    }\n",
       "\n",
       "    .dataframe tbody tr th {\n",
       "        vertical-align: top;\n",
       "    }\n",
       "\n",
       "    .dataframe thead th {\n",
       "        text-align: right;\n",
       "    }\n",
       "</style>\n",
       "<table border=\"1\" class=\"dataframe\">\n",
       "  <thead>\n",
       "    <tr style=\"text-align: right;\">\n",
       "      <th></th>\n",
       "      <th>Recency</th>\n",
       "      <th>T</th>\n",
       "      <th>Frequency</th>\n",
       "      <th>Monetary</th>\n",
       "      <th>expected_purchases_1_week</th>\n",
       "      <th>expected_purchases_1_month</th>\n",
       "      <th>expected_purchases_3_month</th>\n",
       "      <th>expected_purchases_6_month</th>\n",
       "      <th>expected_average_profit</th>\n",
       "    </tr>\n",
       "    <tr>\n",
       "      <th>Customer ID</th>\n",
       "      <th></th>\n",
       "      <th></th>\n",
       "      <th></th>\n",
       "      <th></th>\n",
       "      <th></th>\n",
       "      <th></th>\n",
       "      <th></th>\n",
       "      <th></th>\n",
       "      <th></th>\n",
       "    </tr>\n",
       "  </thead>\n",
       "  <tbody>\n",
       "    <tr>\n",
       "      <th>12346.0</th>\n",
       "      <td>28</td>\n",
       "      <td>51</td>\n",
       "      <td>11</td>\n",
       "      <td>33.896364</td>\n",
       "      <td>0.047863</td>\n",
       "      <td>0.191044</td>\n",
       "      <td>0.570091</td>\n",
       "      <td>1.132019</td>\n",
       "      <td>34.788047</td>\n",
       "    </tr>\n",
       "    <tr>\n",
       "      <th>12347.0</th>\n",
       "      <td>5</td>\n",
       "      <td>5</td>\n",
       "      <td>2</td>\n",
       "      <td>661.660000</td>\n",
       "      <td>0.264646</td>\n",
       "      <td>1.047445</td>\n",
       "      <td>3.074397</td>\n",
       "      <td>6.006881</td>\n",
       "      <td>727.138685</td>\n",
       "    </tr>\n",
       "    <tr>\n",
       "      <th>12349.0</th>\n",
       "      <td>25</td>\n",
       "      <td>32</td>\n",
       "      <td>3</td>\n",
       "      <td>890.380000</td>\n",
       "      <td>0.110160</td>\n",
       "      <td>0.439040</td>\n",
       "      <td>1.305618</td>\n",
       "      <td>2.582110</td>\n",
       "      <td>946.847479</td>\n",
       "    </tr>\n",
       "    <tr>\n",
       "      <th>12352.0</th>\n",
       "      <td>2</td>\n",
       "      <td>4</td>\n",
       "      <td>2</td>\n",
       "      <td>171.900000</td>\n",
       "      <td>0.277076</td>\n",
       "      <td>1.095856</td>\n",
       "      <td>3.212782</td>\n",
       "      <td>6.271677</td>\n",
       "      <td>190.420713</td>\n",
       "    </tr>\n",
       "    <tr>\n",
       "      <th>12356.0</th>\n",
       "      <td>6</td>\n",
       "      <td>8</td>\n",
       "      <td>3</td>\n",
       "      <td>1187.416667</td>\n",
       "      <td>0.272558</td>\n",
       "      <td>1.081204</td>\n",
       "      <td>3.185921</td>\n",
       "      <td>6.245172</td>\n",
       "      <td>1262.282629</td>\n",
       "    </tr>\n",
       "    <tr>\n",
       "      <th>...</th>\n",
       "      <td>...</td>\n",
       "      <td>...</td>\n",
       "      <td>...</td>\n",
       "      <td>...</td>\n",
       "      <td>...</td>\n",
       "      <td>...</td>\n",
       "      <td>...</td>\n",
       "      <td>...</td>\n",
       "      <td>...</td>\n",
       "    </tr>\n",
       "    <tr>\n",
       "      <th>18276.0</th>\n",
       "      <td>48</td>\n",
       "      <td>52</td>\n",
       "      <td>5</td>\n",
       "      <td>264.132000</td>\n",
       "      <td>0.108614</td>\n",
       "      <td>0.433461</td>\n",
       "      <td>1.292976</td>\n",
       "      <td>2.566182</td>\n",
       "      <td>274.482131</td>\n",
       "    </tr>\n",
       "    <tr>\n",
       "      <th>18277.0</th>\n",
       "      <td>13</td>\n",
       "      <td>18</td>\n",
       "      <td>4</td>\n",
       "      <td>267.417500</td>\n",
       "      <td>0.203067</td>\n",
       "      <td>0.808073</td>\n",
       "      <td>2.395333</td>\n",
       "      <td>4.721431</td>\n",
       "      <td>280.623835</td>\n",
       "    </tr>\n",
       "    <tr>\n",
       "      <th>18283.0</th>\n",
       "      <td>39</td>\n",
       "      <td>42</td>\n",
       "      <td>6</td>\n",
       "      <td>106.961667</td>\n",
       "      <td>0.149850</td>\n",
       "      <td>0.597808</td>\n",
       "      <td>1.781691</td>\n",
       "      <td>3.532575</td>\n",
       "      <td>110.813603</td>\n",
       "    </tr>\n",
       "    <tr>\n",
       "      <th>18286.0</th>\n",
       "      <td>35</td>\n",
       "      <td>51</td>\n",
       "      <td>2</td>\n",
       "      <td>648.215000</td>\n",
       "      <td>0.056433</td>\n",
       "      <td>0.225123</td>\n",
       "      <td>0.670870</td>\n",
       "      <td>1.329891</td>\n",
       "      <td>712.404584</td>\n",
       "    </tr>\n",
       "    <tr>\n",
       "      <th>18287.0</th>\n",
       "      <td>26</td>\n",
       "      <td>29</td>\n",
       "      <td>4</td>\n",
       "      <td>586.427500</td>\n",
       "      <td>0.148115</td>\n",
       "      <td>0.590246</td>\n",
       "      <td>1.754911</td>\n",
       "      <td>3.469947</td>\n",
       "      <td>614.227488</td>\n",
       "    </tr>\n",
       "  </tbody>\n",
       "</table>\n",
       "<p>2893 rows × 9 columns</p>\n",
       "</div>"
      ],
      "text/plain": [
       "             Recency   T  Frequency     Monetary  expected_purchases_1_week  \\\n",
       "Customer ID                                                                   \n",
       "12346.0           28  51         11    33.896364                   0.047863   \n",
       "12347.0            5   5          2   661.660000                   0.264646   \n",
       "12349.0           25  32          3   890.380000                   0.110160   \n",
       "12352.0            2   4          2   171.900000                   0.277076   \n",
       "12356.0            6   8          3  1187.416667                   0.272558   \n",
       "...              ...  ..        ...          ...                        ...   \n",
       "18276.0           48  52          5   264.132000                   0.108614   \n",
       "18277.0           13  18          4   267.417500                   0.203067   \n",
       "18283.0           39  42          6   106.961667                   0.149850   \n",
       "18286.0           35  51          2   648.215000                   0.056433   \n",
       "18287.0           26  29          4   586.427500                   0.148115   \n",
       "\n",
       "             expected_purchases_1_month  expected_purchases_3_month  \\\n",
       "Customer ID                                                           \n",
       "12346.0                        0.191044                    0.570091   \n",
       "12347.0                        1.047445                    3.074397   \n",
       "12349.0                        0.439040                    1.305618   \n",
       "12352.0                        1.095856                    3.212782   \n",
       "12356.0                        1.081204                    3.185921   \n",
       "...                                 ...                         ...   \n",
       "18276.0                        0.433461                    1.292976   \n",
       "18277.0                        0.808073                    2.395333   \n",
       "18283.0                        0.597808                    1.781691   \n",
       "18286.0                        0.225123                    0.670870   \n",
       "18287.0                        0.590246                    1.754911   \n",
       "\n",
       "             expected_purchases_6_month  expected_average_profit  \n",
       "Customer ID                                                       \n",
       "12346.0                        1.132019                34.788047  \n",
       "12347.0                        6.006881               727.138685  \n",
       "12349.0                        2.582110               946.847479  \n",
       "12352.0                        6.271677               190.420713  \n",
       "12356.0                        6.245172              1262.282629  \n",
       "...                                 ...                      ...  \n",
       "18276.0                        2.566182               274.482131  \n",
       "18277.0                        4.721431               280.623835  \n",
       "18283.0                        3.532575               110.813603  \n",
       "18286.0                        1.329891               712.404584  \n",
       "18287.0                        3.469947               614.227488  \n",
       "\n",
       "[2893 rows x 9 columns]"
      ]
     },
     "execution_count": 66,
     "metadata": {},
     "output_type": "execute_result"
    }
   ],
   "source": [
    "df_cltv"
   ]
  },
  {
   "cell_type": "markdown",
   "id": "895e064b",
   "metadata": {
    "papermill": {
     "duration": 0.043528,
     "end_time": "2024-06-15T16:14:13.111779",
     "exception": false,
     "start_time": "2024-06-15T16:14:13.068251",
     "status": "completed"
    },
    "tags": []
   },
   "source": [
    "### Calculation of CLTV with BG-NBD and GG Model"
   ]
  },
  {
   "cell_type": "code",
   "execution_count": 67,
   "id": "1bd4c510",
   "metadata": {
    "execution": {
     "iopub.execute_input": "2024-06-15T16:14:13.203589Z",
     "iopub.status.busy": "2024-06-15T16:14:13.203167Z",
     "iopub.status.idle": "2024-06-15T16:14:13.259704Z",
     "shell.execute_reply": "2024-06-15T16:14:13.258661Z"
    },
    "papermill": {
     "duration": 0.105972,
     "end_time": "2024-06-15T16:14:13.262561",
     "exception": false,
     "start_time": "2024-06-15T16:14:13.156589",
     "status": "completed"
    },
    "tags": []
   },
   "outputs": [],
   "source": [
    "cltv = GGF.customer_lifetime_value(BGF, \n",
    "                                   frequency = df_cltv['Frequency'],\n",
    "                                   recency = df_cltv['Recency'],\n",
    "                                   T = df_cltv['T'],\n",
    "                                   monetary_value = df_cltv['Monetary'],\n",
    "                                   time = 3, # 3 months\n",
    "                                   freq = \"W\", # frequency information of T.\n",
    "                                   discount_rate = 0.01)"
   ]
  },
  {
   "cell_type": "code",
   "execution_count": 68,
   "id": "2a0ab22d",
   "metadata": {
    "execution": {
     "iopub.execute_input": "2024-06-15T16:14:13.356473Z",
     "iopub.status.busy": "2024-06-15T16:14:13.355996Z",
     "iopub.status.idle": "2024-06-15T16:14:13.363132Z",
     "shell.execute_reply": "2024-06-15T16:14:13.361726Z"
    },
    "papermill": {
     "duration": 0.057222,
     "end_time": "2024-06-15T16:14:13.366097",
     "exception": false,
     "start_time": "2024-06-15T16:14:13.308875",
     "status": "completed"
    },
    "tags": []
   },
   "outputs": [],
   "source": [
    "cltv = cltv.reset_index()"
   ]
  },
  {
   "cell_type": "code",
   "execution_count": 69,
   "id": "25a1c909",
   "metadata": {
    "execution": {
     "iopub.execute_input": "2024-06-15T16:14:13.458434Z",
     "iopub.status.busy": "2024-06-15T16:14:13.457990Z",
     "iopub.status.idle": "2024-06-15T16:14:13.468651Z",
     "shell.execute_reply": "2024-06-15T16:14:13.467370Z"
    },
    "papermill": {
     "duration": 0.062057,
     "end_time": "2024-06-15T16:14:13.471949",
     "exception": false,
     "start_time": "2024-06-15T16:14:13.409892",
     "status": "completed"
    },
    "tags": []
   },
   "outputs": [],
   "source": [
    "df_cltv = df_cltv.merge(cltv, how='left', on=\"Customer ID\")"
   ]
  },
  {
   "cell_type": "code",
   "execution_count": 70,
   "id": "24c06a8d",
   "metadata": {
    "execution": {
     "iopub.execute_input": "2024-06-15T16:14:13.564335Z",
     "iopub.status.busy": "2024-06-15T16:14:13.562853Z",
     "iopub.status.idle": "2024-06-15T16:14:13.587197Z",
     "shell.execute_reply": "2024-06-15T16:14:13.585969Z"
    },
    "papermill": {
     "duration": 0.072477,
     "end_time": "2024-06-15T16:14:13.589889",
     "exception": false,
     "start_time": "2024-06-15T16:14:13.517412",
     "status": "completed"
    },
    "tags": []
   },
   "outputs": [
    {
     "data": {
      "text/html": [
       "<div>\n",
       "<style scoped>\n",
       "    .dataframe tbody tr th:only-of-type {\n",
       "        vertical-align: middle;\n",
       "    }\n",
       "\n",
       "    .dataframe tbody tr th {\n",
       "        vertical-align: top;\n",
       "    }\n",
       "\n",
       "    .dataframe thead th {\n",
       "        text-align: right;\n",
       "    }\n",
       "</style>\n",
       "<table border=\"1\" class=\"dataframe\">\n",
       "  <thead>\n",
       "    <tr style=\"text-align: right;\">\n",
       "      <th></th>\n",
       "      <th>Customer ID</th>\n",
       "      <th>Recency</th>\n",
       "      <th>T</th>\n",
       "      <th>Frequency</th>\n",
       "      <th>Monetary</th>\n",
       "      <th>expected_purchases_1_week</th>\n",
       "      <th>expected_purchases_1_month</th>\n",
       "      <th>expected_purchases_3_month</th>\n",
       "      <th>expected_purchases_6_month</th>\n",
       "      <th>expected_average_profit</th>\n",
       "      <th>clv</th>\n",
       "    </tr>\n",
       "  </thead>\n",
       "  <tbody>\n",
       "    <tr>\n",
       "      <th>2827</th>\n",
       "      <td>18102.0</td>\n",
       "      <td>53</td>\n",
       "      <td>53</td>\n",
       "      <td>89</td>\n",
       "      <td>3923.194944</td>\n",
       "      <td>1.470391</td>\n",
       "      <td>5.870519</td>\n",
       "      <td>17.528369</td>\n",
       "      <td>34.830960</td>\n",
       "      <td>3930.965384</td>\n",
       "      <td>73333.485586</td>\n",
       "    </tr>\n",
       "    <tr>\n",
       "      <th>1096</th>\n",
       "      <td>14646.0</td>\n",
       "      <td>51</td>\n",
       "      <td>53</td>\n",
       "      <td>78</td>\n",
       "      <td>3184.570513</td>\n",
       "      <td>1.275590</td>\n",
       "      <td>5.092757</td>\n",
       "      <td>15.205961</td>\n",
       "      <td>30.215705</td>\n",
       "      <td>3191.778523</td>\n",
       "      <td>51654.453242</td>\n",
       "    </tr>\n",
       "    <tr>\n",
       "      <th>2499</th>\n",
       "      <td>17450.0</td>\n",
       "      <td>10</td>\n",
       "      <td>10</td>\n",
       "      <td>7</td>\n",
       "      <td>7488.900000</td>\n",
       "      <td>0.463494</td>\n",
       "      <td>1.841631</td>\n",
       "      <td>5.443225</td>\n",
       "      <td>10.699733</td>\n",
       "      <td>7681.447972</td>\n",
       "      <td>44454.019599</td>\n",
       "    </tr>\n",
       "    <tr>\n",
       "      <th>846</th>\n",
       "      <td>14156.0</td>\n",
       "      <td>52</td>\n",
       "      <td>53</td>\n",
       "      <td>102</td>\n",
       "      <td>1927.124902</td>\n",
       "      <td>1.675521</td>\n",
       "      <td>6.689521</td>\n",
       "      <td>19.973937</td>\n",
       "      <td>39.691017</td>\n",
       "      <td>1930.473129</td>\n",
       "      <td>41038.309157</td>\n",
       "    </tr>\n",
       "    <tr>\n",
       "      <th>1229</th>\n",
       "      <td>14911.0</td>\n",
       "      <td>53</td>\n",
       "      <td>53</td>\n",
       "      <td>205</td>\n",
       "      <td>742.183268</td>\n",
       "      <td>3.351679</td>\n",
       "      <td>13.381753</td>\n",
       "      <td>39.957148</td>\n",
       "      <td>79.403384</td>\n",
       "      <td>742.835483</td>\n",
       "      <td>31590.069107</td>\n",
       "    </tr>\n",
       "    <tr>\n",
       "      <th>616</th>\n",
       "      <td>13694.0</td>\n",
       "      <td>51</td>\n",
       "      <td>53</td>\n",
       "      <td>94</td>\n",
       "      <td>1398.331809</td>\n",
       "      <td>1.523035</td>\n",
       "      <td>6.080708</td>\n",
       "      <td>18.156019</td>\n",
       "      <td>36.078336</td>\n",
       "      <td>1400.979333</td>\n",
       "      <td>27071.613592</td>\n",
       "    </tr>\n",
       "    <tr>\n",
       "      <th>5</th>\n",
       "      <td>12357.0</td>\n",
       "      <td>0</td>\n",
       "      <td>3</td>\n",
       "      <td>2</td>\n",
       "      <td>6039.995000</td>\n",
       "      <td>0.289931</td>\n",
       "      <td>1.145752</td>\n",
       "      <td>3.354750</td>\n",
       "      <td>6.542492</td>\n",
       "      <td>6621.146066</td>\n",
       "      <td>23596.338614</td>\n",
       "    </tr>\n",
       "    <tr>\n",
       "      <th>2135</th>\n",
       "      <td>16754.0</td>\n",
       "      <td>38</td>\n",
       "      <td>39</td>\n",
       "      <td>29</td>\n",
       "      <td>2258.623103</td>\n",
       "      <td>0.641770</td>\n",
       "      <td>2.560710</td>\n",
       "      <td>7.635010</td>\n",
       "      <td>15.145547</td>\n",
       "      <td>2272.463146</td>\n",
       "      <td>18462.920761</td>\n",
       "    </tr>\n",
       "    <tr>\n",
       "      <th>2523</th>\n",
       "      <td>17511.0</td>\n",
       "      <td>52</td>\n",
       "      <td>53</td>\n",
       "      <td>31</td>\n",
       "      <td>2727.134516</td>\n",
       "      <td>0.528781</td>\n",
       "      <td>2.111043</td>\n",
       "      <td>6.302452</td>\n",
       "      <td>12.521833</td>\n",
       "      <td>2742.736145</td>\n",
       "      <td>18397.097645</td>\n",
       "    </tr>\n",
       "    <tr>\n",
       "      <th>2099</th>\n",
       "      <td>16684.0</td>\n",
       "      <td>50</td>\n",
       "      <td>52</td>\n",
       "      <td>27</td>\n",
       "      <td>2981.081852</td>\n",
       "      <td>0.470315</td>\n",
       "      <td>1.877554</td>\n",
       "      <td>5.604814</td>\n",
       "      <td>11.134365</td>\n",
       "      <td>3000.666431</td>\n",
       "      <td>17899.043517</td>\n",
       "    </tr>\n",
       "  </tbody>\n",
       "</table>\n",
       "</div>"
      ],
      "text/plain": [
       "      Customer ID  Recency   T  Frequency     Monetary  \\\n",
       "2827      18102.0       53  53         89  3923.194944   \n",
       "1096      14646.0       51  53         78  3184.570513   \n",
       "2499      17450.0       10  10          7  7488.900000   \n",
       "846       14156.0       52  53        102  1927.124902   \n",
       "1229      14911.0       53  53        205   742.183268   \n",
       "616       13694.0       51  53         94  1398.331809   \n",
       "5         12357.0        0   3          2  6039.995000   \n",
       "2135      16754.0       38  39         29  2258.623103   \n",
       "2523      17511.0       52  53         31  2727.134516   \n",
       "2099      16684.0       50  52         27  2981.081852   \n",
       "\n",
       "      expected_purchases_1_week  expected_purchases_1_month  \\\n",
       "2827                   1.470391                    5.870519   \n",
       "1096                   1.275590                    5.092757   \n",
       "2499                   0.463494                    1.841631   \n",
       "846                    1.675521                    6.689521   \n",
       "1229                   3.351679                   13.381753   \n",
       "616                    1.523035                    6.080708   \n",
       "5                      0.289931                    1.145752   \n",
       "2135                   0.641770                    2.560710   \n",
       "2523                   0.528781                    2.111043   \n",
       "2099                   0.470315                    1.877554   \n",
       "\n",
       "      expected_purchases_3_month  expected_purchases_6_month  \\\n",
       "2827                   17.528369                   34.830960   \n",
       "1096                   15.205961                   30.215705   \n",
       "2499                    5.443225                   10.699733   \n",
       "846                    19.973937                   39.691017   \n",
       "1229                   39.957148                   79.403384   \n",
       "616                    18.156019                   36.078336   \n",
       "5                       3.354750                    6.542492   \n",
       "2135                    7.635010                   15.145547   \n",
       "2523                    6.302452                   12.521833   \n",
       "2099                    5.604814                   11.134365   \n",
       "\n",
       "      expected_average_profit           clv  \n",
       "2827              3930.965384  73333.485586  \n",
       "1096              3191.778523  51654.453242  \n",
       "2499              7681.447972  44454.019599  \n",
       "846               1930.473129  41038.309157  \n",
       "1229               742.835483  31590.069107  \n",
       "616               1400.979333  27071.613592  \n",
       "5                 6621.146066  23596.338614  \n",
       "2135              2272.463146  18462.920761  \n",
       "2523              2742.736145  18397.097645  \n",
       "2099              3000.666431  17899.043517  "
      ]
     },
     "execution_count": 70,
     "metadata": {},
     "output_type": "execute_result"
    }
   ],
   "source": [
    "df_cltv.sort_values(\"clv\", ascending=False).head(10)"
   ]
  },
  {
   "cell_type": "markdown",
   "id": "7ab6532e",
   "metadata": {
    "papermill": {
     "duration": 0.046216,
     "end_time": "2024-06-15T16:14:13.680178",
     "exception": false,
     "start_time": "2024-06-15T16:14:13.633962",
     "status": "completed"
    },
    "tags": []
   },
   "source": [
    "#### Comment:\n",
    "For example, customer ID: 14911 has made purchases at higher frequencies with lower prices (Monetary: 742.18).\n",
    "\n",
    "How do these customers with such high Recency values promise the highest value?\n",
    "\n",
    "According to the BG/NBD theory, for a customer who is regular for you, as the Recency value increases (user-specific, within itself), the likelihood of the customer making a purchase approaches. There was partial churn after each transaction. In other words, after each transaction, the urge to purchase is satisfied, the need is met, and there is a drop. Until the need to purchase re-emerges.\n",
    "\n",
    "For example, let's consider Customer ID: 17450. Its Frequency is low, its Age (T) is low, but it promises very high potential as it ranks in the top 3.\n",
    "\n",
    "It provides us with valuable information up to those with low profitability."
   ]
  },
  {
   "cell_type": "markdown",
   "id": "20854463",
   "metadata": {
    "papermill": {
     "duration": 0.045388,
     "end_time": "2024-06-15T16:14:13.771290",
     "exception": false,
     "start_time": "2024-06-15T16:14:13.725902",
     "status": "completed"
    },
    "tags": []
   },
   "source": [
    "### Creating Segments Based on CLTV (Customer Lifetime Value)"
   ]
  },
  {
   "cell_type": "code",
   "execution_count": 71,
   "id": "51999165",
   "metadata": {
    "execution": {
     "iopub.execute_input": "2024-06-15T16:14:13.863965Z",
     "iopub.status.busy": "2024-06-15T16:14:13.863562Z",
     "iopub.status.idle": "2024-06-15T16:14:13.874940Z",
     "shell.execute_reply": "2024-06-15T16:14:13.873596Z"
    },
    "papermill": {
     "duration": 0.061686,
     "end_time": "2024-06-15T16:14:13.877787",
     "exception": false,
     "start_time": "2024-06-15T16:14:13.816101",
     "status": "completed"
    },
    "tags": []
   },
   "outputs": [],
   "source": [
    "df_cltv[\"Segment\"] = pd.qcut(df_cltv[\"clv\"], 4, labels=[\"D\",\"C\",\"B\",\"A\"])"
   ]
  },
  {
   "cell_type": "code",
   "execution_count": 72,
   "id": "c0d0d90d",
   "metadata": {
    "execution": {
     "iopub.execute_input": "2024-06-15T16:14:13.969703Z",
     "iopub.status.busy": "2024-06-15T16:14:13.969297Z",
     "iopub.status.idle": "2024-06-15T16:14:13.994014Z",
     "shell.execute_reply": "2024-06-15T16:14:13.992883Z"
    },
    "papermill": {
     "duration": 0.073043,
     "end_time": "2024-06-15T16:14:13.996671",
     "exception": false,
     "start_time": "2024-06-15T16:14:13.923628",
     "status": "completed"
    },
    "tags": []
   },
   "outputs": [
    {
     "data": {
      "text/html": [
       "<div>\n",
       "<style scoped>\n",
       "    .dataframe tbody tr th:only-of-type {\n",
       "        vertical-align: middle;\n",
       "    }\n",
       "\n",
       "    .dataframe tbody tr th {\n",
       "        vertical-align: top;\n",
       "    }\n",
       "\n",
       "    .dataframe thead th {\n",
       "        text-align: right;\n",
       "    }\n",
       "</style>\n",
       "<table border=\"1\" class=\"dataframe\">\n",
       "  <thead>\n",
       "    <tr style=\"text-align: right;\">\n",
       "      <th></th>\n",
       "      <th>Customer ID</th>\n",
       "      <th>Recency</th>\n",
       "      <th>T</th>\n",
       "      <th>Frequency</th>\n",
       "      <th>Monetary</th>\n",
       "      <th>expected_purchases_1_week</th>\n",
       "      <th>expected_purchases_1_month</th>\n",
       "      <th>expected_purchases_3_month</th>\n",
       "      <th>expected_purchases_6_month</th>\n",
       "      <th>expected_average_profit</th>\n",
       "      <th>clv</th>\n",
       "      <th>Segment</th>\n",
       "    </tr>\n",
       "  </thead>\n",
       "  <tbody>\n",
       "    <tr>\n",
       "      <th>2892</th>\n",
       "      <td>18287.0</td>\n",
       "      <td>26</td>\n",
       "      <td>29</td>\n",
       "      <td>4</td>\n",
       "      <td>586.427500</td>\n",
       "      <td>0.148115</td>\n",
       "      <td>0.590246</td>\n",
       "      <td>1.754911</td>\n",
       "      <td>3.469947</td>\n",
       "      <td>614.227488</td>\n",
       "      <td>1146.693942</td>\n",
       "      <td>A</td>\n",
       "    </tr>\n",
       "    <tr>\n",
       "      <th>1132</th>\n",
       "      <td>14708.0</td>\n",
       "      <td>12</td>\n",
       "      <td>13</td>\n",
       "      <td>3</td>\n",
       "      <td>361.970000</td>\n",
       "      <td>0.212540</td>\n",
       "      <td>0.844600</td>\n",
       "      <td>2.496771</td>\n",
       "      <td>4.908331</td>\n",
       "      <td>385.707707</td>\n",
       "      <td>1023.891306</td>\n",
       "      <td>A</td>\n",
       "    </tr>\n",
       "    <tr>\n",
       "      <th>2644</th>\n",
       "      <td>17732.0</td>\n",
       "      <td>16</td>\n",
       "      <td>17</td>\n",
       "      <td>8</td>\n",
       "      <td>270.802500</td>\n",
       "      <td>0.374458</td>\n",
       "      <td>1.490501</td>\n",
       "      <td>4.420770</td>\n",
       "      <td>8.719111</td>\n",
       "      <td>277.333704</td>\n",
       "      <td>1303.940457</td>\n",
       "      <td>A</td>\n",
       "    </tr>\n",
       "    <tr>\n",
       "      <th>1144</th>\n",
       "      <td>14733.0</td>\n",
       "      <td>4</td>\n",
       "      <td>5</td>\n",
       "      <td>4</td>\n",
       "      <td>1649.765000</td>\n",
       "      <td>0.408628</td>\n",
       "      <td>1.619069</td>\n",
       "      <td>4.761326</td>\n",
       "      <td>9.318217</td>\n",
       "      <td>1726.209161</td>\n",
       "      <td>8734.437236</td>\n",
       "      <td>A</td>\n",
       "    </tr>\n",
       "    <tr>\n",
       "      <th>1146</th>\n",
       "      <td>14735.0</td>\n",
       "      <td>49</td>\n",
       "      <td>53</td>\n",
       "      <td>24</td>\n",
       "      <td>257.269583</td>\n",
       "      <td>0.410077</td>\n",
       "      <td>1.637108</td>\n",
       "      <td>4.887280</td>\n",
       "      <td>9.709511</td>\n",
       "      <td>259.315280</td>\n",
       "      <td>1348.803002</td>\n",
       "      <td>A</td>\n",
       "    </tr>\n",
       "    <tr>\n",
       "      <th>...</th>\n",
       "      <td>...</td>\n",
       "      <td>...</td>\n",
       "      <td>...</td>\n",
       "      <td>...</td>\n",
       "      <td>...</td>\n",
       "      <td>...</td>\n",
       "      <td>...</td>\n",
       "      <td>...</td>\n",
       "      <td>...</td>\n",
       "      <td>...</td>\n",
       "      <td>...</td>\n",
       "      <td>...</td>\n",
       "    </tr>\n",
       "    <tr>\n",
       "      <th>1611</th>\n",
       "      <td>15714.0</td>\n",
       "      <td>14</td>\n",
       "      <td>27</td>\n",
       "      <td>3</td>\n",
       "      <td>151.310000</td>\n",
       "      <td>0.110162</td>\n",
       "      <td>0.438835</td>\n",
       "      <td>1.303647</td>\n",
       "      <td>2.575313</td>\n",
       "      <td>161.999403</td>\n",
       "      <td>224.646247</td>\n",
       "      <td>D</td>\n",
       "    </tr>\n",
       "    <tr>\n",
       "      <th>1612</th>\n",
       "      <td>15715.0</td>\n",
       "      <td>9</td>\n",
       "      <td>36</td>\n",
       "      <td>5</td>\n",
       "      <td>131.604000</td>\n",
       "      <td>0.017077</td>\n",
       "      <td>0.068097</td>\n",
       "      <td>0.202762</td>\n",
       "      <td>0.401577</td>\n",
       "      <td>137.147930</td>\n",
       "      <td>29.587371</td>\n",
       "      <td>D</td>\n",
       "    </tr>\n",
       "    <tr>\n",
       "      <th>1614</th>\n",
       "      <td>15717.0</td>\n",
       "      <td>24</td>\n",
       "      <td>32</td>\n",
       "      <td>4</td>\n",
       "      <td>114.175000</td>\n",
       "      <td>0.132654</td>\n",
       "      <td>0.528776</td>\n",
       "      <td>1.573050</td>\n",
       "      <td>3.112320</td>\n",
       "      <td>120.370998</td>\n",
       "      <td>201.443676</td>\n",
       "      <td>D</td>\n",
       "    </tr>\n",
       "    <tr>\n",
       "      <th>1620</th>\n",
       "      <td>15729.0</td>\n",
       "      <td>0</td>\n",
       "      <td>5</td>\n",
       "      <td>2</td>\n",
       "      <td>53.775000</td>\n",
       "      <td>0.229594</td>\n",
       "      <td>0.908714</td>\n",
       "      <td>2.667201</td>\n",
       "      <td>5.211285</td>\n",
       "      <td>60.969940</td>\n",
       "      <td>172.786770</td>\n",
       "      <td>D</td>\n",
       "    </tr>\n",
       "    <tr>\n",
       "      <th>1446</th>\n",
       "      <td>15362.0</td>\n",
       "      <td>41</td>\n",
       "      <td>53</td>\n",
       "      <td>2</td>\n",
       "      <td>306.540000</td>\n",
       "      <td>0.056314</td>\n",
       "      <td>0.224668</td>\n",
       "      <td>0.669644</td>\n",
       "      <td>1.327767</td>\n",
       "      <td>337.969936</td>\n",
       "      <td>240.823592</td>\n",
       "      <td>D</td>\n",
       "    </tr>\n",
       "  </tbody>\n",
       "</table>\n",
       "<p>2893 rows × 12 columns</p>\n",
       "</div>"
      ],
      "text/plain": [
       "      Customer ID  Recency   T  Frequency     Monetary  \\\n",
       "2892      18287.0       26  29          4   586.427500   \n",
       "1132      14708.0       12  13          3   361.970000   \n",
       "2644      17732.0       16  17          8   270.802500   \n",
       "1144      14733.0        4   5          4  1649.765000   \n",
       "1146      14735.0       49  53         24   257.269583   \n",
       "...           ...      ...  ..        ...          ...   \n",
       "1611      15714.0       14  27          3   151.310000   \n",
       "1612      15715.0        9  36          5   131.604000   \n",
       "1614      15717.0       24  32          4   114.175000   \n",
       "1620      15729.0        0   5          2    53.775000   \n",
       "1446      15362.0       41  53          2   306.540000   \n",
       "\n",
       "      expected_purchases_1_week  expected_purchases_1_month  \\\n",
       "2892                   0.148115                    0.590246   \n",
       "1132                   0.212540                    0.844600   \n",
       "2644                   0.374458                    1.490501   \n",
       "1144                   0.408628                    1.619069   \n",
       "1146                   0.410077                    1.637108   \n",
       "...                         ...                         ...   \n",
       "1611                   0.110162                    0.438835   \n",
       "1612                   0.017077                    0.068097   \n",
       "1614                   0.132654                    0.528776   \n",
       "1620                   0.229594                    0.908714   \n",
       "1446                   0.056314                    0.224668   \n",
       "\n",
       "      expected_purchases_3_month  expected_purchases_6_month  \\\n",
       "2892                    1.754911                    3.469947   \n",
       "1132                    2.496771                    4.908331   \n",
       "2644                    4.420770                    8.719111   \n",
       "1144                    4.761326                    9.318217   \n",
       "1146                    4.887280                    9.709511   \n",
       "...                          ...                         ...   \n",
       "1611                    1.303647                    2.575313   \n",
       "1612                    0.202762                    0.401577   \n",
       "1614                    1.573050                    3.112320   \n",
       "1620                    2.667201                    5.211285   \n",
       "1446                    0.669644                    1.327767   \n",
       "\n",
       "      expected_average_profit          clv Segment  \n",
       "2892               614.227488  1146.693942       A  \n",
       "1132               385.707707  1023.891306       A  \n",
       "2644               277.333704  1303.940457       A  \n",
       "1144              1726.209161  8734.437236       A  \n",
       "1146               259.315280  1348.803002       A  \n",
       "...                       ...          ...     ...  \n",
       "1611               161.999403   224.646247       D  \n",
       "1612               137.147930    29.587371       D  \n",
       "1614               120.370998   201.443676       D  \n",
       "1620                60.969940   172.786770       D  \n",
       "1446               337.969936   240.823592       D  \n",
       "\n",
       "[2893 rows x 12 columns]"
      ]
     },
     "execution_count": 72,
     "metadata": {},
     "output_type": "execute_result"
    }
   ],
   "source": [
    "df_cltv.sort_values(\"Segment\", ascending=False)"
   ]
  },
  {
   "cell_type": "code",
   "execution_count": 73,
   "id": "8418e641",
   "metadata": {
    "execution": {
     "iopub.execute_input": "2024-06-15T16:14:14.088830Z",
     "iopub.status.busy": "2024-06-15T16:14:14.088385Z",
     "iopub.status.idle": "2024-06-15T16:14:14.138285Z",
     "shell.execute_reply": "2024-06-15T16:14:14.137153Z"
    },
    "papermill": {
     "duration": 0.098693,
     "end_time": "2024-06-15T16:14:14.140822",
     "exception": false,
     "start_time": "2024-06-15T16:14:14.042129",
     "status": "completed"
    },
    "tags": []
   },
   "outputs": [
    {
     "data": {
      "text/html": [
       "<div>\n",
       "<style scoped>\n",
       "    .dataframe tbody tr th:only-of-type {\n",
       "        vertical-align: middle;\n",
       "    }\n",
       "\n",
       "    .dataframe tbody tr th {\n",
       "        vertical-align: top;\n",
       "    }\n",
       "\n",
       "    .dataframe thead tr th {\n",
       "        text-align: left;\n",
       "    }\n",
       "\n",
       "    .dataframe thead tr:last-of-type th {\n",
       "        text-align: right;\n",
       "    }\n",
       "</style>\n",
       "<table border=\"1\" class=\"dataframe\">\n",
       "  <thead>\n",
       "    <tr>\n",
       "      <th></th>\n",
       "      <th colspan=\"3\" halign=\"left\">Customer ID</th>\n",
       "      <th colspan=\"3\" halign=\"left\">Recency</th>\n",
       "      <th colspan=\"3\" halign=\"left\">T</th>\n",
       "      <th>Frequency</th>\n",
       "      <th>...</th>\n",
       "      <th>expected_purchases_3_month</th>\n",
       "      <th colspan=\"3\" halign=\"left\">expected_purchases_6_month</th>\n",
       "      <th colspan=\"3\" halign=\"left\">expected_average_profit</th>\n",
       "      <th colspan=\"3\" halign=\"left\">clv</th>\n",
       "    </tr>\n",
       "    <tr>\n",
       "      <th></th>\n",
       "      <th>count</th>\n",
       "      <th>mean</th>\n",
       "      <th>sum</th>\n",
       "      <th>count</th>\n",
       "      <th>mean</th>\n",
       "      <th>sum</th>\n",
       "      <th>count</th>\n",
       "      <th>mean</th>\n",
       "      <th>sum</th>\n",
       "      <th>count</th>\n",
       "      <th>...</th>\n",
       "      <th>sum</th>\n",
       "      <th>count</th>\n",
       "      <th>mean</th>\n",
       "      <th>sum</th>\n",
       "      <th>count</th>\n",
       "      <th>mean</th>\n",
       "      <th>sum</th>\n",
       "      <th>count</th>\n",
       "      <th>mean</th>\n",
       "      <th>sum</th>\n",
       "    </tr>\n",
       "    <tr>\n",
       "      <th>Segment</th>\n",
       "      <th></th>\n",
       "      <th></th>\n",
       "      <th></th>\n",
       "      <th></th>\n",
       "      <th></th>\n",
       "      <th></th>\n",
       "      <th></th>\n",
       "      <th></th>\n",
       "      <th></th>\n",
       "      <th></th>\n",
       "      <th></th>\n",
       "      <th></th>\n",
       "      <th></th>\n",
       "      <th></th>\n",
       "      <th></th>\n",
       "      <th></th>\n",
       "      <th></th>\n",
       "      <th></th>\n",
       "      <th></th>\n",
       "      <th></th>\n",
       "      <th></th>\n",
       "    </tr>\n",
       "  </thead>\n",
       "  <tbody>\n",
       "    <tr>\n",
       "      <th>D</th>\n",
       "      <td>724</td>\n",
       "      <td>15572.567680</td>\n",
       "      <td>11274539.0</td>\n",
       "      <td>724</td>\n",
       "      <td>22.091160</td>\n",
       "      <td>15994</td>\n",
       "      <td>724</td>\n",
       "      <td>40.935083</td>\n",
       "      <td>29637</td>\n",
       "      <td>724</td>\n",
       "      <td>...</td>\n",
       "      <td>560.491328</td>\n",
       "      <td>724</td>\n",
       "      <td>1.532005</td>\n",
       "      <td>1109.171863</td>\n",
       "      <td>724</td>\n",
       "      <td>220.065746</td>\n",
       "      <td>159327.600118</td>\n",
       "      <td>724</td>\n",
       "      <td>145.976687</td>\n",
       "      <td>1.056871e+05</td>\n",
       "    </tr>\n",
       "    <tr>\n",
       "      <th>C</th>\n",
       "      <td>723</td>\n",
       "      <td>15411.983402</td>\n",
       "      <td>11142864.0</td>\n",
       "      <td>723</td>\n",
       "      <td>29.712310</td>\n",
       "      <td>21482</td>\n",
       "      <td>723</td>\n",
       "      <td>37.408022</td>\n",
       "      <td>27046</td>\n",
       "      <td>723</td>\n",
       "      <td>...</td>\n",
       "      <td>1056.118156</td>\n",
       "      <td>723</td>\n",
       "      <td>2.889247</td>\n",
       "      <td>2088.925876</td>\n",
       "      <td>723</td>\n",
       "      <td>305.930911</td>\n",
       "      <td>221188.048782</td>\n",
       "      <td>723</td>\n",
       "      <td>393.375214</td>\n",
       "      <td>2.844103e+05</td>\n",
       "    </tr>\n",
       "    <tr>\n",
       "      <th>B</th>\n",
       "      <td>723</td>\n",
       "      <td>15285.835408</td>\n",
       "      <td>11051659.0</td>\n",
       "      <td>723</td>\n",
       "      <td>29.744122</td>\n",
       "      <td>21505</td>\n",
       "      <td>723</td>\n",
       "      <td>35.188105</td>\n",
       "      <td>25441</td>\n",
       "      <td>723</td>\n",
       "      <td>...</td>\n",
       "      <td>1418.404701</td>\n",
       "      <td>723</td>\n",
       "      <td>3.877331</td>\n",
       "      <td>2803.310108</td>\n",
       "      <td>723</td>\n",
       "      <td>412.068938</td>\n",
       "      <td>297925.841995</td>\n",
       "      <td>723</td>\n",
       "      <td>704.985045</td>\n",
       "      <td>5.097042e+05</td>\n",
       "    </tr>\n",
       "    <tr>\n",
       "      <th>A</th>\n",
       "      <td>723</td>\n",
       "      <td>15132.695712</td>\n",
       "      <td>10940939.0</td>\n",
       "      <td>723</td>\n",
       "      <td>30.918396</td>\n",
       "      <td>22354</td>\n",
       "      <td>723</td>\n",
       "      <td>34.655602</td>\n",
       "      <td>25056</td>\n",
       "      <td>723</td>\n",
       "      <td>...</td>\n",
       "      <td>2466.444926</td>\n",
       "      <td>723</td>\n",
       "      <td>6.747952</td>\n",
       "      <td>4878.769074</td>\n",
       "      <td>723</td>\n",
       "      <td>712.262334</td>\n",
       "      <td>514965.667534</td>\n",
       "      <td>723</td>\n",
       "      <td>2456.435215</td>\n",
       "      <td>1.776003e+06</td>\n",
       "    </tr>\n",
       "  </tbody>\n",
       "</table>\n",
       "<p>4 rows × 33 columns</p>\n",
       "</div>"
      ],
      "text/plain": [
       "        Customer ID                           Recency                       T  \\\n",
       "              count          mean         sum   count       mean    sum count   \n",
       "Segment                                                                         \n",
       "D               724  15572.567680  11274539.0     724  22.091160  15994   724   \n",
       "C               723  15411.983402  11142864.0     723  29.712310  21482   723   \n",
       "B               723  15285.835408  11051659.0     723  29.744122  21505   723   \n",
       "A               723  15132.695712  10940939.0     723  30.918396  22354   723   \n",
       "\n",
       "                          Frequency  ... expected_purchases_3_month  \\\n",
       "              mean    sum     count  ...                        sum   \n",
       "Segment                              ...                              \n",
       "D        40.935083  29637       724  ...                 560.491328   \n",
       "C        37.408022  27046       723  ...                1056.118156   \n",
       "B        35.188105  25441       723  ...                1418.404701   \n",
       "A        34.655602  25056       723  ...                2466.444926   \n",
       "\n",
       "        expected_purchases_6_month                         \\\n",
       "                             count      mean          sum   \n",
       "Segment                                                     \n",
       "D                              724  1.532005  1109.171863   \n",
       "C                              723  2.889247  2088.925876   \n",
       "B                              723  3.877331  2803.310108   \n",
       "A                              723  6.747952  4878.769074   \n",
       "\n",
       "        expected_average_profit                              clv               \\\n",
       "                          count        mean            sum count         mean   \n",
       "Segment                                                                         \n",
       "D                           724  220.065746  159327.600118   724   145.976687   \n",
       "C                           723  305.930911  221188.048782   723   393.375214   \n",
       "B                           723  412.068938  297925.841995   723   704.985045   \n",
       "A                           723  712.262334  514965.667534   723  2456.435215   \n",
       "\n",
       "                       \n",
       "                  sum  \n",
       "Segment                \n",
       "D        1.056871e+05  \n",
       "C        2.844103e+05  \n",
       "B        5.097042e+05  \n",
       "A        1.776003e+06  \n",
       "\n",
       "[4 rows x 33 columns]"
      ]
     },
     "execution_count": 73,
     "metadata": {},
     "output_type": "execute_result"
    }
   ],
   "source": [
    "df_cltv.groupby(\"Segment\").agg(['count','mean','sum'])"
   ]
  },
  {
   "cell_type": "code",
   "execution_count": 74,
   "id": "e062057b",
   "metadata": {
    "execution": {
     "iopub.execute_input": "2024-06-15T16:14:14.232289Z",
     "iopub.status.busy": "2024-06-15T16:14:14.231874Z",
     "iopub.status.idle": "2024-06-15T16:14:14.729234Z",
     "shell.execute_reply": "2024-06-15T16:14:14.728080Z"
    },
    "papermill": {
     "duration": 0.546663,
     "end_time": "2024-06-15T16:14:14.732124",
     "exception": false,
     "start_time": "2024-06-15T16:14:14.185461",
     "status": "completed"
    },
    "tags": []
   },
   "outputs": [
    {
     "data": {
      "image/png": "[encoded data removed]",
      "text/plain": [
       "<Figure size 640x480 with 1 Axes>"
      ]
     },
     "metadata": {},
     "output_type": "display_data"
    }
   ],
   "source": [
    "sns.scatterplot(df_cltv, x=\"expected_purchases_6_month\", y=\"Monetary\", hue=\"Segment\")\n",
    "plt.show()"
   ]
  },
  {
   "cell_type": "code",
   "execution_count": 75,
   "id": "479457d5",
   "metadata": {
    "execution": {
     "iopub.execute_input": "2024-06-15T16:14:14.837872Z",
     "iopub.status.busy": "2024-06-15T16:14:14.837448Z",
     "iopub.status.idle": "2024-06-15T16:14:17.206614Z",
     "shell.execute_reply": "2024-06-15T16:14:17.205478Z"
    },
    "papermill": {
     "duration": 2.425556,
     "end_time": "2024-06-15T16:14:17.209086",
     "exception": false,
     "start_time": "2024-06-15T16:14:14.783530",
     "status": "completed"
    },
    "tags": []
   },
   "outputs": [
    {
     "data": {
      "image/png": "[encoded data removed]",
      "text/plain": [
       "<Figure size 640x480 with 1 Axes>"
      ]
     },
     "metadata": {},
     "output_type": "display_data"
    }
   ],
   "source": [
    "sns.histplot(df_cltv, x=\"Monetary\", hue=\"Segment\")\n",
    "plt.show()"
   ]
  },
  {
   "cell_type": "markdown",
   "id": "71a222c2",
   "metadata": {
    "papermill": {
     "duration": 0.046193,
     "end_time": "2024-06-15T16:14:17.301507",
     "exception": false,
     "start_time": "2024-06-15T16:14:17.255314",
     "status": "completed"
    },
    "tags": []
   },
   "source": [
    "#### Analysis Results:\n",
    "The results of CLTV and CLTV prediction represent the value of a customer to a business. However, this value is not expressed in terms of money. Instead, it represents the revenue that a customer brings to the business.\n",
    "\n",
    "CLTV is used to determine the current or potential value of a customer. This value represents an estimated amount of the revenue a customer is expected to generate for the business. For example, a customer's CLTV value might be 500 units, indicating that the customer is expected to bring 500 units of revenue to the business.\n",
    "\n",
    "CLTV prediction aims to forecast the future customer value. These predictions include an estimate of the revenue a customer is expected to bring in the future, based on their future purchasing habits, loyalty, and expected revenue generation. CLTV predictions are also revenue estimates, expressed in a specific currency or monetary amount.\n",
    "\n",
    "In summary, CLTV and CLTV predictions are metrics that measure the revenue generated for a business, but they are not directly expressed as a specific amount of money.\n",
    "\n",
    "----\n",
    "\n",
    "#### CLTV\n",
    "\n",
    "- CLTV calculation represents a single time period. It represents the time frame in which the analysis is conducted.\n",
    "- Total Price is the dominant factor and overshadows the impact of purchase frequency.\n",
    "- Once it has brought in the same revenue, the number of transactions is not significant.\n",
    "- Churn Rate is revenue from the entire customer base, not individual, which is a drawback.\n",
    "- Profit Margin is revenue from the entire customer base, not individual, which is a drawback.\n",
    "\n",
    "----\n",
    "\n",
    "- Segment A consists of high-value customers who make frequent purchases.\n",
    "\n",
    "- Segment B also has good spending but slightly lower frequency.\n",
    "\n",
    "- Segment C has moderate spending and frequency.\n",
    "\n",
    "- Segment D represents customers with the lowest recency, frequency, and spending.\n",
    "\n",
    "Consider tailoring marketing strategies based on these segments. For example:\n",
    "\n",
    "- For Segment A, focus on retention and upselling.\n",
    "\n",
    "- For Segment B, encourage repeat purchases.\n",
    "\n",
    "- For Segment C, consider targeted promotions.\n",
    "\n",
    "- For Segment D, re-engage with personalized offers.\n",
    "\n",
    "Remember to validate these conclusions with additional analysis and domain knowledge specific to your business context. "
   ]
  },
  {
   "cell_type": "code",
   "execution_count": null,
   "id": "95f5d38f",
   "metadata": {
    "papermill": {
     "duration": 0.045944,
     "end_time": "2024-06-15T16:14:17.394186",
     "exception": false,
     "start_time": "2024-06-15T16:14:17.348242",
     "status": "completed"
    },
    "tags": []
   },
   "outputs": [],
   "source": []
  }
 ],
 "metadata": {
  "kaggle": {
   "accelerator": "none",
   "dataSources": [
    {
     "datasetId": 5187337,
     "sourceId": 8658489,
     "sourceType": "datasetVersion"
    }
   ],
   "dockerImageVersionId": 30732,
   "isGpuEnabled": false,
   "isInternetEnabled": true,
   "language": "python",
   "sourceType": "notebook"
  },
  "kernelspec": {
   "display_name": "Python 3",
   "language": "python",
   "name": "python3"
  },
  "language_info": {
   "codemirror_mode": {
    "name": "ipython",
    "version": 3
   },
   "file_extension": ".py",
   "mimetype": "text/x-python",
   "name": "python",
   "nbconvert_exporter": "python",
   "pygments_lexer": "ipython3",
   "version": "3.10.13"
  },
  "papermill": {
   "default_parameters": {},
   "duration": 156.242211,
   "end_time": "2024-06-15T16:14:18.364350",
   "environment_variables": {},
   "exception": null,
   "input_path": "__notebook__.ipynb",
   "output_path": "__notebook__.ipynb",
   "parameters": {},
   "start_time": "2024-06-15T16:11:42.122139",
   "version": "2.5.0"
  }
 },
 "nbformat": 4,
 "nbformat_minor": 5
}
